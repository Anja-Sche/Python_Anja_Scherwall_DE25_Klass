{
 "cells": [
  {
   "cell_type": "markdown",
   "id": "2e82909f",
   "metadata": {},
   "source": [
<<<<<<< HEAD
    "# "
=======
    "# Input and output\n"
   ]
  },
  {
   "cell_type": "code",
   "execution_count": null,
   "id": "43381ec4",
   "metadata": {},
   "outputs": [],
   "source": [
    "# This is a cell in an ipynb file "
>>>>>>> f933d1fe8c3e2c689d1363e704142c6fb274f3a0
   ]
  },
  {
   "cell_type": "markdown",
<<<<<<< HEAD
   "id": "df380b16",
   "metadata": {},
   "source": [
    "test"
=======
   "id": "5df16da2",
   "metadata": {},
   "source": [
    "### Print statement"
   ]
  },
  {
   "cell_type": "markdown",
   "id": "e33fa8da",
   "metadata": {},
   "source": [
    "To print out srting"
   ]
  },
  {
   "cell_type": "code",
   "execution_count": null,
   "id": "286ce7e4",
   "metadata": {},
   "outputs": [],
   "source": [
    "print(\"Hello world\")"
   ]
  },
  {
   "cell_type": "markdown",
   "id": "05adb2bf",
   "metadata": {},
   "source": [
    "To print out string and variables"
   ]
  },
  {
   "cell_type": "code",
   "execution_count": null,
   "id": "b4fed40d",
   "metadata": {},
   "outputs": [],
   "source": [
    "name = \"Anja\"\n",
    "\n",
    "print(f\"Hello {name}\")"
   ]
  },
  {
   "cell_type": "markdown",
   "id": "faf6b1ce",
   "metadata": {},
   "source": [
    "### Variables\n",
    "- you can store different types of data in the variable --> assigning value to variable\n",
    "- we can use the data by refering to the variable instead\n",
    "- in lecture 4, we will see variable storing one value, even tho the value can be different types\n",
    "- in lecture 4, we will see that we can store a collection of values"
   ]
  },
  {
   "cell_type": "markdown",
   "id": "36aa24bc",
   "metadata": {},
   "source": [
    "##### create and print out variables with different data typers"
   ]
  },
  {
   "cell_type": "code",
   "execution_count": null,
   "id": "8ba08515",
   "metadata": {},
   "outputs": [
    {
     "name": "stdout",
     "output_type": "stream",
     "text": [
      "Hi, my name is Anja. My height is 170cm, or mor specifically 170.2cm\n"
     ]
    }
   ],
   "source": [
    "first_name = \"Anja\" #String\n",
    "\n",
    "height = 170 #Numeric\n",
    "\n",
    "exact_height = 170.209971 #float, number w decimal\n",
    "\n",
    "print(f\"Hi, my name is {first_name}. My height is {height}cm, or mor specifically {exact_height:.1f}cm\")\n",
    "# use colon to seperate the variable and the choice of format\n",
    "# .1f means 'after the integer' keep 1 decimal. (f referes to fixed point numbe= float number)"
   ]
  },
  {
   "cell_type": "markdown",
   "id": "0e7bb87a",
   "metadata": {},
   "source": [
    "Datat type boolean"
   ]
  },
  {
   "cell_type": "code",
   "execution_count": 35,
   "id": "ca85a4d4",
   "metadata": {},
   "outputs": [],
   "source": [
    "# str\n",
    "name = \"Anja\"\n",
    "\n",
    "# int\n",
    "height = 170\n",
    "\n",
    "# float\n",
    "exact_height = 170.2\n",
    "\n",
    "# bool\n",
    "is_teacher = True #alternativley, we can put False sor a boolean value"
   ]
  },
  {
   "cell_type": "code",
   "execution_count": 36,
   "id": "962339d4",
   "metadata": {},
   "outputs": [
    {
     "data": {
      "text/plain": [
       "bool"
      ]
     },
     "execution_count": 36,
     "metadata": {},
     "output_type": "execute_result"
    }
   ],
   "source": [
    "# check the data type of a variable\n",
    "type(is_teacher)"
   ]
  },
  {
   "cell_type": "markdown",
   "id": "2e7eb614",
   "metadata": {},
   "source": [
    "### Input from users\n",
    "How to code so that the value of the variable is decided after I run the code"
   ]
  },
  {
   "cell_type": "code",
   "execution_count": 9,
   "id": "22e2004f",
   "metadata": {},
   "outputs": [
    {
     "name": "stdout",
     "output_type": "stream",
     "text": [
      "Hello Anja\n"
     ]
    }
   ],
   "source": [
    "name = input(\"What is your name?\")\n",
    "\n",
    "print(f\"Hello {name}\")"
   ]
  },
  {
   "cell_type": "code",
   "execution_count": 19,
   "id": "7390507f",
   "metadata": {},
   "outputs": [],
   "source": [
    "age = input(\"What is your age?\")"
   ]
  },
  {
   "cell_type": "code",
   "execution_count": 21,
   "id": "02099318",
   "metadata": {},
   "outputs": [
    {
     "data": {
      "text/plain": [
       "str"
      ]
     },
     "execution_count": 21,
     "metadata": {},
     "output_type": "execute_result"
    }
   ],
   "source": [
    "type(age)"
   ]
  },
  {
   "cell_type": "markdown",
   "id": "7529a54d",
   "metadata": {},
   "source": [
    "### Type coersion\n",
    "- Convreting a data type frome one to another \n",
    "- Applys on veriables in general, not only in input function"
   ]
  },
  {
   "cell_type": "code",
   "execution_count": 29,
   "id": "82899299",
   "metadata": {},
   "outputs": [
    {
     "name": "stdout",
     "output_type": "stream",
     "text": [
      "<class 'str'>\n",
      "7\n"
     ]
    }
   ],
   "source": [
    "#as by default, .ipynb file cells only shows output from the last line of code, you can use print() to print out other lines\n",
    "print(type(age))\n",
    "\n",
    "# compare the following two lines, they show print() function is not showing the exact value of this variable \n",
    "print(age)"
   ]
  },
  {
   "cell_type": "code",
   "execution_count": null,
   "id": "0aadd33a",
   "metadata": {},
   "outputs": [
    {
     "data": {
      "text/plain": [
       "int"
      ]
     },
     "execution_count": 30,
     "metadata": {},
     "output_type": "execute_result"
    }
   ],
   "source": [
    "# Convert to int and create a new variable\n",
    "age_int = int(age)\n",
    "\n",
    "# Check resultting data for age_int, the variable after type coertion\n",
    "type(age_int)"
   ]
  },
  {
   "cell_type": "code",
   "execution_count": 31,
   "id": "e08e4254",
   "metadata": {},
   "outputs": [
    {
     "data": {
      "text/plain": [
       "int"
      ]
     },
     "execution_count": 31,
     "metadata": {},
     "output_type": "execute_result"
    }
   ],
   "source": [
    "# Convert to int and overwrite the existing variable\n",
    "age = int(age)\n",
    "\n",
    "type(age)"
>>>>>>> f933d1fe8c3e2c689d1363e704142c6fb274f3a0
   ]
  }
 ],
 "metadata": {
  "kernelspec": {
   "display_name": "Python_Anja_Scherwall_DE25_Klass",
   "language": "python",
   "name": "python3"
  },
  "language_info": {
   "codemirror_mode": {
    "name": "ipython",
    "version": 3
   },
   "file_extension": ".py",
   "mimetype": "text/x-python",
   "name": "python",
   "nbconvert_exporter": "python",
   "pygments_lexer": "ipython3",
   "version": "3.12.10"
  }
 },
 "nbformat": 4,
 "nbformat_minor": 5
}
