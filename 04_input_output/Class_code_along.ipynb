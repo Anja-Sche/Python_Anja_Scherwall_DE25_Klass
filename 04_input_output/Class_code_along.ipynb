{
 "cells": [
  {
   "cell_type": "markdown",
   "id": "2e82909f",
   "metadata": {},
   "source": [
    "# Hej"
   ]
  }
 ],
 "metadata": {
  "kernelspec": {
   "display_name": "Python_Anja_Scherwall_DE25_Klass (3.12.10)",
   "language": "python",
   "name": "python3"
  },
  "language_info": {
   "name": "python",
   "version": "3.12.10"
  }
 },
 "nbformat": 4,
 "nbformat_minor": 5
}
