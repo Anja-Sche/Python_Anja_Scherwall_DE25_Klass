{
 "cells": [
  {
   "cell_type": "markdown",
   "id": "9f818779",
   "metadata": {},
   "source": [
    "# Dictionary"
   ]
  },
  {
   "cell_type": "code",
   "execution_count": 16,
   "id": "c2f18d1b",
   "metadata": {},
   "outputs": [
    {
     "data": {
      "text/plain": [
       "{'name': 'Anja',\n",
       " 'age': 27,\n",
       " 'work': 'Student',\n",
       " 'pet': 'none',\n",
       " 'interests': ['Videogames, food, baking']}"
      ]
     },
     "execution_count": 16,
     "metadata": {},
     "output_type": "execute_result"
    }
   ],
   "source": [
    "person = dict(\n",
    "    name=\"Anja\",\n",
    "    age=27,\n",
    "    work=\"Student\",\n",
    "    pet=\"none\",\n",
    "    interests=[\"Videogames, food, baking\"],\n",
    ")\n",
    "\n",
    "\n",
    "person"
   ]
  },
  {
   "cell_type": "code",
   "execution_count": 2,
   "id": "ce6c8664",
   "metadata": {},
   "outputs": [
    {
     "data": {
      "text/plain": [
       "{'x': 23, 'y': 43.2}"
      ]
     },
     "execution_count": 2,
     "metadata": {},
     "output_type": "execute_result"
    }
   ],
   "source": [
    "coordinates = {\"x\": 23, \"y\": 43.2}\n",
    "coordinates"
   ]
  },
  {
   "cell_type": "code",
   "execution_count": 4,
   "id": "6c6c850c",
   "metadata": {},
   "outputs": [
    {
     "data": {
      "text/plain": [
       "(dict, dict)"
      ]
     },
     "execution_count": 4,
     "metadata": {},
     "output_type": "execute_result"
    }
   ],
   "source": [
    "type(coordinates), type(person)"
   ]
  },
  {
   "cell_type": "code",
   "execution_count": 17,
   "id": "479ba256",
   "metadata": {},
   "outputs": [
    {
     "data": {
      "text/plain": [
       "dict_keys(['name', 'age', 'work', 'pet', 'interests'])"
      ]
     },
     "execution_count": 17,
     "metadata": {},
     "output_type": "execute_result"
    }
   ],
   "source": [
    "person.keys()"
   ]
  },
  {
   "cell_type": "code",
   "execution_count": 7,
   "id": "895f7581",
   "metadata": {},
   "outputs": [
    {
     "data": {
      "text/plain": [
       "dict_values(['Anja', 27, 'Student', 'none', ['Videogames, food, baking']])"
      ]
     },
     "execution_count": 7,
     "metadata": {},
     "output_type": "execute_result"
    }
   ],
   "source": [
    "person.values()"
   ]
  },
  {
   "cell_type": "code",
   "execution_count": 9,
   "id": "fe0c0dd6",
   "metadata": {},
   "outputs": [
    {
     "data": {
      "text/plain": [
       "'Anja'"
      ]
     },
     "execution_count": 9,
     "metadata": {},
     "output_type": "execute_result"
    }
   ],
   "source": [
    "person[\"name\"]"
   ]
  },
  {
   "cell_type": "code",
   "execution_count": 10,
   "id": "89f96ec6",
   "metadata": {},
   "outputs": [
    {
     "data": {
      "text/plain": [
       "'none'"
      ]
     },
     "execution_count": 10,
     "metadata": {},
     "output_type": "execute_result"
    }
   ],
   "source": [
    "person[\"pet\"]"
   ]
  },
  {
   "cell_type": "code",
   "execution_count": 20,
   "id": "9496190d",
   "metadata": {},
   "outputs": [
    {
     "data": {
      "text/plain": [
       "['Videogames, food, baking']"
      ]
     },
     "execution_count": 20,
     "metadata": {},
     "output_type": "execute_result"
    }
   ],
   "source": [
    "person.get(\"interests\")"
   ]
  },
  {
   "cell_type": "code",
   "execution_count": null,
   "id": "91f05d16",
   "metadata": {},
   "outputs": [
    {
     "data": {
      "text/plain": [
       "NoneType"
      ]
     },
     "execution_count": 22,
     "metadata": {},
     "output_type": "execute_result"
    }
   ],
   "source": [
    "type(person.get(\"interest\"))\n",
    "#if you misspell you dont get anything\n",
    "#with '.get' returns 'none'"
   ]
  },
  {
   "cell_type": "code",
   "execution_count": null,
   "id": "154e3c4e",
   "metadata": {},
   "outputs": [
    {
     "ename": "KeyError",
     "evalue": "'interest'",
     "output_type": "error",
     "traceback": [
      "\u001b[31m---------------------------------------------------------------------------\u001b[39m",
      "\u001b[31mKeyError\u001b[39m                                  Traceback (most recent call last)",
      "\u001b[36mCell\u001b[39m\u001b[36m \u001b[39m\u001b[32mIn[23]\u001b[39m\u001b[32m, line 1\u001b[39m\n\u001b[32m----> \u001b[39m\u001b[32m1\u001b[39m \u001b[43mperson\u001b[49m\u001b[43m[\u001b[49m\u001b[33;43m\"\u001b[39;49m\u001b[33;43minterest\u001b[39;49m\u001b[33;43m\"\u001b[39;49m\u001b[43m]\u001b[49m\n",
      "\u001b[31mKeyError\u001b[39m: 'interest'"
     ]
    }
   ],
   "source": [
    "person[\"interest\"]\n",
    "#here we spell wrong an it is an error, w '.get' it does not do that"
   ]
  },
  {
   "cell_type": "code",
   "execution_count": 24,
   "id": "b6dff905",
   "metadata": {},
   "outputs": [
    {
     "name": "stdout",
     "output_type": "stream",
     "text": [
      "name\n",
      "age\n",
      "work\n",
      "pet\n",
      "interests\n"
     ]
    }
   ],
   "source": [
    "for key in person:\n",
    "    print(key)"
   ]
  },
  {
   "cell_type": "code",
   "execution_count": 27,
   "id": "57aa6f7f",
   "metadata": {},
   "outputs": [
    {
     "name": "stdout",
     "output_type": "stream",
     "text": [
      "name : Anja\n",
      "age : 27\n",
      "work : Student\n",
      "pet : none\n",
      "interests : ['Videogames, food, baking']\n"
     ]
    }
   ],
   "source": [
    "for key in person:\n",
    "    print(key, \":\" ,person [key])"
   ]
  },
  {
   "cell_type": "code",
   "execution_count": null,
   "id": "58c89d8d",
   "metadata": {},
   "outputs": [
    {
     "data": {
      "text/plain": [
       "dict_items([('name', 'Anja'), ('age', 27), ('work', 'Student'), ('pet', 'none'), ('interests', ['Videogames, food, baking'])])"
      ]
     },
     "execution_count": 28,
     "metadata": {},
     "output_type": "execute_result"
    }
   ],
   "source": [
    "person.items()\n",
    "#list of tuples"
   ]
  },
  {
   "cell_type": "code",
   "execution_count": 32,
   "id": "5c0c5281",
   "metadata": {},
   "outputs": [
    {
     "name": "stdout",
     "output_type": "stream",
     "text": [
      "name       Anja\n",
      "age        27\n",
      "work       Student\n",
      "pet        none\n",
      "interests  ['Videogames, food, baking']\n"
     ]
    }
   ],
   "source": [
    "for key, value in person.items():\n",
    "    print(f\"{key:<10} {value}\")"
   ]
  },
  {
   "cell_type": "markdown",
   "id": "073374e7",
   "metadata": {},
   "source": [
    "### Creata a dictionary comprehension\n",
    "- creata grades with different limits"
   ]
  },
  {
   "cell_type": "code",
   "execution_count": 34,
   "id": "b51f9dee",
   "metadata": {},
   "outputs": [
    {
     "data": {
      "text/plain": [
       "{'F': 0, 'E': 10, 'D': 20, 'C': 30, 'B': 40, 'A': 50}"
      ]
     },
     "execution_count": 34,
     "metadata": {},
     "output_type": "execute_result"
    }
   ],
   "source": [
    "grade_limit = {grade : i*10 for i, grade in enumerate(\"FEDCBA\")}\n",
    "grade_limit"
   ]
  },
  {
   "cell_type": "code",
   "execution_count": 38,
   "id": "63def56a",
   "metadata": {},
   "outputs": [
    {
     "name": "stdout",
     "output_type": "stream",
     "text": [
      "[40, 7, 1, 47, 17, 15, 14, 8, 47, 6, 43, 47, 57, 34, 5, 37, 27, 2, 1, 5, 13, 14, 32, 38, 1, 35, 12, 45, 41, 44]\n"
     ]
    }
   ],
   "source": [
    "import random as rnd \n",
    "def generate_scores(number_scores):\n",
    "    rnd.seed(42)\n",
    "    return [rnd.randint(0,60) for _ in range(number_scores)]\n",
    "\n",
    "scores = generate_scores(30)\n",
    "print(scores)"
   ]
  },
  {
   "cell_type": "code",
   "execution_count": 37,
   "id": "4aadf773",
   "metadata": {},
   "outputs": [
    {
     "data": {
      "text/plain": [
       "{'F': 0, 'E': 0, 'D': 0, 'C': 0, 'B': 0, 'A': 0}"
      ]
     },
     "execution_count": 37,
     "metadata": {},
     "output_type": "execute_result"
    }
   ],
   "source": [
    "grade_count = {key: 0 for key in grade_limit}\n",
    "grade_count"
   ]
  },
  {
   "cell_type": "code",
   "execution_count": 41,
   "id": "500199e3",
   "metadata": {},
   "outputs": [
    {
     "name": "stdout",
     "output_type": "stream",
     "text": [
      "Grade count {'F': 27, 'E': 18, 'D': 3, 'C': 15, 'B': 24, 'A': 3}\n"
     ]
    }
   ],
   "source": [
    "for score in scores:\n",
    "    for grade, limit in grade_limit.items():\n",
    "        if limit<= score < limit+10:\n",
    "            grade_count[grade] += 1\n",
    "\n",
    "print(f\"Grade count {grade_count}\")"
   ]
  }
 ],
 "metadata": {
  "kernelspec": {
   "display_name": "Python_Anja_Scherwall_DE25_Klass",
   "language": "python",
   "name": "python3"
  },
  "language_info": {
   "codemirror_mode": {
    "name": "ipython",
    "version": 3
   },
   "file_extension": ".py",
   "mimetype": "text/x-python",
   "name": "python",
   "nbconvert_exporter": "python",
   "pygments_lexer": "ipython3",
   "version": "3.12.10"
  }
 },
 "nbformat": 4,
 "nbformat_minor": 5
}
