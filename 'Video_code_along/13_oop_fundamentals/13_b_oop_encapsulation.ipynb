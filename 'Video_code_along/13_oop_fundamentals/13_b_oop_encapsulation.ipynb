{
 "cells": [
  {
   "cell_type": "markdown",
   "id": "88192726",
   "metadata": {},
   "source": [
    "# OOP encapsulation"
   ]
  },
  {
   "cell_type": "code",
   "execution_count": 10,
   "id": "a64d09e3",
   "metadata": {},
   "outputs": [
    {
     "data": {
      "text/plain": [
       "Patient(Gore Bord)"
      ]
     },
     "execution_count": 10,
     "metadata": {},
     "output_type": "execute_result"
    }
   ],
   "source": [
    "class Patient:\n",
    "    def __init__(self, name, diagnosis):\n",
    "        self._name = name\n",
    "\n",
    "    def __repr__(self):\n",
    "        return f\"Patient({self._name})\"\n",
    "\n",
    "\n",
    "patient1 = Patient(\"Gore Bord\", \"migrain\")\n",
    "patient1"
   ]
  },
  {
   "cell_type": "code",
   "execution_count": null,
   "id": "02524cce",
   "metadata": {},
   "outputs": [
    {
     "ename": "AttributeError",
     "evalue": "'Patient' object has no attribute 'name'",
     "output_type": "error",
     "traceback": [
      "\u001b[31m---------------------------------------------------------------------------\u001b[39m",
      "\u001b[31mAttributeError\u001b[39m                            Traceback (most recent call last)",
      "\u001b[36mCell\u001b[39m\u001b[36m \u001b[39m\u001b[32mIn[2]\u001b[39m\u001b[32m, line 1\u001b[39m\n\u001b[32m----> \u001b[39m\u001b[32m1\u001b[39m \u001b[43mpatient1\u001b[49m\u001b[43m.\u001b[49m\u001b[43mname\u001b[49m\n",
      "\u001b[31mAttributeError\u001b[39m: 'Patient' object has no attribute 'name'"
     ]
    }
   ],
   "source": [
    "# we haven't defined name\n",
    "patient1.name"
   ]
  },
  {
   "cell_type": "code",
   "execution_count": null,
   "id": "57947e80",
   "metadata": {},
   "outputs": [
    {
     "data": {
      "text/plain": [
       "'Gore Bord'"
      ]
     },
     "execution_count": 3,
     "metadata": {},
     "output_type": "execute_result"
    }
   ],
   "source": [
    "# wehave defined _name\n",
    "patient1._name"
   ]
  },
  {
   "cell_type": "code",
   "execution_count": null,
   "id": "9beb7077",
   "metadata": {},
   "outputs": [
    {
     "data": {
      "text/plain": [
       "Patient(Bella)"
      ]
     },
     "execution_count": 4,
     "metadata": {},
     "output_type": "execute_result"
    }
   ],
   "source": [
    "# dont't do this cause we should not acces the underscore, they are private by convention \n",
    "patient1._name = \"Bella\"\n",
    "patient1"
   ]
  },
  {
   "cell_type": "code",
   "execution_count": 11,
   "id": "5358d6eb",
   "metadata": {},
   "outputs": [
    {
     "data": {
      "text/plain": [
       "Patient(Anna, headache)"
      ]
     },
     "execution_count": 11,
     "metadata": {},
     "output_type": "execute_result"
    }
   ],
   "source": [
    "class Patient:\n",
    "    def __init__(self, name, diagnosis):\n",
    "        self._name = name\n",
    "        self.__diagnosis = diagnosis\n",
    "\n",
    "    def __repr__(self):\n",
    "        return f\"Patient({self._name}, {self.__diagnosis})\"\n",
    "\n",
    "patient2 = Patient(\"Anna\", \"headache\")\n",
    "patient2"
   ]
  },
  {
   "cell_type": "code",
   "execution_count": null,
   "id": "14bfee90",
   "metadata": {},
   "outputs": [],
   "source": [
    "# does not exist\n",
    "patient2.__diagnosis"
   ]
  },
  {
   "cell_type": "code",
   "execution_count": 13,
   "id": "17521867",
   "metadata": {},
   "outputs": [
    {
     "data": {
      "text/plain": [
       "{'_name': 'Anna', '_Patient__diagnosis': 'headache'}"
      ]
     },
     "execution_count": 13,
     "metadata": {},
     "output_type": "execute_result"
    }
   ],
   "source": [
    "patient2.__dict__"
   ]
  },
  {
   "cell_type": "code",
   "execution_count": null,
   "id": "ddd9f7fc",
   "metadata": {},
   "outputs": [
    {
     "data": {
      "text/plain": [
       "'headache'"
      ]
     },
     "execution_count": 14,
     "metadata": {},
     "output_type": "execute_result"
    }
   ],
   "source": [
    "# namemangling, so that you can not acces it using the org name\n",
    "patient2._Patient__diagnosis"
   ]
  },
  {
   "cell_type": "markdown",
   "id": "5aaa4263",
   "metadata": {},
   "source": [
    "be cosistant, use only one underscore or two"
   ]
  },
  {
   "cell_type": "code",
   "execution_count": null,
   "id": "2024d7fb",
   "metadata": {},
   "outputs": [],
   "source": []
  },
  {
   "cell_type": "markdown",
   "id": "b244dec3",
   "metadata": {},
   "source": [
    "another example"
   ]
  },
  {
   "cell_type": "code",
   "execution_count": null,
   "id": "4e849da0",
   "metadata": {},
   "outputs": [
    {
     "data": {
      "text/plain": [
       "OldCoinStash(owner = 'Ragnar')"
      ]
     },
     "execution_count": 27,
     "metadata": {},
     "output_type": "execute_result"
    }
   ],
   "source": [
    "class OldCoinStash:\n",
    "    def __init__(self, owner):\n",
    "        self.owner = owner\n",
    "\n",
    "        self._riksdaler = 0\n",
    "        self._skilling = 0\n",
    "\n",
    "    def deposit(self, riksdaler, skilling):\n",
    "        if riksdaler < 0 or skilling < 0:\n",
    "            raise ValueError(f\"You try to deposit {riksdaler} riksdaler and {skilling} skilling. They have to be positive\")\n",
    "        self._riksdaler += riksdaler\n",
    "        self._skilling += skilling\n",
    "\n",
    "        def deposit(self, riksdaler, skilling):\n",
    "            if riksdaler > self._riksdaler or skilling > self._skilling:\n",
    "                raise ValueError(f\"You can't withdraw more than you have in your stash\")\n",
    "\n",
    "        self._riksdaler -= riksdaler\n",
    "        self._skilling -= skilling\n",
    "\n",
    "    def check_balance(self):\n",
    "        return f\"Coins in stash: {self._riksdaler} riksdaler, {self._skilling} skilling\"\n",
    "\n",
    "    def __repr__(self):\n",
    "        return f\"OldCoinStash(owner = '{self.owner}')\"\n",
    "\n",
    "stash1 = OldCoinStash(\"Ragnar\")\n",
    "\n",
    "stash1"
   ]
  },
  {
   "cell_type": "code",
   "execution_count": 28,
   "id": "e3bbc39d",
   "metadata": {},
   "outputs": [
    {
     "name": "stdout",
     "output_type": "stream",
     "text": [
      "You try to deposit -5 riksdaler and 2 skilling. They have to be positive\n"
     ]
    }
   ],
   "source": [
    "try:\n",
    "    stash1.deposit(-5, 2)\n",
    "except ValueError as e:\n",
    "    print(e)"
   ]
  },
  {
   "cell_type": "code",
   "execution_count": 31,
   "id": "30c6659a",
   "metadata": {},
   "outputs": [
    {
     "data": {
      "text/plain": [
       "'Coins in stash: 30 riksdaler, 12 skilling'"
      ]
     },
     "execution_count": 31,
     "metadata": {},
     "output_type": "execute_result"
    }
   ],
   "source": [
    "stash1.deposit(5, 2)\n",
    "stash1.check_balance()\n"
   ]
  }
 ],
 "metadata": {
  "kernelspec": {
   "display_name": "Python_Anja_Scherwall_DE25_Klass",
   "language": "python",
   "name": "python3"
  },
  "language_info": {
   "codemirror_mode": {
    "name": "ipython",
    "version": 3
   },
   "file_extension": ".py",
   "mimetype": "text/x-python",
   "name": "python",
   "nbconvert_exporter": "python",
   "pygments_lexer": "ipython3",
   "version": "3.12.10"
  }
 },
 "nbformat": 4,
 "nbformat_minor": 5
}
