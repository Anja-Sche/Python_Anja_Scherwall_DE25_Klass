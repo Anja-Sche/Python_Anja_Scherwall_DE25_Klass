{
 "cells": [
  {
   "cell_type": "markdown",
   "id": "6daa931d",
   "metadata": {},
   "source": [
    "# Strings"
   ]
  },
  {
   "cell_type": "code",
   "execution_count": 7,
   "id": "4191827d",
   "metadata": {},
   "outputs": [
    {
     "data": {
      "text/plain": [
       "'Kokchun Giang'"
      ]
     },
     "execution_count": 7,
     "metadata": {},
     "output_type": "execute_result"
    }
   ],
   "source": [
    "firstname = \"Kokchun\"\n",
    "lastname = \"Giang\"\n",
    "\n",
    "fullname = firstname + \" \" + lastname\n",
    "fullname"
   ]
  },
  {
   "cell_type": "code",
   "execution_count": 8,
   "id": "e6725a5e",
   "metadata": {},
   "outputs": [],
   "source": [
    "work = \"AIgineer AB\"\n",
    "address = \"Supah cool streeeto\"\n",
    "phone = \"070\"\n",
    "\n",
    "contact_details = f\"\"\"\n",
    "name: {fullname}\n",
    "work: {work}\n",
    "address: {address}\n",
    "phone: {phone}\n",
    "\"\"\""
   ]
  },
  {
   "cell_type": "code",
   "execution_count": 9,
   "id": "b4cacbb8",
   "metadata": {},
   "outputs": [
    {
     "data": {
      "text/plain": [
       "'\\nname: Kokchun Giang\\nwork: AIgineer AB\\naddress: Supah cool streeeto\\nphone: 070\\n'"
      ]
     },
     "execution_count": 9,
     "metadata": {},
     "output_type": "execute_result"
    }
   ],
   "source": [
    "contact_details"
   ]
  },
  {
   "cell_type": "code",
   "execution_count": 11,
   "id": "0c738ca4",
   "metadata": {},
   "outputs": [
    {
     "name": "stdout",
     "output_type": "stream",
     "text": [
      "\n",
      "name: Kokchun Giang\n",
      "work: AIgineer AB\n",
      "address: Supah cool streeeto\n",
      "phone: 070\n",
      "\n"
     ]
    }
   ],
   "source": [
    "print(contact_details)"
   ]
  },
  {
   "cell_type": "code",
   "execution_count": 16,
   "id": "a08699bf",
   "metadata": {},
   "outputs": [
    {
     "name": "stdout",
     "output_type": "stream",
     "text": [
      "Weekly menu\n",
      "mo         chili con caren\n",
      "tu         Noodles\n",
      "wed        Pokebowl\n",
      "thu        Pancake\n",
      "fri        Taco\n",
      "\n"
     ]
    }
   ],
   "source": [
    "menu = [\"chili con caren\", \"Noodles\", \"Pokebowl\", \"Pancake\", \"Taco\"]\n",
    "days = [\"mo\", \"tu\", \"wed\", \"thu\", \"fri\"]\n",
    "\n",
    "weekly_menu = \"Weekly menu\\n\"\n",
    "\n",
    "for day, food in zip(days, menu):\n",
    "    weekly_menu += f\"{day:<10} {food}\\n\"\n",
    "\n",
    "print(weekly_menu)"
   ]
  },
  {
   "cell_type": "code",
   "execution_count": 17,
   "id": "5da00dc7",
   "metadata": {},
   "outputs": [
    {
     "data": {
      "text/plain": [
       "\"!False - it's funny because it's True\""
      ]
     },
     "execution_count": 17,
     "metadata": {},
     "output_type": "execute_result"
    }
   ],
   "source": [
    "quote =\"!False - it's funny because it's True\"\n",
    "quote"
   ]
  },
  {
   "cell_type": "code",
   "execution_count": 18,
   "id": "1755fbfa",
   "metadata": {},
   "outputs": [
    {
     "data": {
      "text/plain": [
       "'!'"
      ]
     },
     "execution_count": 18,
     "metadata": {},
     "output_type": "execute_result"
    }
   ],
   "source": [
    "quote[0]"
   ]
  },
  {
   "cell_type": "code",
   "execution_count": 19,
   "id": "c2d75aad",
   "metadata": {},
   "outputs": [
    {
     "data": {
      "text/plain": [
       "'e'"
      ]
     },
     "execution_count": 19,
     "metadata": {},
     "output_type": "execute_result"
    }
   ],
   "source": [
    "quote[-1]"
   ]
  },
  {
   "cell_type": "code",
   "execution_count": 20,
   "id": "232c95e8",
   "metadata": {},
   "outputs": [
    {
     "data": {
      "text/plain": [
       "'!False'"
      ]
     },
     "execution_count": 20,
     "metadata": {},
     "output_type": "execute_result"
    }
   ],
   "source": [
    "quote[:6]"
   ]
  },
  {
   "cell_type": "code",
   "execution_count": 22,
   "id": "f027fff8",
   "metadata": {},
   "outputs": [
    {
     "data": {
      "text/plain": [
       "\"eurT s'ti esuaceb ynnuf s'ti - eslaF!\""
      ]
     },
     "execution_count": 22,
     "metadata": {},
     "output_type": "execute_result"
    }
   ],
   "source": [
    "quote[::-1]"
   ]
  },
  {
   "cell_type": "code",
   "execution_count": 24,
   "id": "5d303613",
   "metadata": {},
   "outputs": [
    {
     "data": {
      "text/plain": [
       "True"
      ]
     },
     "execution_count": 24,
     "metadata": {},
     "output_type": "execute_result"
    }
   ],
   "source": [
    "string_to_check = \"anna\"\n",
    "string_to_check[::-1] == string_to_check"
   ]
  },
  {
   "cell_type": "markdown",
   "id": "4acefc38",
   "metadata": {},
   "source": [
    "## Split and cleaning a string"
   ]
  },
  {
   "cell_type": "code",
   "execution_count": 25,
   "id": "ee74d318",
   "metadata": {},
   "outputs": [
    {
     "data": {
      "text/plain": [
       "'Math, biology  ,     cHeMistry ,  PrOgramming'"
      ]
     },
     "execution_count": 25,
     "metadata": {},
     "output_type": "execute_result"
    }
   ],
   "source": [
    "subjects= \"Math, biology  ,     cHeMistry ,  PrOgramming\"\n",
    "subjects"
   ]
  },
  {
   "cell_type": "code",
   "execution_count": null,
   "id": "92fd5fb4",
   "metadata": {},
   "outputs": [
    {
     "data": {
      "text/plain": [
       "['Math', ' biology  ', '     cHeMistry ', '  PrOgramming']"
      ]
     },
     "execution_count": 28,
     "metadata": {},
     "output_type": "execute_result"
    }
   ],
   "source": [
    "subjects = subjects.split(\",\")\n",
    "subjects\n",
    "#Nu har vi skapat olika element i en lista"
   ]
  },
  {
   "cell_type": "code",
   "execution_count": null,
   "id": "8b90892b",
   "metadata": {},
   "outputs": [
    {
     "name": "stdout",
     "output_type": "stream",
     "text": [
      "MATH has 4 characters\n",
      "BIOLOGY has 7 characters\n",
      "CHEMISTRY has 9 characters\n",
      "PROGRAMMING has 11 characters\n"
     ]
    }
   ],
   "source": [
    "subjects = [subject.strip().upper() for subject in subjects]\n",
    "# Tar bort massa utrumme/mellanrum \n",
    "# .lower för små bokstäver, .upper för stora bokstäver\n",
    "\n",
    "for subject in subjects:\n",
    "    print(f\"{subject} has {len(subject)} characters\")\n",
    "    #len() räknarhur många karaktärer som finns(bokstäver, punkt, mellanrum...)"
   ]
  },
  {
   "cell_type": "markdown",
   "id": "94031555",
   "metadata": {},
   "source": [
    "## Regex"
   ]
  },
  {
   "cell_type": "code",
   "execution_count": null,
   "id": "f32f888e",
   "metadata": {},
   "outputs": [
    {
     "data": {
      "text/plain": [
       "['katt', 'hatt']"
      ]
     },
     "execution_count": 42,
     "metadata": {},
     "output_type": "execute_result"
    }
   ],
   "source": [
    "import re\n",
    "\n",
    "text = \"Det var en gång en katt somtog på sig en hatt.\"\n",
    "match_list = re.findall(r\".att\", text)\n",
    "match_list\n",
    "#Hittar ord som matchar. Finns olika karaktärer för olika matchningar, kolla w3schools eller LLM"
   ]
  },
  {
   "cell_type": "code",
   "execution_count": 43,
   "id": "41f47555",
   "metadata": {},
   "outputs": [
    {
     "data": {
      "text/plain": [
       "['19950516-2235', '19581212-3213']"
      ]
     },
     "execution_count": 43,
     "metadata": {},
     "output_type": "execute_result"
    }
   ],
   "source": [
    "personal_numbers = \"Ida: 19950516-2235, Bertil: 19581212-3213, Ada: 050524-1513\"\n",
    "match_long = re.findall(r\"\\d{8}-\\d{4}\", personal_numbers)\n",
    "match_long"
   ]
  },
  {
   "cell_type": "code",
   "execution_count": 44,
   "id": "39cf3d94",
   "metadata": {},
   "outputs": [
    {
     "data": {
      "text/plain": [
       "['950516-2235', '581212-3213', '050524-1513']"
      ]
     },
     "execution_count": 44,
     "metadata": {},
     "output_type": "execute_result"
    }
   ],
   "source": [
    "match_short = re.findall(r\"\\d{6}-\\d{4}\", personal_numbers)\n",
    "match_short"
   ]
  }
 ],
 "metadata": {
  "kernelspec": {
   "display_name": "Python_Anja_Scherwall_DE25_Klass",
   "language": "python",
   "name": "python3"
  },
  "language_info": {
   "codemirror_mode": {
    "name": "ipython",
    "version": 3
   },
   "file_extension": ".py",
   "mimetype": "text/x-python",
   "name": "python",
   "nbconvert_exporter": "python",
   "pygments_lexer": "ipython3",
   "version": "3.12.10"
  }
 },
 "nbformat": 4,
 "nbformat_minor": 5
}
