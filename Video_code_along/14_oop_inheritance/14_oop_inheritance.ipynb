{
 "cells": [
  {
   "cell_type": "markdown",
   "id": "0bff1579",
   "metadata": {},
   "source": [
    "# Inheritance in OOP"
   ]
  },
  {
   "cell_type": "code",
   "execution_count": 4,
   "id": "c28d101e",
   "metadata": {},
   "outputs": [
    {
     "ename": "AttributeError",
     "evalue": "property 'age' of 'Person' object has no setter",
     "output_type": "error",
     "traceback": [
      "\u001b[31m---------------------------------------------------------------------------\u001b[39m",
      "\u001b[31mAttributeError\u001b[39m                            Traceback (most recent call last)",
      "\u001b[36mCell\u001b[39m\u001b[36m \u001b[39m\u001b[32mIn[4]\u001b[39m\u001b[32m, line 13\u001b[39m\n\u001b[32m      8\u001b[39m     \u001b[38;5;129m@property\u001b[39m\n\u001b[32m      9\u001b[39m     \u001b[38;5;28;01mdef\u001b[39;00m\u001b[38;5;250m \u001b[39m\u001b[34mage\u001b[39m(\u001b[38;5;28mself\u001b[39m) -> \u001b[38;5;28mint\u001b[39m:\n\u001b[32m     10\u001b[39m         \u001b[38;5;28;01mreturn\u001b[39;00m \u001b[38;5;28mself\u001b[39m._age\n\u001b[32m---> \u001b[39m\u001b[32m13\u001b[39m \u001b[43mPerson\u001b[49m\u001b[43m(\u001b[49m\u001b[33;43m\"\u001b[39;49m\u001b[33;43mBella\u001b[39;49m\u001b[33;43m\"\u001b[39;49m\u001b[43m,\u001b[49m\u001b[43m \u001b[49m\u001b[32;43m4\u001b[39;49m\u001b[43m)\u001b[49m\n",
      "\u001b[36mCell\u001b[39m\u001b[36m \u001b[39m\u001b[32mIn[4]\u001b[39m\u001b[32m, line 5\u001b[39m, in \u001b[36mPerson.__init__\u001b[39m\u001b[34m(self, name, age)\u001b[39m\n\u001b[32m      4\u001b[39m \u001b[38;5;28;01mdef\u001b[39;00m\u001b[38;5;250m \u001b[39m\u001b[34m__init__\u001b[39m(\u001b[38;5;28mself\u001b[39m, name: \u001b[38;5;28mstr\u001b[39m, age: \u001b[38;5;28mint\u001b[39m) -> \u001b[38;5;28;01mNone\u001b[39;00m:\n\u001b[32m----> \u001b[39m\u001b[32m5\u001b[39m     \u001b[38;5;28;43mself\u001b[39;49m\u001b[43m.\u001b[49m\u001b[43mage\u001b[49m = age\n\u001b[32m      6\u001b[39m     \u001b[38;5;28mself\u001b[39m.name = name\n",
      "\u001b[31mAttributeError\u001b[39m: property 'age' of 'Person' object has no setter"
     ]
    }
   ],
   "source": [
    "class Person:\n",
    "    \"\"\"Base class containing generic methods that are shared by all subclasses\"\"\"\n",
    "\n",
    "    def __init__(self, name: str, age: int) -> None:\n",
    "        self.age = age\n",
    "        self.name = name\n",
    "\n",
    "    @property\n",
    "    def age(self) -> int:\n",
    "        return self._age\n",
    "\n",
    "    \n",
    "Person(\"Bella\", 4)\n"
   ]
  },
  {
   "cell_type": "code",
   "execution_count": null,
   "id": "ac60b79d",
   "metadata": {},
   "outputs": [
    {
     "name": "stdout",
     "output_type": "stream",
     "text": [
      "running setter\n"
     ]
    },
    {
     "ename": "ValueError",
     "evalue": "Age not valid",
     "output_type": "error",
     "traceback": [
      "\u001b[31m---------------------------------------------------------------------------\u001b[39m",
      "\u001b[31mValueError\u001b[39m                                Traceback (most recent call last)",
      "\u001b[36mCell\u001b[39m\u001b[36m \u001b[39m\u001b[32mIn[14]\u001b[39m\u001b[32m, line 23\u001b[39m\n\u001b[32m     19\u001b[39m             \u001b[38;5;28;01mraise\u001b[39;00m \u001b[38;5;167;01mValueError\u001b[39;00m(\u001b[33mf\u001b[39m\u001b[33m\"\u001b[39m\u001b[33mAge not valid\u001b[39m\u001b[33m\"\u001b[39m)\n\u001b[32m     20\u001b[39m         \u001b[38;5;28mself\u001b[39m._age = value\n\u001b[32m---> \u001b[39m\u001b[32m23\u001b[39m person1 = \u001b[43mPerson\u001b[49m\u001b[43m(\u001b[49m\u001b[33;43m\"\u001b[39;49m\u001b[33;43mBella\u001b[39;49m\u001b[33;43m\"\u001b[39;49m\u001b[43m,\u001b[49m\u001b[43m \u001b[49m\u001b[43m-\u001b[49m\u001b[32;43m5\u001b[39;49m\u001b[43m)\u001b[49m\n\u001b[32m     24\u001b[39m person1.age\n",
      "\u001b[36mCell\u001b[39m\u001b[36m \u001b[39m\u001b[32mIn[14]\u001b[39m\u001b[32m, line 5\u001b[39m, in \u001b[36mPerson.__init__\u001b[39m\u001b[34m(self, name, age)\u001b[39m\n\u001b[32m      4\u001b[39m \u001b[38;5;28;01mdef\u001b[39;00m\u001b[38;5;250m \u001b[39m\u001b[34m__init__\u001b[39m(\u001b[38;5;28mself\u001b[39m, name: \u001b[38;5;28mstr\u001b[39m, age: \u001b[38;5;28mint\u001b[39m) -> \u001b[38;5;28;01mNone\u001b[39;00m:\n\u001b[32m----> \u001b[39m\u001b[32m5\u001b[39m     \u001b[38;5;28;43mself\u001b[39;49m\u001b[43m.\u001b[49m\u001b[43mage\u001b[49m = age\n\u001b[32m      6\u001b[39m     \u001b[38;5;28mself\u001b[39m.name = name\n",
      "\u001b[36mCell\u001b[39m\u001b[36m \u001b[39m\u001b[32mIn[14]\u001b[39m\u001b[32m, line 19\u001b[39m, in \u001b[36mPerson.age\u001b[39m\u001b[34m(self, value)\u001b[39m\n\u001b[32m     17\u001b[39m     \u001b[38;5;28;01mraise\u001b[39;00m \u001b[38;5;167;01mTypeError\u001b[39;00m(\u001b[33mf\u001b[39m\u001b[33m\"\u001b[39m\u001b[33mAge must be int or float not \u001b[39m\u001b[38;5;132;01m{\u001b[39;00m\u001b[38;5;28mtype\u001b[39m(value)\u001b[38;5;132;01m}\u001b[39;00m\u001b[33m\"\u001b[39m)\n\u001b[32m     18\u001b[39m \u001b[38;5;28;01mif\u001b[39;00m \u001b[38;5;129;01mnot\u001b[39;00m \u001b[32m0\u001b[39m<value<\u001b[32m125\u001b[39m:\n\u001b[32m---> \u001b[39m\u001b[32m19\u001b[39m     \u001b[38;5;28;01mraise\u001b[39;00m \u001b[38;5;167;01mValueError\u001b[39;00m(\u001b[33mf\u001b[39m\u001b[33m\"\u001b[39m\u001b[33mAge not valid\u001b[39m\u001b[33m\"\u001b[39m)\n\u001b[32m     20\u001b[39m \u001b[38;5;28mself\u001b[39m._age = value\n",
      "\u001b[31mValueError\u001b[39m: Age not valid"
     ]
    }
   ],
   "source": [
    "class Person:\n",
    "    \"\"\"Base class containing generic methods that are shared by all subclasses\"\"\"\n",
    "\n",
    "    def __init__(self, name: str, age: int) -> None:\n",
    "        self.age = age\n",
    "        self.name = name\n",
    "\n",
    "    @property\n",
    "    def age(self) -> int:\n",
    "        print(\"running getter\")\n",
    "        return self._age\n",
    "\n",
    "    @age.setter\n",
    "    def age(self, value: int) -> None:\n",
    "        print(\"running setter\")\n",
    "        #isinstance returns True if the specified object is the specified type\n",
    "        if not isinstance(value, int):\n",
    "            raise TypeError(f\"Age must be int or float not {type(value)}\")\n",
    "        #skapar kontroll att värdet blir det vi vill (inom rätt spann)\n",
    "        if not 0<value<125:\n",
    "            raise ValueError(f\"Age not valid\")\n",
    "        self._age = value\n",
    "\n",
    "    \n",
    "person1 = Person(\"Bella\", -5)\n",
    "person1.age"
   ]
  },
  {
   "cell_type": "code",
   "execution_count": 11,
   "id": "9b325328",
   "metadata": {},
   "outputs": [
    {
     "name": "stdout",
     "output_type": "stream",
     "text": [
      "running setter\n"
     ]
    }
   ],
   "source": [
    "person1.age = 5"
   ]
  },
  {
   "cell_type": "code",
   "execution_count": 19,
   "id": "fe504515",
   "metadata": {},
   "outputs": [
    {
     "name": "stdout",
     "output_type": "stream",
     "text": [
      "Person Greta says hi\n"
     ]
    }
   ],
   "source": [
    "import re\n",
    "from oldcoins import OldCoinStash\n",
    "\n",
    "class Person:\n",
    "    \"\"\"Base class containing generic methods that are shared by all subclasses\"\"\"\n",
    "\n",
    "    def __init__(self, name: str, age: int) -> None:\n",
    "        self.age = age\n",
    "        self.name = name\n",
    "\n",
    "    @property\n",
    "    def age(self) -> int:\n",
    "        return self._age\n",
    "\n",
    "    @age.setter\n",
    "    def age(self, value: int) -> None:        \n",
    "        if not isinstance(value, int):\n",
    "            raise TypeError(f\"Age must be int or float not {type(value)}\")\n",
    "        if not 0<value<125:\n",
    "            raise ValueError(f\"Age not valid\")\n",
    "        self._age = value\n",
    "\n",
    "\n",
    "    @property\n",
    "    def name(self) -> str:\n",
    "        return self._name\n",
    "\n",
    "    @name.setter\n",
    "    def name(self, value: str) -> None:\n",
    "        #make sure that the name has all possible letters in the alphabet\n",
    "        #backslash s = space\n",
    "        if re.search(r\"^[A-Ö]+(\\s[A-Ö]+)?$\", value.strip()) is None:\n",
    "            raise ValueError(f\"The value {value} is not a valid name\")\n",
    "        \n",
    "        self._name =value\n",
    "\n",
    "    def say_hi(self) -> None:\n",
    "        print(f\"Person {self.name} says hi\")\n",
    "\n",
    "\n",
    "class Student(Person):\n",
    "    \"\"\"A student is a Person that knows a language\"\"\"\n",
    "\n",
    "    def __init__(self, name: str, age: int, language: str) -> None:\n",
    "        super().__init__(name, age)\n",
    "        self.language = language\n",
    "\n",
    "    #overrides say_hi() from the parent (when call a instance Student and use say_hi(), use it from Studen class first. If not exist, use from parent)\n",
    "    def say_hi(self):\n",
    "        print(f\"Student {self.name} is {self.age} years old and knows {self.language}\")\n",
    "\n",
    "class Viking(Person):\n",
    "    \"\"\"A Viking has an OldCoinsStash but is a Person\"\"\"\n",
    "\n",
    "    def __init__(self, name: str, age: int) -> None:\n",
    "        super().__init__(name, age)\n",
    "        self.stash = OldCoinStash(name)\n",
    "\n",
    "p1 = Person(\"Greta\", 20)\n",
    "p1.say_hi()"
   ]
  },
  {
   "cell_type": "code",
   "execution_count": 21,
   "id": "89edd306",
   "metadata": {},
   "outputs": [
    {
     "name": "stdout",
     "output_type": "stream",
     "text": [
      "Student Örjan is 25 years old and knows Python\n"
     ]
    }
   ],
   "source": [
    "s1 = Student(\"Örjan\", 25, \"Python\")\n",
    "s1.say_hi()"
   ]
  },
  {
   "cell_type": "code",
   "execution_count": 20,
   "id": "c68557ce",
   "metadata": {},
   "outputs": [
    {
     "name": "stdout",
     "output_type": "stream",
     "text": [
      "Person Ragnar says hi\n"
     ]
    }
   ],
   "source": [
    "v1 = Viking(\"Ragnar\", 54)\n",
    "v1.say_hi()"
   ]
  },
  {
   "cell_type": "code",
   "execution_count": 22,
   "id": "867003f8",
   "metadata": {},
   "outputs": [
    {
     "data": {
      "text/plain": [
       "{'_age': 54, '_name': 'Ragnar', 'stash': OldCoinStash(owner = 'Ragnar')}"
      ]
     },
     "execution_count": 22,
     "metadata": {},
     "output_type": "execute_result"
    }
   ],
   "source": [
    "v1.__dict__"
   ]
  }
 ],
 "metadata": {
  "kernelspec": {
   "display_name": "Python_Anja_Scherwall_DE25_Klass (3.12.10)",
   "language": "python",
   "name": "python3"
  },
  "language_info": {
   "codemirror_mode": {
    "name": "ipython",
    "version": 3
   },
   "file_extension": ".py",
   "mimetype": "text/x-python",
   "name": "python",
   "nbconvert_exporter": "python",
   "pygments_lexer": "ipython3",
   "version": "3.12.10"
  }
 },
 "nbformat": 4,
 "nbformat_minor": 5
}
