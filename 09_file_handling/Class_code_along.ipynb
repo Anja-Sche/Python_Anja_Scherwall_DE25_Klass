{
 "cells": [
  {
   "cell_type": "markdown",
   "id": "2bc27417",
   "metadata": {},
   "source": [
    "# File handling\n",
    "- reading text files (.txt)\n",
    "- we need to \n",
    "    - read the file\n",
    "    - clean contents\n",
    "    - write the clean content to a new text file\n",
    "- we focus nowon text/string contents"
   ]
  },
  {
   "cell_type": "markdown",
   "id": "504eefa5",
   "metadata": {},
   "source": [
    "#### Open the file directly "
   ]
  },
  {
   "cell_type": "code",
   "execution_count": null,
   "id": "e39a8a25",
   "metadata": {},
   "outputs": [
    {
     "name": "stdout",
     "output_type": "stream",
     "text": [
      "<_io.TextIOWrapper name='test.txt' mode='r' encoding='cp1252'>\n",
      "jowoueh\n",
      "ehqiphhv\n",
      "jsnajkkw\n"
     ]
    }
   ],
   "source": [
    "#open the file\n",
    "#the first argument is a path! \n",
    "#the second argument is the mode of opening (r is read-only)\n",
    "f = open(\"test.txt\", \"r\") \n",
    "print(f)\n",
    "\n",
    "#save the contents of the file i a variable\n",
    "text = f.read()\n",
    "print(text)\n",
    "\n",
    "#close the file\n",
    "f.close()"
   ]
  },
  {
   "cell_type": "markdown",
   "id": "b5a2a194",
   "metadata": {},
   "source": [
    "#### Open the file with `with` statement"
   ]
  },
  {
   "cell_type": "code",
   "execution_count": null,
   "id": "44054e81",
   "metadata": {},
   "outputs": [
    {
     "name": "stdout",
     "output_type": "stream",
     "text": [
      "jowoueh\n",
      "ehqiphhv\n",
      "jsnajkkw\n"
     ]
    }
   ],
   "source": [
    "with open(\"test.txt\", \"r\") as f:\n",
    "    text = f.read()\n",
    "    #with statement will close the file automatically\n",
    "\n",
    "print(text)\n",
    "\n"
   ]
  },
  {
   "cell_type": "markdown",
   "id": "ceeed4f6",
   "metadata": {},
   "source": [
    "## Clean the quote file"
   ]
  },
  {
   "cell_type": "code",
   "execution_count": 11,
   "id": "9cf04749",
   "metadata": {},
   "outputs": [],
   "source": [
    "# we will use regular expression package to cleane string contents\n",
    "import re"
   ]
  },
  {
   "cell_type": "code",
   "execution_count": 15,
   "id": "6dc7dddf",
   "metadata": {},
   "outputs": [],
   "source": [
    "# create an empty list for saving quotes\n",
    "quotes = []\n",
    "\n",
    "#initiate a quote number\n",
    "i = 1"
   ]
  },
  {
   "cell_type": "code",
   "execution_count": null,
   "id": "61f110a2",
   "metadata": {},
   "outputs": [
    {
     "name": "stdout",
     "output_type": "stream",
     "text": [
      "<_io.TextIOWrapper name='quotes1.txt' mode='r' encoding='cp1252'>\n"
     ]
    }
   ],
   "source": [
    "# open the file\n",
    "# comparing the use of absolute and relative paths\n",
    "\n",
    "# print out all the content at once\n",
    "raw_file_path = \"quotes1.txt\"\n",
    "\n",
    "with open(raw_file_path, \"r\") as f_read:\n",
    "    quotes = f_read.read()\n",
    "\n",
    "print(f_read) # what you can se from just opening the file (info of the file)\n",
    "print(quotes) # what you can see from applying the read() method on the same file"
   ]
  },
  {
   "cell_type": "code",
   "execution_count": null,
   "id": "f5dac625",
   "metadata": {},
   "outputs": [],
   "source": [
    "# loop through lines in the file contents\n",
    "with open(raw_file_path, \"r\") as f_read:\n",
    "    for quote in f_read:\n",
    "        # data cleaning\n",
    "        quote = quote.strip(\" \\n\") # rwplace th quote with a modified quote\n",
    "        quote = re.sub(\" +\", \" \", quote) # replace multiple space with one space\n",
    "        # print each line\n",
    "        print(quote)"
   ]
  },
  {
   "cell_type": "code",
   "execution_count": 16,
   "id": "92030f34",
   "metadata": {},
   "outputs": [
    {
     "name": "stdout",
     "output_type": "stream",
     "text": [
      "If we knew what it was we were doing, it would not be called research, would it? - Albert Einstein\n",
      "\n",
      "Time is a drug. Too much of it kills you. - Terry Pratchett\n",
      "\n",
      "\n",
      "An expert is a person who has made all the mistakes that can be made in a very narrow field - Niels Bohr\n",
      "\n",
      "Everything must be made as simple as possible. But not simpler. - Albert Einstein\n",
      "\n",
      "\n",
      "Nothing in life is to be feared, it is only to be understood. Now is the time to understand more, so that we may fear less. - Marie Curie\n",
      "\n",
      "If I have seen further it is by standing on the shoulders of Giants. - Isaac Newton\n"
     ]
    }
   ],
   "source": [
    "#open two files (one with r mode and another with w mode)\n",
    "with open(raw_file_path, \"r\") as f_read, open(\"quotes_cleaned1.txt\", \"w\") as f_write:\n",
    "    for quote in f_read:\n",
    "        # data cleaning\n",
    "        quote = quote.strip(\" \\n\") # rwplace th quote with a modified quote\n",
    "        quote = re.sub(\" +\", \" \", quote) # replace multiple space with one space\n",
    "        # print each line\n",
    "        print(quote)\n",
    "\n",
    "        if quote != \"\":\n",
    "            f_write.write(f\"{i}. {quote}\\n\")\n",
    "            i+=1"
   ]
  }
 ],
 "metadata": {
  "kernelspec": {
   "display_name": "Python_Anja_Scherwall_DE25_Klass (3.12.10)",
   "language": "python",
   "name": "python3"
  },
  "language_info": {
   "codemirror_mode": {
    "name": "ipython",
    "version": 3
   },
   "file_extension": ".py",
   "mimetype": "text/x-python",
   "name": "python",
   "nbconvert_exporter": "python",
   "pygments_lexer": "ipython3",
   "version": "3.12.10"
  }
 },
 "nbformat": 4,
 "nbformat_minor": 5
}
