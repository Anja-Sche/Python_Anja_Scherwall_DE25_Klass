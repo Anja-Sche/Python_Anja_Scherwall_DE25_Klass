{
 "cells": [
  {
   "cell_type": "markdown",
   "id": "2bc27417",
   "metadata": {},
   "source": [
    "# File handling\n",
    "- reading text files (.txt)\n",
    "- we need to \n",
    "    - read the file\n",
    "    - clean contents\n",
    "    - write the clean content to a new text file\n",
    "- we focus nowon text/string contents"
   ]
  },
  {
   "cell_type": "markdown",
   "id": "504eefa5",
   "metadata": {},
   "source": [
    "#### Open the file directly "
   ]
  },
  {
   "cell_type": "code",
   "execution_count": null,
   "id": "e39a8a25",
   "metadata": {},
   "outputs": [
    {
     "name": "stdout",
     "output_type": "stream",
     "text": [
      "<_io.TextIOWrapper name='test.txt' mode='r' encoding='cp1252'>\n",
      "jowoueh\n",
      "ehqiphhv\n",
      "jsnajkkw\n"
     ]
    }
   ],
   "source": [
    "#open the file\n",
    "#the first argument is a path! \n",
    "#the second argument is the mode of opening (r is read-only)\n",
    "f = open(\"test.txt\", \"r\") \n",
    "print(f)\n",
    "\n",
    "#save the contents of the file i a variable\n",
    "text = f.read()\n",
    "print(text)\n",
    "\n",
    "#close the file\n",
    "f.close()"
   ]
  },
  {
   "cell_type": "markdown",
   "id": "b5a2a194",
   "metadata": {},
   "source": [
    "#### Open the file with `with` statement"
   ]
  },
  {
   "cell_type": "code",
   "execution_count": null,
   "id": "44054e81",
   "metadata": {},
   "outputs": [
    {
     "name": "stdout",
     "output_type": "stream",
     "text": [
      "jowoueh\n",
      "ehqiphhv\n",
      "jsnajkkw\n"
     ]
    }
   ],
   "source": [
    "with open(\"test.txt\", \"r\") as f:\n",
    "    text = f.read()\n",
    "    #with statement will close the file automatically\n",
    "\n",
    "print(text)"
   ]
  }
 ],
 "metadata": {
  "kernelspec": {
   "display_name": "Python_Anja_Scherwall_DE25_Klass (3.12.10)",
   "language": "python",
   "name": "python3"
  },
  "language_info": {
   "codemirror_mode": {
    "name": "ipython",
    "version": 3
   },
   "file_extension": ".py",
   "mimetype": "text/x-python",
   "name": "python",
   "nbconvert_exporter": "python",
   "pygments_lexer": "ipython3",
   "version": "3.12.10"
  }
 },
 "nbformat": 4,
 "nbformat_minor": 5
}
