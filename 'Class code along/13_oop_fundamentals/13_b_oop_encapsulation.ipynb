{
 "cells": [
  {
   "cell_type": "markdown",
   "id": "7ba3123b",
   "metadata": {},
   "source": [
    "# OOP encapsulaton\n",
    "- information hiding\n",
    "- user don't need to know underlying how it works\n",
    "- for example we can hide validation e.g. propper age for a person\n",
    "- user of your class needs to know how to use it - that is which methods and attributes can be used\n",
    "\n",
    "In general\n",
    "- one way to do encapsulation is to use private attributes and private methods\n",
    "    - these can't be accesed from outside the class\n",
    "\n",
    "- however in python thera is no such thing as private\n",
    "- in python - private by convention by usin a underscore prefix"
   ]
  },
  {
   "cell_type": "code",
   "execution_count": 1,
   "id": "5f2d0080",
   "metadata": {},
   "outputs": [
    {
     "data": {
      "text/plain": [
       "('Anja', 27)"
      ]
     },
     "execution_count": 1,
     "metadata": {},
     "output_type": "execute_result"
    }
   ],
   "source": [
    "# everything public\n",
    "\n",
    "class Person:\n",
    "    def __init__(self, name, age):\n",
    "        self.name = name\n",
    "        self.age = age\n",
    "\n",
    "p1 = Person(\"Anja\", 27)\n",
    "p1.name, p1.age"
   ]
  },
  {
   "cell_type": "code",
   "execution_count": 2,
   "id": "e152d458",
   "metadata": {},
   "outputs": [
    {
     "data": {
      "text/plain": [
       "-5"
      ]
     },
     "execution_count": 2,
     "metadata": {},
     "output_type": "execute_result"
    }
   ],
   "source": [
    "p2 = Person(\"Ada\", -5)\n",
    "p2.age"
   ]
  }
 ],
 "metadata": {
  "kernelspec": {
   "display_name": "Python_Anja_Scherwall_DE25_Klass (3.12.10)",
   "language": "python",
   "name": "python3"
  },
  "language_info": {
   "codemirror_mode": {
    "name": "ipython",
    "version": 3
   },
   "file_extension": ".py",
   "mimetype": "text/x-python",
   "name": "python",
   "nbconvert_exporter": "python",
   "pygments_lexer": "ipython3",
   "version": "3.12.10"
  }
 },
 "nbformat": 4,
 "nbformat_minor": 5
}
