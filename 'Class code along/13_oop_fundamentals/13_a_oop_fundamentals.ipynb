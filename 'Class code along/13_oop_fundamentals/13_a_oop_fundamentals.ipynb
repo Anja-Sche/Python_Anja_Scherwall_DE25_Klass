{
 "cells": [
  {
   "cell_type": "markdown",
   "id": "67d300a5",
   "metadata": {},
   "source": [
    "# OOP fundamentals\n",
    "- object oriented programming (OOP)"
   ]
  },
  {
   "cell_type": "code",
   "execution_count": 11,
   "id": "5e199532",
   "metadata": {},
   "outputs": [
    {
     "name": "stdout",
     "output_type": "stream",
     "text": [
      "dunder init running\n"
     ]
    },
    {
     "data": {
      "text/plain": [
       "'STI'"
      ]
     },
     "execution_count": 11,
     "metadata": {},
     "output_type": "execute_result"
    }
   ],
   "source": [
    "# define a class with name Admission\n",
    "class Admission:\n",
    "\n",
    "    # dunder \"init\" - initializer - note two underscoer before and after init\n",
    "    # this method will be run when you instantiate an instance from this class\n",
    "    def __init__(self, school, name, program = \"Cool program\"):\n",
    "        print(\"dunder init running\")\n",
    "\n",
    "        # set the attributes to the values from the arguments\n",
    "        self.school = school\n",
    "        self.name = name\n",
    "        self.program = program\n",
    "\n",
    "\n",
    "#instantiate the instance person1 that is of type Admission\n",
    "person1 = Admission(\"STI\", \"Ceda\")\n",
    "\n",
    "person1.school"
   ]
  },
  {
   "cell_type": "code",
   "execution_count": 12,
   "id": "8a03e3f5",
   "metadata": {},
   "outputs": [
    {
     "data": {
      "text/plain": [
       "'Cool program'"
      ]
     },
     "execution_count": 12,
     "metadata": {},
     "output_type": "execute_result"
    }
   ],
   "source": [
    "person1.program"
   ]
  },
  {
   "cell_type": "code",
   "execution_count": 13,
   "id": "b890805e",
   "metadata": {},
   "outputs": [
    {
     "name": "stdout",
     "output_type": "stream",
     "text": [
      "dunder init running\n"
     ]
    },
    {
     "data": {
      "text/plain": [
       "'java'"
      ]
     },
     "execution_count": 13,
     "metadata": {},
     "output_type": "execute_result"
    }
   ],
   "source": [
    "person2 = Admission(name = \"Johnny\", school = \"Cool school\", program = \"java\")\n",
    "person2.program"
   ]
  },
  {
   "cell_type": "markdown",
   "id": "edd8836b",
   "metadata": {},
   "source": [
    "## Note on memory\n",
    "By defalt, the \\_\\_repr\\_\\_ of an instance is showing the memory adress of where the instance live\n",
    "- each instance of the class live in different memory adresses\n",
    "    - they are different objects"
   ]
  },
  {
   "cell_type": "code",
   "execution_count": 15,
   "id": "e2275625",
   "metadata": {},
   "outputs": [
    {
     "data": {
      "text/plain": [
       "(<__main__.Admission at 0x143d3113470>, <__main__.Admission at 0x143d3053c80>)"
      ]
     },
     "execution_count": 15,
     "metadata": {},
     "output_type": "execute_result"
    }
   ],
   "source": [
    "person1, person2"
   ]
  },
  {
   "cell_type": "code",
   "execution_count": 16,
   "id": "1b9bb6f2",
   "metadata": {},
   "outputs": [
    {
     "name": "stdout",
     "output_type": "stream",
     "text": [
      "dunder init running\n"
     ]
    },
    {
     "data": {
      "text/plain": [
       "<__main__.Admission at 0x143d34214f0>"
      ]
     },
     "execution_count": 16,
     "metadata": {},
     "output_type": "execute_result"
    }
   ],
   "source": [
    "person3 = Admission(name = \"Johnny\", school = \"Cool school\", program = \"java\")\n",
    "person3"
   ]
  },
  {
   "cell_type": "markdown",
   "id": "a24d62f5",
   "metadata": {},
   "source": [
    "## Implement class students"
   ]
  },
  {
   "cell_type": "code",
   "execution_count": 1,
   "id": "ff053331",
   "metadata": {},
   "outputs": [
    {
     "data": {
      "text/plain": [
       "('Anna', 23)"
      ]
     },
     "execution_count": 1,
     "metadata": {},
     "output_type": "execute_result"
    }
   ],
   "source": [
    "class Student:\n",
    "    def __init__(self, name, type_of_study, passed, school, age):\n",
    "        self.name = name\n",
    "        self.type_of_study = type_of_study\n",
    "        self.passed = passed\n",
    "        self.school = school\n",
    "        self.age = age\n",
    "\n",
    "\n",
    "# positional arguments\n",
    "s1 = Student(\"Anna\", \"data engineer\", True, \"STI\", 23)\n",
    "\n",
    "# keyword arguments\n",
    "s2 = Student(name=\"Beda\", type_of_study=\"UX\", passed=True, school=\"STI\", age=33)\n",
    "\n",
    "s1.name, s1.age"
   ]
  },
  {
   "cell_type": "code",
   "execution_count": 23,
   "id": "b1f78911",
   "metadata": {},
   "outputs": [
    {
     "data": {
      "text/plain": [
       "'STI'"
      ]
     },
     "execution_count": 23,
     "metadata": {},
     "output_type": "execute_result"
    }
   ],
   "source": [
    "s1.school"
   ]
  },
  {
   "cell_type": "code",
   "execution_count": 21,
   "id": "1d2aa208",
   "metadata": {},
   "outputs": [
    {
     "data": {
      "text/plain": [
       "'Beda'"
      ]
     },
     "execution_count": 21,
     "metadata": {},
     "output_type": "execute_result"
    }
   ],
   "source": [
    "s2.name"
   ]
  },
  {
   "cell_type": "code",
   "execution_count": 22,
   "id": "bca0a1bb",
   "metadata": {},
   "outputs": [
    {
     "data": {
      "text/plain": [
       "'Anna'"
      ]
     },
     "execution_count": 22,
     "metadata": {},
     "output_type": "execute_result"
    }
   ],
   "source": [
    "s1.name"
   ]
  }
 ],
 "metadata": {
  "kernelspec": {
   "display_name": "Python_Anja_Scherwall_DE25_Klass (3.12.10)",
   "language": "python",
   "name": "python3"
  },
  "language_info": {
   "codemirror_mode": {
    "name": "ipython",
    "version": 3
   },
   "file_extension": ".py",
   "mimetype": "text/x-python",
   "name": "python",
   "nbconvert_exporter": "python",
   "pygments_lexer": "ipython3",
   "version": "3.12.10"
  }
 },
 "nbformat": 4,
 "nbformat_minor": 5
}
