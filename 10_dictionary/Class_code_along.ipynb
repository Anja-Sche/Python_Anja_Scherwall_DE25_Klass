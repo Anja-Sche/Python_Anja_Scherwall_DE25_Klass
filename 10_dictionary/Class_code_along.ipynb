{
 "cells": [
  {
   "cell_type": "markdown",
   "id": "f6a8bbb6",
   "metadata": {},
   "source": [
    "# Dictionary\n",
    "- also a collection data type\n",
    "- the data is stored in key-value pairs"
   ]
  },
  {
   "cell_type": "markdown",
   "id": "00f93f5b",
   "metadata": {},
   "source": [
    "##### Create a dictionary with dict() "
   ]
  },
  {
   "cell_type": "code",
   "execution_count": null,
   "id": "3cda0049",
   "metadata": {},
   "outputs": [],
   "source": [
    "# instaciate a dictionary object called person\n",
    "person = dict(name=\"Anja\", age=27, work=\"student\")"
   ]
  },
  {
   "cell_type": "code",
   "execution_count": 3,
   "id": "2b4e8fee",
   "metadata": {},
   "outputs": [
    {
     "name": "stdout",
     "output_type": "stream",
     "text": [
      "Anja\n",
      "student\n"
     ]
    }
   ],
   "source": [
    "# retrieve data from this dict\n",
    "# make use of the key from each value\n",
    "print(person[\"name\"])  # compare to indexing in a list\n",
    "print(person[\"work\"])"
   ]
  },
  {
   "cell_type": "markdown",
   "id": "7b77cf5e",
   "metadata": {},
   "source": [
    "##### Creata a dictionary with {}"
   ]
  },
  {
   "cell_type": "code",
   "execution_count": null,
   "id": "66abc020",
   "metadata": {},
   "outputs": [],
   "source": [
    "person = {\n",
    "    \"name\": \"Anja\",\n",
    "    \"age\": 27,\n",
    "    \"work\": \"student\",\n",
    "    \"interest\": [\"video games\", \"music\", \"baking\"],\n",
    "    \"adress\": {\"country\": \"Sweden\", \"City\": \"Stockholm\"},\n",
    "}\n",
    "# the value in one key-value pair can be another collection data type"
   ]
  },
  {
   "cell_type": "code",
   "execution_count": 6,
   "id": "758fb8d5",
   "metadata": {},
   "outputs": [
    {
     "name": "stdout",
     "output_type": "stream",
     "text": [
      "Anja\n",
      "student\n"
     ]
    }
   ],
   "source": [
    "print(person[\"name\"])\n",
    "print(person[\"work\"])"
   ]
  },
  {
   "cell_type": "code",
   "execution_count": 13,
   "id": "7ab1628c",
   "metadata": {},
   "outputs": [
    {
     "name": "stdout",
     "output_type": "stream",
     "text": [
      "['video games', 'music', 'baking']\n",
      "{'country': 'Sweden', 'City': 'Stockholm'}\n"
     ]
    }
   ],
   "source": [
    "print(person[\"interest\"])\n",
    "print(person[\"adress\"])"
   ]
  },
  {
   "cell_type": "code",
   "execution_count": null,
   "id": "363e4895",
   "metadata": {},
   "outputs": [],
   "source": [
    "# only print one interest\n",
    "print(person[\"interest\"][0])\n",
    "\n",
    "# only print one info from the adress\n",
    "print(person[\"adress\"][\"country\"])"
   ]
  },
  {
   "cell_type": "markdown",
   "id": "da0235da",
   "metadata": {},
   "source": [
    "##### Iterate over a dictionary"
   ]
  },
  {
   "cell_type": "code",
   "execution_count": 16,
   "id": "a31ebd11",
   "metadata": {},
   "outputs": [],
   "source": [
    "words = {\n",
    "    \"data structure\": \"means of storing data\",\n",
    "    \"regretion\": \"a function to best fit the data\",\n",
    "    \"method\": \"a function bound to an object\"\n",
    "}"
   ]
  },
  {
   "cell_type": "code",
   "execution_count": 21,
   "id": "331ca315",
   "metadata": {},
   "outputs": [
    {
     "name": "stdout",
     "output_type": "stream",
     "text": [
      "Key: data structure\n",
      "Value: means of storing data\n",
      "-----------------\n",
      "Key: regretion\n",
      "Value: a function to best fit the data\n",
      "-----------------\n",
      "Key: method\n",
      "Value: a function bound to an object\n",
      "-----------------\n"
     ]
    }
   ],
   "source": [
    "# iterative over both key and values\n",
    "for key, value in words.items():\n",
    "    print(f\"Key: {key}\")\n",
    "    print(f\"Value: {value}\")\n",
    "    print(\"-----------------\")"
   ]
  },
  {
   "cell_type": "code",
   "execution_count": 24,
   "id": "15e74747",
   "metadata": {},
   "outputs": [
    {
     "name": "stdout",
     "output_type": "stream",
     "text": [
      "Key: data structure\n",
      "------------\n",
      "Key: regretion\n",
      "------------\n",
      "Key: method\n",
      "------------\n"
     ]
    }
   ],
   "source": [
    "# iterative over keys\n",
    "for key in words.keys():\n",
    "    print(f\"Key: {key}\")\n",
    "    print(\"------------\")"
   ]
  },
  {
   "cell_type": "code",
   "execution_count": 29,
   "id": "15685fe2",
   "metadata": {},
   "outputs": [
    {
     "name": "stdout",
     "output_type": "stream",
     "text": [
      "Value: means of storing data\n",
      "------------\n",
      "Value: a function to best fit the data\n",
      "------------\n",
      "Value: a function bound to an object\n",
      "------------\n"
     ]
    }
   ],
   "source": [
    "# iterative over value\n",
    "for value in words.values():\n",
    "    print(f\"Value: {value}\")\n",
    "    print(\"------------\")"
   ]
  },
  {
   "cell_type": "markdown",
   "id": "78a13f6a",
   "metadata": {},
   "source": [
    "##### Dictionary comprehension"
   ]
  },
  {
   "cell_type": "code",
   "execution_count": 30,
   "id": "6f12c81d",
   "metadata": {},
   "outputs": [
    {
     "data": {
      "text/plain": [
       "{'F': 0, 'E': 10, 'D': 20, 'C': 30, 'B': 40, 'A': 50}"
      ]
     },
     "execution_count": 30,
     "metadata": {},
     "output_type": "execute_result"
    }
   ],
   "source": [
    "# we want to produce a dict called grade_limit\n",
    "\n",
    "# create this dictionary from scratch\n",
    "grade_limit = {\n",
    "              \"F\":0,\n",
    "              \"E\":10,\n",
    "              \"D\":20,\n",
    "              \"C\":30,\n",
    "              \"B\":40,\n",
    "              \"A\":50\n",
    "              }\n",
    "grade_limit"
   ]
  },
  {
   "cell_type": "code",
   "execution_count": 32,
   "id": "f689788d",
   "metadata": {},
   "outputs": [
    {
     "name": "stdout",
     "output_type": "stream",
     "text": [
      "0\n",
      "F\n",
      "1\n",
      "E\n",
      "2\n",
      "D\n",
      "3\n",
      "C\n",
      "4\n",
      "B\n",
      "5\n",
      "A\n"
     ]
    },
    {
     "data": {
      "text/plain": [
       "{'F': 0, 'E': 10, 'D': 20, 'C': 30, 'B': 40, 'A': 50}"
      ]
     },
     "execution_count": 32,
     "metadata": {},
     "output_type": "execute_result"
    }
   ],
   "source": [
    "# create the samr dict but with dictionary comprehension\n",
    "\n",
    "# check out the loopthat will be used inside dictionary comprehension\n",
    "for i, grade in enumerate(\"FEDCBA\"):\n",
    "    print(i)\n",
    "    print(grade)\n",
    "\n",
    "#create the dictionary now\n",
    "grade_limit = {grade: i*10 for i, grade in enumerate(\"FEDCBA\")}\n",
    "\n",
    "grade_limit"
   ]
  }
 ],
 "metadata": {
  "kernelspec": {
   "display_name": "Python_Anja_Scherwall_DE25_Klass (3.12.10)",
   "language": "python",
   "name": "python3"
  },
  "language_info": {
   "codemirror_mode": {
    "name": "ipython",
    "version": 3
   },
   "file_extension": ".py",
   "mimetype": "text/x-python",
   "name": "python",
   "nbconvert_exporter": "python",
   "pygments_lexer": "ipython3",
   "version": "3.12.10"
  }
 },
 "nbformat": 4,
 "nbformat_minor": 5
}
