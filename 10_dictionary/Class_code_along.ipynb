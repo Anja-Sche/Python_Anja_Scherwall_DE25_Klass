{
 "cells": [
  {
   "cell_type": "markdown",
   "id": "f6a8bbb6",
   "metadata": {},
   "source": [
    "# Dictionary\n",
    "- also a collection data type\n",
    "- the data is stored in key-value pairs"
   ]
  },
  {
   "cell_type": "markdown",
   "id": "00f93f5b",
   "metadata": {},
   "source": [
    "##### Create a dictionary with dict() "
   ]
  },
  {
   "cell_type": "code",
   "execution_count": null,
   "id": "3cda0049",
   "metadata": {},
   "outputs": [],
   "source": [
    "# instaciate a dictionary object called person\n",
    "person = dict(name=\"Anja\", age=27, work=\"student\")"
   ]
  },
  {
   "cell_type": "code",
   "execution_count": 3,
   "id": "2b4e8fee",
   "metadata": {},
   "outputs": [
    {
     "name": "stdout",
     "output_type": "stream",
     "text": [
      "Anja\n",
      "student\n"
     ]
    }
   ],
   "source": [
    "# retrieve data from this dict\n",
    "# make use of the key from each value\n",
    "print(person['name']) # compare to indexing in a list\n",
    "print(person['work'])\n"
   ]
  },
  {
   "cell_type": "markdown",
   "id": "7b77cf5e",
   "metadata": {},
   "source": [
    "##### Creata a dictionary with {}"
   ]
  },
  {
   "cell_type": "code",
   "execution_count": 12,
   "id": "66abc020",
   "metadata": {},
   "outputs": [],
   "source": [
    "person = {\"name\": \"Anja\", \"age\": 27, \"work\": \"student\", \"interest\": [\"video games\", \"music\", \"baking\"], \"adress\": {\"country\": \"Sweden\", \"City\": \"Stockholm\"}}\n",
    "#the value in one key-value pair can be another collection data type"
   ]
  },
  {
   "cell_type": "code",
   "execution_count": 6,
   "id": "758fb8d5",
   "metadata": {},
   "outputs": [
    {
     "name": "stdout",
     "output_type": "stream",
     "text": [
      "Anja\n",
      "student\n"
     ]
    }
   ],
   "source": [
    "print(person['name'])\n",
    "print(person[\"work\"])"
   ]
  },
  {
   "cell_type": "code",
   "execution_count": 13,
   "id": "7ab1628c",
   "metadata": {},
   "outputs": [
    {
     "name": "stdout",
     "output_type": "stream",
     "text": [
      "['video games', 'music', 'baking']\n",
      "{'country': 'Sweden', 'City': 'Stockholm'}\n"
     ]
    }
   ],
   "source": [
    "print(person[\"interest\"])\n",
    "print(person[\"adress\"])"
   ]
  },
  {
   "cell_type": "code",
   "execution_count": null,
   "id": "363e4895",
   "metadata": {},
   "outputs": [],
   "source": [
    "#only print one interest\n",
    "print(person[\"interest\"][0])\n",
    "\n",
    "#only print one info from the adress\n",
    "print(person[\"adress\"][\"country\"])"
   ]
  }
 ],
 "metadata": {
  "kernelspec": {
   "display_name": "Python_Anja_Scherwall_DE25_Klass (3.12.10)",
   "language": "python",
   "name": "python3"
  },
  "language_info": {
   "codemirror_mode": {
    "name": "ipython",
    "version": 3
   },
   "file_extension": ".py",
   "mimetype": "text/x-python",
   "name": "python",
   "nbconvert_exporter": "python",
   "pygments_lexer": "ipython3",
   "version": "3.12.10"
  }
 },
 "nbformat": 4,
 "nbformat_minor": 5
}
