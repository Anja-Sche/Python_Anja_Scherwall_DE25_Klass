{
 "cells": [
  {
   "cell_type": "markdown",
   "id": "a8f5678f",
   "metadata": {},
   "source": [
    "# Lists\n",
    "- one of the collection data type/iterables\n",
    "- used for storing several items in one veriable\n",
    "- for collection data type, we will be learning \n",
    "    - characteristics\n",
    "    - available operation"
   ]
  },
  {
   "cell_type": "markdown",
   "id": "50af95d4",
   "metadata": {},
   "source": [
    "##### Create a list"
   ]
  },
  {
   "cell_type": "code",
   "execution_count": 16,
   "id": "6ae7bad6",
   "metadata": {},
   "outputs": [],
   "source": [
    "tv_shows = [\"Antikrundan\", \"Mästerkockarna\", \"Aktuellt\", \"Talang\"]"
   ]
  },
  {
   "cell_type": "markdown",
   "id": "399c5ce3",
   "metadata": {},
   "source": [
    "##### Acces an item from a list (indexing)\n",
    "- index begins with 0\n",
    "- use the square branket [] to acces an item with a certain index\n",
    "- by default the first item begins from the left"
   ]
  },
  {
   "cell_type": "code",
   "execution_count": 18,
   "id": "a688f908",
   "metadata": {},
   "outputs": [
    {
     "data": {
      "text/plain": [
       "'Mästerkockarna'"
      ]
     },
     "execution_count": 18,
     "metadata": {},
     "output_type": "execute_result"
    }
   ],
   "source": [
    "#to acces the second item\n",
    "tv_shows[1]"
   ]
  },
  {
   "cell_type": "code",
   "execution_count": 19,
   "id": "8f6aaac8",
   "metadata": {},
   "outputs": [
    {
     "data": {
      "text/plain": [
       "'Talang'"
      ]
     },
     "execution_count": 19,
     "metadata": {},
     "output_type": "execute_result"
    }
   ],
   "source": [
    "#to acces the last item\n",
    "last_index = len(tv_shows) -1\n",
    "last_index\n",
    "\n",
    "tv_shows[last_index]"
   ]
  },
  {
   "cell_type": "code",
   "execution_count": 20,
   "id": "e1fa82c5",
   "metadata": {},
   "outputs": [
    {
     "data": {
      "text/plain": [
       "'Talang'"
      ]
     },
     "execution_count": 20,
     "metadata": {},
     "output_type": "execute_result"
    }
   ],
   "source": [
    "#to acces the last item by counting from the right\n",
    "tv_shows[-1]"
   ]
  },
  {
   "cell_type": "markdown",
   "id": "9c4a3763",
   "metadata": {},
   "source": [
    "##### Iterate through a list"
   ]
  },
  {
   "cell_type": "code",
   "execution_count": null,
   "id": "cd7e5170",
   "metadata": {},
   "outputs": [
    {
     "name": "stdout",
     "output_type": "stream",
     "text": [
      "Antikrundan\n",
      "Mästerkockarna\n",
      "Aktuellt\n",
      "Talang\n"
     ]
    }
   ],
   "source": [
    "for tv_show in tv_shows: # tv_show is an intermediate variable created when running the for loop\n",
    "    print(tv_show)"
   ]
  },
  {
   "cell_type": "markdown",
   "id": "8162f0cd",
   "metadata": {},
   "source": [
    "##### Change the value of a list item"
   ]
  },
  {
   "cell_type": "code",
   "execution_count": 25,
   "id": "76836ff7",
   "metadata": {},
   "outputs": [
    {
     "data": {
      "text/plain": [
       "['Vetenskapens värld', 'Mästerkockarna', 'Aktuellt', 'Talang']"
      ]
     },
     "execution_count": 25,
     "metadata": {},
     "output_type": "execute_result"
    }
   ],
   "source": [
    "# asigne a new value to the first item in the list\n",
    "tv_shows[0] = \"Vetenskapens värld\"\n",
    "tv_shows"
   ]
  },
  {
   "cell_type": "markdown",
   "id": "6d8182dd",
   "metadata": {},
   "source": [
    "##### Append new value to a list\n",
    "- adds a new item as the last item (at the end of the list)"
   ]
  },
  {
   "cell_type": "code",
   "execution_count": null,
   "id": "fed94d88",
   "metadata": {},
   "outputs": [
    {
     "data": {
      "text/plain": [
       "['Vetenskapens värld', 'Mästerkockarna', 'Aktuellt', 'Talang', 'Pokemon']"
      ]
     },
     "execution_count": 26,
     "metadata": {},
     "output_type": "execute_result"
    }
   ],
   "source": [
    "# tv_shows is a list, therefore it can use a method called append()\n",
    "tv_shows.append(\"Pokemon\")\n",
    "tv_shows"
   ]
  },
  {
   "cell_type": "markdown",
   "id": "a9be49e8",
   "metadata": {},
   "source": [
    "##### Access multiple items (slicing)\n",
    "- make use of slicing operator :"
   ]
  },
  {
   "cell_type": "code",
   "execution_count": null,
   "id": "ee39b5c4",
   "metadata": {},
   "outputs": [
    {
     "data": {
      "text/plain": [
       "['Vetenskapens värld', 'Mästerkockarna']"
      ]
     },
     "execution_count": 30,
     "metadata": {},
     "output_type": "execute_result"
    }
   ],
   "source": [
    "# closing boundary on the left and opening bondrey on the right\n",
    "#from the item with index 0 inclusivev up to item with index (2-1)\n",
    "tv_shows[0:2]"
   ]
  },
  {
   "cell_type": "markdown",
   "id": "354d4855",
   "metadata": {},
   "source": [
    "##### Sort a list "
   ]
  },
  {
   "cell_type": "code",
   "execution_count": null,
   "id": "f08b2113",
   "metadata": {},
   "outputs": [
    {
     "data": {
      "text/plain": [
       "['Aktuellt', 'Mästerkockarna', 'Pokemon', 'Talang', 'Vetenskapens värld']"
      ]
     },
     "execution_count": 31,
     "metadata": {},
     "output_type": "execute_result"
    }
   ],
   "source": [
    "tv_shows.sort() # by default, the list will sorted by ascending order (eather alphabetically or numerically)\n",
    "\n",
    "tv_shows"
   ]
  },
  {
   "cell_type": "code",
   "execution_count": 36,
   "id": "6e2b6453",
   "metadata": {},
   "outputs": [
    {
     "data": {
      "text/plain": [
       "['Vetenskapens värld', 'Talang', 'Pokemon', 'Mästerkockarna', 'Aktuellt']"
      ]
     },
     "execution_count": 36,
     "metadata": {},
     "output_type": "execute_result"
    }
   ],
   "source": [
    "# sort by decending order\n",
    "tv_shows.sort(reverse = True)\n",
    "tv_shows\n",
    "\n",
    "# not that with the sorting, index of items will be changed accordnigly"
   ]
  },
  {
   "cell_type": "code",
   "execution_count": 37,
   "id": "15d68b71",
   "metadata": {},
   "outputs": [
    {
     "data": {
      "text/plain": [
       "'Vetenskapens värld'"
      ]
     },
     "execution_count": 37,
     "metadata": {},
     "output_type": "execute_result"
    }
   ],
   "source": [
    "# not that with the sorting, index of items will be changed accordnigly\n",
    "tv_shows[0]\n"
   ]
  },
  {
   "cell_type": "markdown",
   "id": "7457d253",
   "metadata": {},
   "source": [
    "##### Creata a list with list comprehension\n",
    "- a clean way/code to create list when creating a list from another iterable"
   ]
  },
  {
   "cell_type": "code",
   "execution_count": null,
   "id": "6207aaa6",
   "metadata": {},
   "outputs": [
    {
     "data": {
      "text/plain": [
       "[1, 8, 27, 64, 125, 216, 343, 512, 729]"
      ]
     },
     "execution_count": 40,
     "metadata": {},
     "output_type": "execute_result"
    }
   ],
   "source": [
    "# the value for each item in the list cubes is actually a calculation from items in an existing iterabl (i.e. ragne())\n",
    "cubes = [x**3 for x in range(1,10)]\n",
    "cubes"
   ]
  },
  {
   "cell_type": "markdown",
   "id": "8f5107e8",
   "metadata": {},
   "source": [
    "# Tuples\n",
    "- less flexible than lists\n",
    "- but better performance than in lists"
   ]
  },
  {
   "cell_type": "markdown",
   "id": "908b7e81",
   "metadata": {},
   "source": [
    "### Creata a tuple"
   ]
  },
  {
   "cell_type": "code",
   "execution_count": 43,
   "id": "fa616227",
   "metadata": {},
   "outputs": [],
   "source": [
    "fruits = (\"apple\", \"orange\", \"grape\", \"strawberry\")"
   ]
  },
  {
   "cell_type": "markdown",
   "id": "454493fe",
   "metadata": {},
   "source": [
    "##### Access an item (indexing)"
   ]
  },
  {
   "cell_type": "code",
   "execution_count": 44,
   "id": "159b8d3c",
   "metadata": {},
   "outputs": [
    {
     "data": {
      "text/plain": [
       "'apple'"
      ]
     },
     "execution_count": 44,
     "metadata": {},
     "output_type": "execute_result"
    }
   ],
   "source": [
    "fruits[0]"
   ]
  },
  {
   "cell_type": "markdown",
   "id": "cdd10e0e",
   "metadata": {},
   "source": [
    "##### Accessing multiple items (slicing)"
   ]
  },
  {
   "cell_type": "code",
   "execution_count": 45,
   "id": "e3185042",
   "metadata": {},
   "outputs": [
    {
     "data": {
      "text/plain": [
       "('apple', 'orange')"
      ]
     },
     "execution_count": 45,
     "metadata": {},
     "output_type": "execute_result"
    }
   ],
   "source": [
    "fruits[0:2]"
   ]
  },
  {
   "cell_type": "markdown",
   "id": "1c33ce25",
   "metadata": {},
   "source": [
    "##### Can not change the value of an item of a tuple"
   ]
  },
  {
   "cell_type": "code",
   "execution_count": null,
   "id": "07751fda",
   "metadata": {},
   "outputs": [],
   "source": [
    "fruits[0] = \"grape\" #not possible"
   ]
  },
  {
   "cell_type": "markdown",
   "id": "93ef46ee",
   "metadata": {},
   "source": [
    "# Sets\n",
    "- object for those working with mathemetical sets"
   ]
  },
  {
   "cell_type": "markdown",
   "id": "338d84e5",
   "metadata": {},
   "source": [
    "##### Create a set"
   ]
  },
  {
   "cell_type": "code",
   "execution_count": 47,
   "id": "17d5599d",
   "metadata": {},
   "outputs": [
    {
     "data": {
      "text/plain": [
       "['anna@emaple.com', 'bob@example.com', 'bob@example.com', 'carla@example.com']"
      ]
     },
     "execution_count": 47,
     "metadata": {},
     "output_type": "execute_result"
    }
   ],
   "source": [
    "#create a list of emails with duplicates\n",
    "emails = [\"anna@emaple.com\", \"bob@example.com\", \"bob@example.com\", \"carla@example.com\"]\n",
    "\n",
    "emails"
   ]
  },
  {
   "cell_type": "code",
   "execution_count": null,
   "id": "a0262f97",
   "metadata": {},
   "outputs": [
    {
     "data": {
      "text/plain": [
       "{'anna@emaple.com', 'bob@example.com', 'carla@example.com'}"
      ]
     },
     "execution_count": 48,
     "metadata": {},
     "output_type": "execute_result"
    }
   ],
   "source": [
    "#use the items in the list to create a set\n",
    "#a set will keep only unique items\n",
    "emails_set = set(emails)\n",
    "emails_set"
   ]
  },
  {
   "cell_type": "markdown",
   "id": "285d9464",
   "metadata": {},
   "source": [
    "##### Intersect of two sets"
   ]
  },
  {
   "cell_type": "code",
   "execution_count": 55,
   "id": "ef23839d",
   "metadata": {},
   "outputs": [],
   "source": [
    "#create two sets\n",
    "first_month_customer = {\"alice\", \"bob\", \"carla\", \"daniel\"}\n",
    "second_month_customer = {\"carla\", \"daniel\", \"elena\"}"
   ]
  },
  {
   "cell_type": "code",
   "execution_count": 58,
   "id": "e0067803",
   "metadata": {},
   "outputs": [
    {
     "data": {
      "text/plain": [
       "{'carla', 'daniel'}"
      ]
     },
     "execution_count": 58,
     "metadata": {},
     "output_type": "execute_result"
    }
   ],
   "source": [
    "returning_customers = first_month_customer.intersection(second_month_customer)\n",
    "returning_customers"
   ]
  },
  {
   "cell_type": "markdown",
   "id": "e1e6cd0f",
   "metadata": {},
   "source": [
    "##### Union of two sets"
   ]
  },
  {
   "cell_type": "code",
   "execution_count": 59,
   "id": "9d6c3e0a",
   "metadata": {},
   "outputs": [
    {
     "data": {
      "text/plain": [
       "{'alice', 'bob', 'carla', 'daniel', 'elena'}"
      ]
     },
     "execution_count": 59,
     "metadata": {},
     "output_type": "execute_result"
    }
   ],
   "source": [
    "all_customers = first_month_customer.union(second_month_customer)\n",
    "all_customers"
   ]
  },
  {
   "cell_type": "markdown",
   "id": "62c4b04d",
   "metadata": {},
   "source": [
    "##### Except"
   ]
  },
  {
   "cell_type": "code",
   "execution_count": 62,
   "id": "4944a785",
   "metadata": {},
   "outputs": [
    {
     "data": {
      "text/plain": [
       "{'alice', 'bob', 'elena'}"
      ]
     },
     "execution_count": 62,
     "metadata": {},
     "output_type": "execute_result"
    }
   ],
   "source": [
    "onetime_customer = all_customers - returning_customers\n",
    "onetime_customer"
   ]
  }
 ],
 "metadata": {
  "kernelspec": {
   "display_name": "Python_Anja_Scherwall_DE25_Klass",
   "language": "python",
   "name": "python3"
  },
  "language_info": {
   "codemirror_mode": {
    "name": "ipython",
    "version": 3
   },
   "file_extension": ".py",
   "mimetype": "text/x-python",
   "name": "python",
   "nbconvert_exporter": "python",
   "pygments_lexer": "ipython3",
   "version": "3.12.10"
  }
 },
 "nbformat": 4,
 "nbformat_minor": 5
}
