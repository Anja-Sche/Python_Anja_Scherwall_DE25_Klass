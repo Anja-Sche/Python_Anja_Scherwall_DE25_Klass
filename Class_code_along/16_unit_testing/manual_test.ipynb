{
 "cells": [
  {
   "cell_type": "markdown",
   "id": "10ed3ad6",
   "metadata": {},
   "source": [
    "# Manual Testing of Vector class"
   ]
  },
  {
   "cell_type": "code",
   "execution_count": 1,
   "id": "782abe6c",
   "metadata": {},
   "outputs": [
    {
     "data": {
      "text/plain": [
       "(Vector(2.0, 5.0), Vector(-1.0, 1.0))"
      ]
     },
     "execution_count": 1,
     "metadata": {},
     "output_type": "execute_result"
    }
   ],
   "source": [
    "from vector import Vector\n",
    "\n",
    "# vector with coordinate 2 and 5\n",
    "\n",
    "v1 = Vector(2,5)\n",
    "v2 = Vector(-1,1)\n",
    "v1, v2"
   ]
  },
  {
   "cell_type": "markdown",
   "id": "0e04371d",
   "metadata": {},
   "source": [
    "### a few tests we expect will work"
   ]
  },
  {
   "cell_type": "code",
   "execution_count": 2,
   "id": "6d115bba",
   "metadata": {},
   "outputs": [
    {
     "name": "stdout",
     "output_type": "stream",
     "text": [
      "len(v1) = 2\n",
      "v1.numbers = (2.0, 5.0)\n",
      "v1+v2 = Vector(1.0, 6.0)\n"
     ]
    }
   ],
   "source": [
    "print(f\"{len(v1) = }\")\n",
    "print(f\"{v1.numbers = }\")\n",
    "print(f\"{v1+v2 = }\")"
   ]
  },
  {
   "cell_type": "markdown",
   "id": "ea7707e3",
   "metadata": {},
   "source": [
    "### testing correct errors"
   ]
  },
  {
   "cell_type": "code",
   "execution_count": 3,
   "id": "7a4963d6",
   "metadata": {},
   "outputs": [
    {
     "name": "stdout",
     "output_type": "stream",
     "text": [
      "'1' is not valid number in a vector\n"
     ]
    }
   ],
   "source": [
    "try:\n",
    "    Vector(\"1\", 1)\n",
    "except TypeError as err:\n",
    "    print(err)"
   ]
  },
  {
   "cell_type": "code",
   "execution_count": 4,
   "id": "c28dc914",
   "metadata": {},
   "outputs": [
    {
     "name": "stdout",
     "output_type": "stream",
     "text": [
      "Both must be Vector and have the same length\n"
     ]
    }
   ],
   "source": [
    "v1 = Vector(1,2)\n",
    "v2 = Vector(1,2,3)\n",
    "\n",
    "try:\n",
    "    v1+v2\n",
    "except TypeError as err:\n",
    "    print(err)"
   ]
  }
 ],
 "metadata": {
  "kernelspec": {
   "display_name": "Python_Anja_Scherwall_DE25_Klass (3.12.10)",
   "language": "python",
   "name": "python3"
  },
  "language_info": {
   "codemirror_mode": {
    "name": "ipython",
    "version": 3
   },
   "file_extension": ".py",
   "mimetype": "text/x-python",
   "name": "python",
   "nbconvert_exporter": "python",
   "pygments_lexer": "ipython3",
   "version": "3.12.10"
  }
 },
 "nbformat": 4,
 "nbformat_minor": 5
}
