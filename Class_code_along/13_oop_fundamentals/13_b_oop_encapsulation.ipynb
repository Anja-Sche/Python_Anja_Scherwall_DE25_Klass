{
 "cells": [
  {
   "cell_type": "markdown",
   "id": "7ba3123b",
   "metadata": {},
   "source": [
    "# OOP encapsulaton\n",
    "- information hiding\n",
    "- user don't need to know underlying how it works\n",
    "- for example we can hide validation e.g. propper age for a person\n",
    "- user of your class needs to know how to use it - that is which methods and attributes can be used\n",
    "\n",
    "In general\n",
    "- one way to do encapsulation is to use private attributes and private methods\n",
    "    - these can't be accesed from outside the class\n",
    "\n",
    "- however in python thera is no such thing as private\n",
    "- in python - private by convention by usin a underscore prefix"
   ]
  },
  {
   "cell_type": "code",
   "execution_count": 1,
   "id": "5f2d0080",
   "metadata": {},
   "outputs": [
    {
     "data": {
      "text/plain": [
       "('Anja', 27)"
      ]
     },
     "execution_count": 1,
     "metadata": {},
     "output_type": "execute_result"
    }
   ],
   "source": [
    "# everything public\n",
    "\n",
    "class Person:\n",
    "    def __init__(self, name, age):\n",
    "        self.name = name\n",
    "        self.age = age\n",
    "\n",
    "p1 = Person(\"Anja\", 27)\n",
    "p1.name, p1.age"
   ]
  },
  {
   "cell_type": "code",
   "execution_count": 2,
   "id": "e152d458",
   "metadata": {},
   "outputs": [
    {
     "data": {
      "text/plain": [
       "-5"
      ]
     },
     "execution_count": 2,
     "metadata": {},
     "output_type": "execute_result"
    }
   ],
   "source": [
    "p2 = Person(\"Ada\", -5)\n",
    "p2.age"
   ]
  },
  {
   "cell_type": "code",
   "execution_count": 5,
   "id": "7c813741",
   "metadata": {},
   "outputs": [
    {
     "ename": "AttributeError",
     "evalue": "'Person' object has no attribute 'name'",
     "output_type": "error",
     "traceback": [
      "\u001b[31m---------------------------------------------------------------------------\u001b[39m",
      "\u001b[31mAttributeError\u001b[39m                            Traceback (most recent call last)",
      "\u001b[36mCell\u001b[39m\u001b[36m \u001b[39m\u001b[32mIn[5]\u001b[39m\u001b[32m, line 9\u001b[39m\n\u001b[32m      6\u001b[39m p3 = Person(\u001b[33m\"\u001b[39m\u001b[33mBeda\u001b[39m\u001b[33m\"\u001b[39m, -\u001b[32m3\u001b[39m)\n\u001b[32m      8\u001b[39m \u001b[38;5;66;03m# name attribute don't exist anymore\u001b[39;00m\n\u001b[32m----> \u001b[39m\u001b[32m9\u001b[39m \u001b[43mp3\u001b[49m\u001b[43m.\u001b[49m\u001b[43mname\u001b[49m\n",
      "\u001b[31mAttributeError\u001b[39m: 'Person' object has no attribute 'name'"
     ]
    }
   ],
   "source": [
    "class Person:\n",
    "    def __init__(self, name, age):\n",
    "        self._name = name\n",
    "        self._age = age\n",
    "\n",
    "p3 = Person(\"Beda\", -3)\n",
    "\n",
    "# name attribute don't exist anymore\n",
    "p3.name"
   ]
  },
  {
   "cell_type": "code",
   "execution_count": null,
   "id": "fb05cedf",
   "metadata": {},
   "outputs": [
    {
     "data": {
      "text/plain": [
       "'Beda'"
      ]
     },
     "execution_count": 6,
     "metadata": {},
     "output_type": "execute_result"
    }
   ],
   "source": [
    "# you should not do this, but you can\n",
    "# python programmers know that underscore prefix is private by convention\n",
    "p3._name"
   ]
  },
  {
   "cell_type": "markdown",
   "id": "251a5295",
   "metadata": {},
   "source": [
    "fix validation of age - Naive approach"
   ]
  },
  {
   "cell_type": "code",
   "execution_count": null,
   "id": "285af418",
   "metadata": {},
   "outputs": [
    {
     "name": "stdout",
     "output_type": "stream",
     "text": [
      "Age must be between 0 and 124\n"
     ]
    },
    {
     "data": {
      "text/plain": [
       "Person('Eda', 5)"
      ]
     },
     "execution_count": 17,
     "metadata": {},
     "output_type": "execute_result"
    }
   ],
   "source": [
    "class Person:\n",
    "    def __init__(self, name, age):\n",
    "        self._name = name\n",
    "\n",
    "        # issue: this validation only happens during instantiation\n",
    "        if not (0 <= age <= 125):\n",
    "            raise ValueError(\"Age must be between 0 and 124\")\n",
    "\n",
    "        self._age = age\n",
    "\n",
    "    def __repr__(self):\n",
    "        return f\"Person('{self._name}', {self._age})\"\n",
    "\n",
    "try:\n",
    "    p4 = Person(\"Doda\", -5)\n",
    "except ValueError as err:\n",
    "    print(err)\n",
    "\n",
    "p5 = Person(\"Eda\", 5)\n",
    "p5"
   ]
  },
  {
   "cell_type": "code",
   "execution_count": null,
   "id": "24f5bd0a",
   "metadata": {},
   "outputs": [
    {
     "data": {
      "text/plain": [
       "Person('Eda', -5)"
      ]
     },
     "execution_count": 19,
     "metadata": {},
     "output_type": "execute_result"
    }
   ],
   "source": [
    "# this is not good, but okay because validation happens only in __init__ now\n",
    "p5._age = -5\n",
    "p5"
   ]
  },
  {
   "cell_type": "markdown",
   "id": "d37e023a",
   "metadata": {},
   "source": [
    "## Property\n",
    "\n",
    "- getter -> gets a value\n",
    "- setter -> sets a value\n",
    "\n",
    "idea: put in validation in the setter -> encapsulated validation code"
   ]
  },
  {
   "cell_type": "markdown",
   "id": "7a6d8be8",
   "metadata": {},
   "source": [
    "### read only age\n",
    "\n",
    "only the getter is defined that is with the @property"
   ]
  },
  {
   "cell_type": "code",
   "execution_count": 21,
   "id": "94e8e124",
   "metadata": {},
   "outputs": [
    {
     "name": "stdout",
     "output_type": "stream",
     "text": [
      "age getter called\n"
     ]
    },
    {
     "data": {
      "text/plain": [
       "8"
      ]
     },
     "execution_count": 21,
     "metadata": {},
     "output_type": "execute_result"
    }
   ],
   "source": [
    "class Person:\n",
    "    def __init__(self, name, age):\n",
    "        self._name = name\n",
    "\n",
    "        # issue: this validation only happens during instantiation\n",
    "        if not (0 <= age <= 125):\n",
    "            raise ValueError(\"Age must be between 0 and 124\")\n",
    "\n",
    "        self._age = age\n",
    "\n",
    "    # a decorator - it gives a function more functionality\n",
    "    # makes it in to a property (getter and setter)\n",
    "    @property\n",
    "    def age(self): \n",
    "        print(\"age getter called\")\n",
    "        return self._age\n",
    "\n",
    "    def __repr__(self):\n",
    "        return f\"Person('{self._name}', {self._age})\"\n",
    "\n",
    "\n",
    "\n",
    "p6 = Person(\"Bibbi\", 8)\n",
    "p6.age"
   ]
  },
  {
   "cell_type": "code",
   "execution_count": null,
   "id": "8b4bb97e",
   "metadata": {},
   "outputs": [
    {
     "ename": "AttributeError",
     "evalue": "property 'age' of 'Person' object has no setter",
     "output_type": "error",
     "traceback": [
      "\u001b[31m---------------------------------------------------------------------------\u001b[39m",
      "\u001b[31mAttributeError\u001b[39m                            Traceback (most recent call last)",
      "\u001b[36mCell\u001b[39m\u001b[36m \u001b[39m\u001b[32mIn[22]\u001b[39m\u001b[32m, line 1\u001b[39m\n\u001b[32m----> \u001b[39m\u001b[32m1\u001b[39m \u001b[43mp6\u001b[49m\u001b[43m.\u001b[49m\u001b[43mage\u001b[49m = \u001b[32m5\u001b[39m\n",
      "\u001b[31mAttributeError\u001b[39m: property 'age' of 'Person' object has no setter"
     ]
    }
   ],
   "source": [
    "# there is no setter\n",
    "p6.age = 5"
   ]
  },
  {
   "cell_type": "markdown",
   "id": "d97ccee2",
   "metadata": {},
   "source": [
    "### implementing setter"
   ]
  },
  {
   "cell_type": "code",
   "execution_count": 55,
   "id": "c9a84539",
   "metadata": {},
   "outputs": [
    {
     "name": "stdout",
     "output_type": "stream",
     "text": [
      "age setter called\n",
      "age getter called\n"
     ]
    },
    {
     "data": {
      "text/plain": [
       "8"
      ]
     },
     "execution_count": 55,
     "metadata": {},
     "output_type": "execute_result"
    }
   ],
   "source": [
    "class Person:\n",
    "    def __init__(self, name, age):\n",
    "        self._name = name\n",
    "\n",
    "        # issue: this validation only happens during instantiation\n",
    "        if not (0 <= age <= 125):\n",
    "            raise ValueError(\"Age must be between 0 and 124\")\n",
    "\n",
    "        self.age = age # now calls the setter (without underscore)\n",
    "\n",
    "    # a decorator - it gives a function more functionality\n",
    "    # makes it in to a property (getter and setter)\n",
    "    @property\n",
    "    def age(self): \n",
    "        print(\"age getter called\")\n",
    "        return self._age\n",
    "\n",
    "\n",
    "    @age.setter\n",
    "    def age(self, value):\n",
    "        print(\"age setter called\")\n",
    "        self._age = value\n",
    "        \n",
    "\n",
    "    def __repr__(self):\n",
    "        return f\"Person('{self._name}', {self._age})\"\n",
    "\n",
    "\n",
    "# when instanciating a person - we use the age setter\n",
    "p7 = Person(\"Bobbo\", 8)\n",
    "# use the age getter\n",
    "p7.age\n",
    "\n"
   ]
  },
  {
   "cell_type": "code",
   "execution_count": 56,
   "id": "bd8f72ab",
   "metadata": {},
   "outputs": [
    {
     "name": "stdout",
     "output_type": "stream",
     "text": [
      "age setter called\n"
     ]
    },
    {
     "data": {
      "text/plain": [
       "Person('Bobbo', 33)"
      ]
     },
     "execution_count": 56,
     "metadata": {},
     "output_type": "execute_result"
    }
   ],
   "source": [
    "p7.age=33\n",
    "p7"
   ]
  },
  {
   "cell_type": "code",
   "execution_count": 57,
   "id": "9c5d0796",
   "metadata": {},
   "outputs": [
    {
     "name": "stdout",
     "output_type": "stream",
     "text": [
      "age setter called\n"
     ]
    },
    {
     "data": {
      "text/plain": [
       "Person('Bobbo', -5)"
      ]
     },
     "execution_count": 57,
     "metadata": {},
     "output_type": "execute_result"
    }
   ],
   "source": [
    "p7.age=-5\n",
    "p7"
   ]
  },
  {
   "cell_type": "code",
   "execution_count": null,
   "id": "3c91446d",
   "metadata": {},
   "outputs": [],
   "source": [
    "class Person:\n",
    "    def __init__(self, name, age):\n",
    "        self._name = name\n",
    "        # whenever we do assignment where there is a setter\n",
    "        # the setter will be called\n",
    "        self._age = age\n",
    "\n",
    "    # a decorator - it gives a function more functionality\n",
    "    # makes it in to a property (getter and setter)\n",
    "    @property\n",
    "    def age(self): \n",
    "        print(\"age getter called\")\n",
    "        return self._age\n",
    "\n",
    "\n",
    "    @age.setter\n",
    "    def age(self, value):\n",
    "        print(\"age setter called\")\n",
    "        \n",
    "        if not (0 <= value <= 125):\n",
    "            raise ValueError(\"Age must be between 0 and 124\")\n",
    "        self._age = value\n",
    "        \n",
    "            \n",
    "\n",
    "    def __repr__(self):\n",
    "        return f\"Person('{self._name}', {self.age})\"\n",
    "\n",
    "p9 = Person(\"Bobbo\", 8)\n",
    "try:\n",
    "    p9.age = -3\n",
    "except ValueError as err:\n",
    "            print(err)\n",
    "p9\n",
    "\n",
    "\n"
   ]
  },
  {
   "cell_type": "markdown",
   "id": "a10fff2a",
   "metadata": {},
   "source": [
    "## Excercise \n",
    "-Employee\n",
    "    +name: str\n",
    "    -social_security_number: int\n",
    "    +salary: int\n",
    "    +role: str\n",
    "    +employment_year: int\n",
    "\n",
    "-Method \n",
    "+increase_sallary(self, value)\n",
    "\n",
    "- initiate a few employees"
   ]
  },
  {
   "cell_type": "code",
   "execution_count": 19,
   "id": "95764116",
   "metadata": {},
   "outputs": [],
   "source": [
    "class Employee:\n",
    "    def __init__(\n",
    "        self,\n",
    "        name: str,\n",
    "        social_security_nr: str,\n",
    "        salary: int,\n",
    "        role: str,\n",
    "        employment_year: int,\n",
    "    ):\n",
    "        self.name = name\n",
    "        self._social_security_nr = social_security_nr\n",
    "        self._salary = salary\n",
    "        self.role = role\n",
    "        self.employment_year = employment_year\n",
    "\n",
    "    @property\n",
    "    def salary(self):\n",
    "        return self._salary\n",
    "\n",
    "    @salary.setter\n",
    "    def salary(self, value):\n",
    "        if value <= 0:\n",
    "            raise ValueError(\"The value must be positive\")\n",
    "        self._salary = value\n",
    "\n",
    "    def __repr__(self):\n",
    "        return f\"Employee(name = '{self.name}', soial_security_nr = '{self._social_security_nr}', salary = {self.salary}, role = '{self.role}' employment_year = {self.employment_year})\"\n",
    "\n",
    "    def __str__(self):\n",
    "        return f\"{self.name} has the role of {self.role} and started working the year {self.employment_year}. Their salary is {self.salary}\"\n",
    "\n",
    "    def increade_salary(self, value):\n",
    "        self.salary += value\n",
    "        print(\n",
    "            f\"'{self.name}' now has a salary of {self.salary} kr. With the new rais {value}\"\n",
    "        )\n",
    "\n",
    "\n",
    "employee1 = Employee(\"Anja\", \"980508-6000\", 60000, \"Data engineer\", 2027)\n",
    "employee2 = Employee(\"Felix\", \"940423-6100\", 61000, \"Data engineer\", 2027)"
   ]
  },
  {
   "cell_type": "code",
   "execution_count": 20,
   "id": "103d2cfc",
   "metadata": {},
   "outputs": [
    {
     "name": "stdout",
     "output_type": "stream",
     "text": [
      "'Anja' now has a salary of 62500 kr. With the new rais 2500\n",
      "Anja has the role of Data engineer and started working the year 2027. Their salary is 62500\n"
     ]
    },
    {
     "data": {
      "text/plain": [
       "Employee(name = 'Felix', soial_security_nr = '940423-6100', salary = 61000, role = 'Data engineer' employment_year = 2027)"
      ]
     },
     "execution_count": 20,
     "metadata": {},
     "output_type": "execute_result"
    }
   ],
   "source": [
    "employee1.increade_salary(2500)\n",
    "print(employee1)\n",
    "employee2"
   ]
  },
  {
   "cell_type": "markdown",
   "id": "54a774fa",
   "metadata": {},
   "source": [
    "## OOP employee encapsulation exercise - solution (with class/teacher) "
   ]
  },
  {
   "cell_type": "markdown",
   "id": "aaf2c951",
   "metadata": {},
   "source": [
    "#### version 1"
   ]
  },
  {
   "cell_type": "code",
   "execution_count": 25,
   "id": "cf275655",
   "metadata": {},
   "outputs": [
    {
     "data": {
      "text/plain": [
       "Employee(Cicci, 200212012222, 30000, Säljare, 2024)"
      ]
     },
     "execution_count": 25,
     "metadata": {},
     "output_type": "execute_result"
    }
   ],
   "source": [
    "class Employee:\n",
    "    def __init__(\n",
    "        self,\n",
    "        name: str,\n",
    "        social_security_nr: str,\n",
    "        salary: int,\n",
    "        role: str,\n",
    "        employment_year: int,\n",
    "    ):\n",
    "        self.name = name\n",
    "        self._social_security_nr = social_security_nr\n",
    "        self.salary = salary\n",
    "        self.role = role\n",
    "        self.employment_year = employment_year\n",
    "\n",
    "    def increase_salary(self, value):\n",
    "        self.salary += value\n",
    "\n",
    "    def __repr__(self):\n",
    "        return f\"Employee({self.name}, {self._social_security_nr}, {self.salary}, {self.role}, {self.employment_year})\"\n",
    "    \n",
    "e1 = Employee(\"Cicci\", 200212012222, 25000, \"Säljare\", 2024)\n",
    "e1.increase_salary(5000)\n",
    "e1"
   ]
  },
  {
   "cell_type": "code",
   "execution_count": 26,
   "id": "d8a7b155",
   "metadata": {},
   "outputs": [
    {
     "data": {
      "text/plain": [
       "30000"
      ]
     },
     "execution_count": 26,
     "metadata": {},
     "output_type": "execute_result"
    }
   ],
   "source": [
    "e1.salary"
   ]
  },
  {
   "cell_type": "markdown",
   "id": "1d392750",
   "metadata": {},
   "source": [
    " #### version 2\n",
    "\n",
    "- also add type hinting\n",
    "- documentation"
   ]
  },
  {
   "cell_type": "code",
   "execution_count": null,
   "id": "90caabe7",
   "metadata": {},
   "outputs": [
    {
     "name": "stdout",
     "output_type": "stream",
     "text": [
      "Salary can't be negative\n"
     ]
    }
   ],
   "source": [
    "class Employee:\n",
    "    \"\"\"\n",
    "    A class to hold employee information\n",
    "\n",
    "    Attributes:\n",
    "    - name (str): name of the person\n",
    "    - social_security_number (int): the social security number of a person in 12 numbers\n",
    "    - salary (int): salary in SEK, needs to be larger or equal to 0\n",
    "    - role (str): the role of the employee\n",
    "    - employment_year (int): the year the employee started working\n",
    "\n",
    "    Methods:\n",
    "    - increase_salary (value): increases the salary of the employee with value SEK\n",
    "\n",
    "    Example usage:\n",
    "    >>> e1 = Employe(\"Cicci\", 200212012222, -25000, \"Säljare\", 2024)\n",
    "    >>> e1.increase_salary(5000)\n",
    "    >>> e1.salary\n",
    "    \n",
    "    \"\"\"\n",
    "    def __init__(\n",
    "        self,\n",
    "        name: str,\n",
    "        social_security_nr: int,\n",
    "        salary: int,\n",
    "        role: str,\n",
    "        employment_year: int,\n",
    "    ):\n",
    "        self.name = name\n",
    "        self._social_security_nr = social_security_nr\n",
    "        self.salary = salary\n",
    "        self.role = role\n",
    "        self.employment_year = employment_year\n",
    "\n",
    "    @property\n",
    "    def salary(self) -> int:\n",
    "        # return the private backing variable\n",
    "        return self._salary\n",
    "    \n",
    "    @salary.setter\n",
    "    def salary(self, value) -> None:\n",
    "        if value <= 0:\n",
    "            raise ValueError (f\"Salary can't be negative\")\n",
    "        self._salary = value\n",
    "\n",
    "    def increase_salary(self, value) -> None:\n",
    "        self.salary += value\n",
    "\n",
    "    def __repr__(self) -> str:\n",
    "        return f\"Employee({self.name}, {self._social_security_nr}, {self.salary}, {self.role}, {self.employment_year})\"\n",
    "\n",
    "try:    \n",
    "    e2 = Employee(\"Cicci\", 200212012222, -25000, \"Säljare\", 2024)\n",
    "except ValueError as err:\n",
    "    print(err)"
   ]
  },
  {
   "cell_type": "code",
   "execution_count": 30,
   "id": "79bf5418",
   "metadata": {},
   "outputs": [
    {
     "data": {
      "text/plain": [
       "Employee(1, 1, 1, 1, 1)"
      ]
     },
     "execution_count": 30,
     "metadata": {},
     "output_type": "execute_result"
    }
   ],
   "source": [
    "# possible cause type hints ar only hints, can not be inforced\n",
    "Employee(1,1,1,1,1)"
   ]
  },
  {
   "cell_type": "code",
   "execution_count": null,
   "id": "e15ee9b5",
   "metadata": {},
   "outputs": [],
   "source": [
    "#hovver over the ()\n",
    "Employee()"
   ]
  },
  {
   "cell_type": "code",
   "execution_count": null,
   "id": "965499ab",
   "metadata": {},
   "outputs": [
    {
     "name": "stdout",
     "output_type": "stream",
     "text": [
      "Help on class Employee in module __main__:\n",
      "\n",
      "class Employee(builtins.object)\n",
      " |  Employee(name: str, social_security_nr: int, salary: int, role: str, employment_year: int)\n",
      " |\n",
      " |  A class to hold employee information\n",
      " |\n",
      " |  Attributes:\n",
      " |  - name (str): name of the person\n",
      " |  - social_security_number (int): the social security number of a person in 12 numbers\n",
      " |  - salary (int): salary in SEK, needs to be larger or equal to 0\n",
      " |  - role (str): the role of the employee\n",
      " |  - employment_year (int): the year the employee started working\n",
      " |\n",
      " |  Methods:\n",
      " |  - increase_salary (value): increases the salary of the employee with value SEK\n",
      " |\n",
      " |  Example usage:\n",
      " |  >>> e1 = Employe(\"Cicci\", 200212012222, -25000, \"Säljare\", 2024)\n",
      " |  >>> e1.increase_salary(5000)\n",
      " |  >>> e1.salary\n",
      " |\n",
      " |  Methods defined here:\n",
      " |\n",
      " |  __init__(self, name: str, social_security_nr: int, salary: int, role: str, employment_year: int)\n",
      " |      Initialize self.  See help(type(self)) for accurate signature.\n",
      " |\n",
      " |  __repr__(self)\n",
      " |      Return repr(self).\n",
      " |\n",
      " |  increase_salary(self, value)\n",
      " |\n",
      " |  ----------------------------------------------------------------------\n",
      " |  Data descriptors defined here:\n",
      " |\n",
      " |  __dict__\n",
      " |      dictionary for instance variables\n",
      " |\n",
      " |  __weakref__\n",
      " |      list of weak references to the object\n",
      " |\n",
      " |  salary\n",
      "\n"
     ]
    }
   ],
   "source": [
    "# ee the whole documentation\n",
    "help(Employee)"
   ]
  }
 ],
 "metadata": {
  "kernelspec": {
   "display_name": "Python_Anja_Scherwall_DE25_Klass (3.12.10)",
   "language": "python",
   "name": "python3"
  },
  "language_info": {
   "codemirror_mode": {
    "name": "ipython",
    "version": 3
   },
   "file_extension": ".py",
   "mimetype": "text/x-python",
   "name": "python",
   "nbconvert_exporter": "python",
   "pygments_lexer": "ipython3",
   "version": "3.12.10"
  }
 },
 "nbformat": 4,
 "nbformat_minor": 5
}
