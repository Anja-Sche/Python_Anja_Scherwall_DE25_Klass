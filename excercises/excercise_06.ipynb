{
 "cells": [
  {
   "cell_type": "markdown",
   "id": "e65afdc4",
   "metadata": {},
   "source": [
    "## 0. Unit conversion (\\*)\n",
    "\n",
    "Create a class for converting US units to the metric system. It should have the following **bound methods**:\n",
    "\n",
    "```python\n",
    "__init__ (self, value)\n",
    "\n",
    "inch_to_cm(self)\n",
    "\n",
    "foot_to_meters(self)\n",
    "\n",
    "pound_to_kg(self)\n",
    "\n",
    "__repr__(self)\n",
    "\n",
    "```\n",
    "\n",
    "Make sure that value is the correct type and format, raise suitable exceptions in case it isn't. Make value into **property** with getter and setter. Test your class manually by instantiating an object from it and test different methods. (\\*)\n"
   ]
  },
  {
   "cell_type": "markdown",
   "id": "9e25f0fd",
   "metadata": {},
   "source": [
    "1 inch = 2.54 cm\n",
    "1 foot = 0.3048 m\n",
    "1 pound = 0.45359237 kg"
   ]
  },
  {
   "cell_type": "code",
   "execution_count": 102,
   "id": "0ff0962c",
   "metadata": {},
   "outputs": [
    {
     "name": "stdout",
     "output_type": "stream",
     "text": [
      "value setter\n",
      "You need to put in a number\n",
      "value getter\n"
     ]
    },
    {
     "data": {
      "text/plain": [
       "You put in value 5."
      ]
     },
     "execution_count": 102,
     "metadata": {},
     "output_type": "execute_result"
    }
   ],
   "source": [
    "class ConvertUsUnits:\n",
    "    def __init__(self, value):\n",
    "        self._value = value\n",
    "\n",
    "    @property\n",
    "    def value(self):\n",
    "        print(\"value getter\")\n",
    "        return self._value\n",
    "\n",
    "    @value.setter\n",
    "    def value(self, value) -> None:\n",
    "        print(\"value setter\")\n",
    "\n",
    "        if not isinstance(value, (int | float)):\n",
    "            raise TypeError(\"You need to put in a number\")\n",
    "        if not (0 <= value):\n",
    "            raise ValueError(\"The value must be bigger that 0\")\n",
    "        self._value = value\n",
    "\n",
    "    def inch_to_cm(self) -> None:\n",
    "        cm = self.value * 2.54\n",
    "        print(f\"{self.value} inches are {cm} cm\")\n",
    "        \n",
    "\n",
    "    def foot_to_meter(self) -> None:\n",
    "        meter = self.value * 0.3048\n",
    "        print(f\"{self.value} feet are {meter} meters\")\n",
    "        \n",
    "\n",
    "    def pound_to_kg(self) -> None:\n",
    "        kg = self.value * 0.45359237\n",
    "        print(f\"{self.value} pounds are {kg} kg\")\n",
    "\n",
    "    def __repr__(self) -> str:\n",
    "        return f\"You put in value {self.value}.\"\n",
    "\n",
    "\n",
    "\n",
    "\n",
    "\n",
    "v2 = ConvertUsUnits(5)\n",
    "try:\n",
    "    v2.value = \"hej\"\n",
    "except TypeError as err:\n",
    "    print(err)\n",
    "v2"
   ]
  },
  {
   "cell_type": "markdown",
   "id": "440bb1a8",
   "metadata": {},
   "source": [
    "## 1. Person (\\*)\n",
    "\n",
    "Create a class named Person, with **parameterized constructor** with the following parameters:\n",
    "\n",
    "- name\n",
    "- age\n",
    "- email\n",
    "\n",
    "Turn name, age, email into **properties** with following validations in their setters:\n",
    "\n",
    "- name - must be string\n",
    "- age - must be number between 0 and 125\n",
    "- email - must include an @ sign\n",
    "\n",
    "It should also have `__repr__` method to represent the Person class in a neat way.\n",
    "\n",
    "Also create a method `say_hello()` that prints\n",
    "\n",
    "```\n",
    "Hi, my name is ..., I am ... years old, my email address is ...\n",
    "```"
   ]
  }
 ],
 "metadata": {
  "kernelspec": {
   "display_name": "Python_Anja_Scherwall_DE25_Klass (3.12.10)",
   "language": "python",
   "name": "python3"
  },
  "language_info": {
   "codemirror_mode": {
    "name": "ipython",
    "version": 3
   },
   "file_extension": ".py",
   "mimetype": "text/x-python",
   "name": "python",
   "nbconvert_exporter": "python",
   "pygments_lexer": "ipython3",
   "version": "3.12.10"
  }
 },
 "nbformat": 4,
 "nbformat_minor": 5
}
