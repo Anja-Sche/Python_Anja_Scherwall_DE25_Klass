{
 "cells": [
  {
   "cell_type": "markdown",
   "id": "e65afdc4",
   "metadata": {},
   "source": [
    "## 0. Unit conversion (\\*)\n",
    "\n",
    "Create a class for converting US units to the metric system. It should have the following **bound methods**:\n",
    "\n",
    "```python\n",
    "__init__ (self, value)\n",
    "\n",
    "inch_to_cm(self)\n",
    "\n",
    "foot_to_meters(self)\n",
    "\n",
    "pound_to_kg(self)\n",
    "\n",
    "__repr__(self)\n",
    "\n",
    "```\n",
    "\n",
    "Make sure that value is the correct type and format, raise suitable exceptions in case it isn't. Make value into **property** with getter and setter. Test your class manually by instantiating an object from it and test different methods. (\\*)\n"
   ]
  },
  {
   "cell_type": "markdown",
   "id": "9e25f0fd",
   "metadata": {},
   "source": [
    "1 inch = 2.54 cm\n",
    "1 foot = 0.3048 m\n",
    "1 pound = 0.45359237 kg"
   ]
  },
  {
   "cell_type": "code",
   "execution_count": null,
   "id": "0ff0962c",
   "metadata": {},
   "outputs": [],
   "source": [
    "class ConvertUsUnits:\n",
    "    def __init__(self, value):\n",
    "        self.value = value\n",
    "\n",
    "    def "
   ]
  },
  {
   "cell_type": "markdown",
   "id": "440bb1a8",
   "metadata": {},
   "source": [
    "## 1. Person (\\*)\n",
    "\n",
    "Create a class named Person, with **parameterized constructor** with the following parameters:\n",
    "\n",
    "- name\n",
    "- age\n",
    "- email\n",
    "\n",
    "Turn name, age, email into **properties** with following validations in their setters:\n",
    "\n",
    "- name - must be string\n",
    "- age - must be number between 0 and 125\n",
    "- email - must include an @ sign\n",
    "\n",
    "It should also have `__repr__` method to represent the Person class in a neat way.\n",
    "\n",
    "Also create a method `say_hello()` that prints\n",
    "\n",
    "```\n",
    "Hi, my name is ..., I am ... years old, my email address is ...\n",
    "```"
   ]
  }
 ],
 "metadata": {
  "kernelspec": {
   "display_name": "Python_Anja_Scherwall_DE25_Klass (3.12.10)",
   "language": "python",
   "name": "python3"
  },
  "language_info": {
   "name": "python",
   "version": "3.12.10"
  }
 },
 "nbformat": 4,
 "nbformat_minor": 5
}
