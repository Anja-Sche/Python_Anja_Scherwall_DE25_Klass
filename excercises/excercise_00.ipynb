{
 "cells": [
  {
   "cell_type": "markdown",
   "id": "fa915316",
   "metadata": {},
   "source": [
    "# Exercise 0 - Git and github repositories"
   ]
  },
  {
   "cell_type": "markdown",
   "id": "bb832476",
   "metadata": {},
   "source": [
    "### 0. Python repo\n",
    "This repo we are curently in."
   ]
  },
  {
   "cell_type": "markdown",
   "id": "f300a781",
   "metadata": {},
   "source": [
    "### 1. Portfolio repo \n",
    "Portfolio: https://github.com/Anja-Sche/Portfolio-Anja-Scherwall"
   ]
  },
  {
   "cell_type": "markdown",
   "id": "b58b5131",
   "metadata": {},
   "source": [
    "### 2. Theoretical exercises \n",
    "a) What is the difference between git and github?\n",
    "Git is used to save versions of your code localy on your computer, github is a remote place to store your code and chack commit history.\n",
    "\n",
    "b) What is the purpose of .gitignore file?\n",
    "You write the name of files that the system should ignore and not send to your repository.\n",
    "\n",
    "c) Why is it a good idea to work with git and github?\n",
    "It is good for making and keeping version control on your code and for having a backup. Als you can work on different computers by pushing anc pulling your code fråm github."
   ]
  },
  {
   "cell_type": "markdown",
   "id": "1d9fdc68",
   "metadata": {},
   "source": [
    "## Glossary\n",
    "\n",
    "| terminology     | explanation                                        |\n",
    "| --------------- | -------------------------------------------------- |\n",
    "| git             | save versions localy on your computer              |\n",
    "| github          | a remote repository                                |\n",
    "| version control | Saves cde ant the changes so you easaly can go back|\n",
    "| backup          | a copy of your file/code                           |\n",
    "| gitignore       | files that the system should not put in repo       |\n",
    "| commit          | make a checkpoint in your changes                  |\n",
    "| pull            | take the latest updates from your repo             |\n",
    "| clone           | make a copy of your remote repo localy             |\n",
    "| cd              | change directory                                   |\n",
    "| ls              | list                                               |"
   ]
  }
 ],
 "metadata": {
  "kernelspec": {
   "display_name": "Python_Anja_Scherwall_DE25_Klass",
   "language": "python",
   "name": "python3"
  },
  "language_info": {
   "name": "python",
   "version": "3.12.10"
  }
 },
 "nbformat": 4,
 "nbformat_minor": 5
}
