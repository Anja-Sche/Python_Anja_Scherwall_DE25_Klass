{
 "cells": [
  {
   "cell_type": "markdown",
   "id": "de144594",
   "metadata": {},
   "source": [
    "## 0. Dice rolls (\\*)\n",
    "\n",
    "Simulate 10 dice rolls and **append** the rolls to a list. Do this once again but now use **list comprehension** instead to create the list.\n",
    "\n",
    "a) sort the list in **ascending** order (\\*)\n",
    "\n",
    "b) sort the list in **descending** order (\\*)\n",
    "\n",
    "c) find the **maximum** and **minimum** value in the list (\\*)\n",
    "\n",
    "d) calculate the **mean** (average) of the list (\\*)\n",
    "\n",
    "e) find the **median** of the list (\\*)\n",
    "\n",
    "f) extract only the unique values from the list. The output should be a list (\\*)"
   ]
  },
  {
   "cell_type": "code",
   "execution_count": null,
   "id": "15f4e97f",
   "metadata": {},
   "outputs": [
    {
     "name": "stdout",
     "output_type": "stream",
     "text": [
      "[5, 5, 1, 2, 3, 2, 4, 2, 6, 3]\n"
     ]
    }
   ],
   "source": [
    "#a)\n",
    "import random as rnd\n",
    "\n",
    "roll_list = []\n",
    "\n",
    "for roll in range(10):\n",
    "    roll = rnd.randint(1,6)\n",
    "    #print(dice_roll)\n",
    "    roll_list.append(roll)\n",
    "print(roll_list)\n"
   ]
  },
  {
   "cell_type": "code",
   "execution_count": 129,
   "id": "275a9b7c",
   "metadata": {},
   "outputs": [
    {
     "name": "stdout",
     "output_type": "stream",
     "text": [
      "[6, 1, 2, 6, 2, 4, 2, 6, 6, 2]\n"
     ]
    }
   ],
   "source": [
    "#a, list comprehentions)\n",
    "import random as rnd\n",
    "\n",
    "\n",
    "roll_list = [rnd.randint(1,6) for roll in range(10)]\n",
    "\n",
    "print(roll_list)"
   ]
  },
  {
   "cell_type": "code",
   "execution_count": 102,
   "id": "7fc79b84",
   "metadata": {},
   "outputs": [
    {
     "name": "stdout",
     "output_type": "stream",
     "text": [
      "[6, 2, 6, 1, 4, 4, 5, 2, 3, 1]\n"
     ]
    }
   ],
   "source": [
    "#b)\n",
    "import random as rnd\n",
    "\n",
    "roll_list = []\n",
    "\n",
    "for roll in range(10):\n",
    "    roll = rnd.randint(1,6)\n",
    "    #print(roll)\n",
    "    roll_list.append(roll)\n",
    "roll_list.reverse()    #kan också skriva roll_list.sort(reverse=True)\n",
    "print(roll_list)"
   ]
  },
  {
   "cell_type": "code",
   "execution_count": 138,
   "id": "be39951f",
   "metadata": {},
   "outputs": [
    {
     "name": "stdout",
     "output_type": "stream",
     "text": [
      "[3, 2, 4, 5, 4, 6, 3, 5, 6, 2]\n",
      "[2, 6, 5, 3, 6, 4, 5, 4, 2, 3]\n"
     ]
    }
   ],
   "source": [
    "#b, list comprehentions)\n",
    "import random as rnd\n",
    "\n",
    "roll_list = [rnd.randint(1,6) for roll in range(10)]\n",
    "baklanges = [bak for bak in reversed(roll_list)]\n",
    "print(roll_list)\n",
    "print(baklanges)"
   ]
  },
  {
   "cell_type": "code",
   "execution_count": 74,
   "id": "b1951588",
   "metadata": {},
   "outputs": [
    {
     "name": "stdout",
     "output_type": "stream",
     "text": [
      "The minimum value in the list is 2, the maximim value in the list is 6\n"
     ]
    }
   ],
   "source": [
    "#c)\n",
    "import random as rnd\n",
    "\n",
    "roll_list = []\n",
    "\n",
    "for roll in range(10):\n",
    "    roll = rnd.randint(1,6)\n",
    "    roll_list.append(roll)\n",
    "roll_list.sort()\n",
    "print(f\"The minimum value in the list is {roll_list[0]}, the maximim value in the list is {roll_list[9]}\")"
   ]
  },
  {
   "cell_type": "code",
   "execution_count": null,
   "id": "757e70aa",
   "metadata": {},
   "outputs": [
    {
     "name": "stdout",
     "output_type": "stream",
     "text": [
      "[2, 5, 2, 1, 5, 2, 5, 6, 1, 5]\n",
      "The minimum value in the list is 1, the maximim value in the list is 6\n"
     ]
    }
   ],
   "source": [
    "#c, list comprehentions)\n",
    "import random as rnd\n",
    "\n",
    "roll_list = [rnd.randint(1,6) for roll in range(10)]\n",
    "#print(roll_list)\n",
    "roll_list.sort()\n",
    "print(f\"The minimum value in the list is {roll_list[0]}, the maximim value in the list is {roll_list[9]}\")\n"
   ]
  },
  {
   "cell_type": "code",
   "execution_count": null,
   "id": "3eb4233f",
   "metadata": {},
   "outputs": [
    {
     "name": "stdout",
     "output_type": "stream",
     "text": [
      "Mean: 3.8\n"
     ]
    }
   ],
   "source": [
    "#d)\n",
    "import random as rnd\n",
    "import statistics\n",
    "\n",
    "roll_list = []\n",
    "\n",
    "for roll in range(10):\n",
    "    roll = rnd.randint(1,6)\n",
    "    #print(roll)\n",
    "    roll_list.append(roll)\n",
    "#print(roll_list)\n",
    "print(\"Mean:\", statistics.mean(roll_list))"
   ]
  },
  {
   "cell_type": "code",
   "execution_count": 162,
   "id": "845cff34",
   "metadata": {},
   "outputs": [
    {
     "name": "stdout",
     "output_type": "stream",
     "text": [
      "4.8\n"
     ]
    }
   ],
   "source": [
    "#d, list comprehentions)\n",
    "import random as rnd\n",
    "import statistics\n",
    "\n",
    "roll_list = [rnd.randint(1,6) for roll in range(10)]\n",
    "#print(roll_list)\n",
    "print(statistics.mean(roll_list))"
   ]
  },
  {
   "cell_type": "code",
   "execution_count": null,
   "id": "767afeda",
   "metadata": {},
   "outputs": [
    {
     "name": "stdout",
     "output_type": "stream",
     "text": [
      "Madian 2.5\n"
     ]
    }
   ],
   "source": [
    "#e)\n",
    "import random as rnd\n",
    "import statistics\n",
    "\n",
    "roll_list = []\n",
    "\n",
    "for roll in range(10):\n",
    "    roll=rnd.randint(1,6)\n",
    "    roll_list.append(roll)\n",
    "print(\"Madian\", end = \" \")\n",
    "print(statistics.median(roll_list))"
   ]
  },
  {
   "cell_type": "code",
   "execution_count": 166,
   "id": "467957d3",
   "metadata": {},
   "outputs": [
    {
     "name": "stdout",
     "output_type": "stream",
     "text": [
      "[1, 6, 3, 1, 2, 2, 2, 5, 5, 5]\n",
      "2.5\n"
     ]
    }
   ],
   "source": [
    "#e, list comprehentions)\n",
    "import random as rnd\n",
    "import statistics\n",
    "\n",
    "roll_list = [rnd.randint(1,6) for roll in range(10)]\n",
    "print(roll_list)\n",
    "print(statistics.median(roll_list))"
   ]
  },
  {
   "cell_type": "code",
   "execution_count": 177,
   "id": "ac2a701d",
   "metadata": {},
   "outputs": [
    {
     "name": "stdout",
     "output_type": "stream",
     "text": [
      "{2, 3, 4, 5, 6}\n"
     ]
    }
   ],
   "source": [
    "#f)\n",
    "import random as rnd\n",
    "\n",
    "roll_list = []\n",
    "\n",
    "for roll in range(10):\n",
    "    roll = rnd.randint(1,6)\n",
    "    roll_list.append(roll)\n",
    "uniq_rolls = set(roll_list)\n",
    "print(uniq_rolls)"
   ]
  },
  {
   "cell_type": "code",
   "execution_count": 179,
   "id": "e2ca415e",
   "metadata": {},
   "outputs": [
    {
     "name": "stdout",
     "output_type": "stream",
     "text": [
      "{1, 2, 3, 4, 5, 6}\n"
     ]
    }
   ],
   "source": [
    "#f, list comprehentions)\n",
    "import random as rnd\n",
    "\n",
    "roll_list = [rnd.randint(1,6) for roll in range(10)]\n",
    "unique = set(roll_list)\n",
    "#print(roll_list)\n",
    "print(unique)"
   ]
  },
  {
   "cell_type": "code",
   "execution_count": null,
   "id": "e52b526f",
   "metadata": {},
   "outputs": [
    {
     "name": "stdout",
     "output_type": "stream",
     "text": [
      "['Anja', 'Emy', 'Ia', 'Jimmy', 'Johan', 'Martin']\n",
      "['Martin', 'Johan', 'Jimmy', 'Ia', 'Emy', 'Anja']\n"
     ]
    }
   ],
   "source": [
    "#testar en sak\n",
    "n = [\"Anja\", \"Jimmy\", \"Ia\", \"Johan\", \"Emy\", \"Martin\"]\n",
    "n.sort()\n",
    "print(n)\n",
    "n.sort(reverse=True)\n",
    "print(n)"
   ]
  },
  {
   "cell_type": "markdown",
   "id": "46910584",
   "metadata": {},
   "source": [
    "## 1. Food menu (\\*)\n",
    "\n",
    "Create a:\n",
    "\n",
    "a) **list** with the following elements: \"vegetarian lasagna\", \"spaghetti\", \"fish\", \"soup\", \"pancakes\". (\\*)\n",
    "\n",
    "b) **list** with the weekdays (\\*)\n",
    "\n",
    "c) create a food menu with each day corresponding to each food item and print it out like this (\\*)\n",
    "\n",
    "```bash\n",
    "Day        Food\n",
    "-----------------\n",
    "Monday     vegetarian lasagna\n",
    "Tuesday    spaghetti\n",
    "Wednesday  fish\n",
    "Thursday   soup\n",
    "Friday     pancakes\n",
    "```"
   ]
  },
  {
   "cell_type": "code",
   "execution_count": 24,
   "id": "75be4906",
   "metadata": {},
   "outputs": [
    {
     "name": "stdout",
     "output_type": "stream",
     "text": [
      "Day         Food\n",
      "--------------------\n",
      "Monday      vegetarian lasagna\n",
      "Tuseday     spaghetti\n",
      "Wednesday   fish\n",
      "Thursday    soup\n",
      "Friday      pancakes\n"
     ]
    }
   ],
   "source": [
    "days= [\"Monday\", \"Tuseday\", \"Wednesday\", \"Thursday\", \"Friday\"]\n",
    "foods= [\"vegetarian lasagna\", \"spaghetti\", \"fish\", \"soup\", \"pancakes\"]\n",
    "\n",
    "print(f\"{'Day':<12}Food\")\n",
    "print(\"--------------------\")\n",
    "for day, food in zip(days, foods):\n",
    "    print(f\"{day:<12}{food}\")"
   ]
  },
  {
   "cell_type": "markdown",
   "id": "b3da86e7",
   "metadata": {},
   "source": [
    "## 2. Squares (\\*)\n",
    "\n",
    "a) Use **list comprehension** to create a list of squares from -10 to 10 (\\*)\n",
    "\n",
    "b) Plot this list using **matplotlib**. (\\*)"
   ]
  },
  {
   "cell_type": "markdown",
   "id": "024f8c5f",
   "metadata": {},
   "source": [
    "## 3. Chessboard (\\*\\*)\n",
    "\n",
    "a) Create this list using **list comprehension**: (\\*)\n",
    "\n",
    "```python\n",
    "['A1', 'B1', 'C1', 'D1', 'E1', 'F1', 'G1', 'H1']\n",
    "```\n",
    "\n",
    "b) Create a 2D list to hold the coordinates in a chessboard like this (\\*\\*)\n",
    "\n",
    "```\n",
    "[[A1, B1, C1, D1, E1, F1, G1, H1],\n",
    " [A2, B2, C2, D2, E2, F2, G2, H2],\n",
    " [A3, B3, C3, D3, E3, F3, G3, H3],\n",
    " [A4, B4, C4, D4, E4, F4, G4, H4],\n",
    " [A5, B5, C5, D5, E5, F5, G5, H5],\n",
    " [A6, B6, C6, D6, E6, F6, G6, H6],\n",
    " [A7, B7, C7, D7, E7, F7, G7, H7],\n",
    " [A8, B8, C8, D8, E8, F8, G8 ,H8]]\n",
    "```\n",
    "\n",
    "c) Instead of lists use tuples to hold the coordinates in a chessboard like this (\\*\\*)\n",
    "\n",
    "```\n",
    "((\"A\",1),(\"B\",1),(\"C\",1),(\"D\",1),(\"E\",1),(\"F\",1),(\"G\",1),(\"H\",1)),\n",
    "((\"A\",2),(\"B\",2),(\"C\",2),(\"D\",2),(\"E\",2),(\"F\",2),(\"G\",2),(\"H\",2)),\n",
    "((\"A\",3),(\"B\",3),(\"C\",3),(\"D\",3),(\"E\",3),(\"F\",3),(\"G\",3),(\"H\",3)),\n",
    "((\"A\",4),(\"B\",4),(\"C\",4),(\"D\",4),(\"E\",4),(\"F\",4),(\"G\",4),(\"H\",4)),\n",
    "((\"A\",5),(\"B\",5),(\"C\",5),(\"D\",5),(\"E\",5),(\"F\",5),(\"G\",5),(\"H\",5)),\n",
    "((\"A\",6),(\"B\",6),(\"C\",6),(\"D\",6),(\"E\",6),(\"F\",6),(\"G\",6),(\"H\",6)),\n",
    "((\"A\",7),(\"B\",7),(\"C\",7),(\"D\",7),(\"E\",7),(\"F\",7),(\"G\",7),(\"H\",7)),\n",
    "((\"A\",8),(\"B\",8),(\"C\",8),(\"D\",8),(\"E\",8),(\"F\",8),(\"G\",8),(\"H\",8))\n",
    "```"
   ]
  },
  {
   "cell_type": "markdown",
   "id": "f8e13595",
   "metadata": {},
   "source": [
    "## 4. Dice rolls convergence (\\*\\*)\n",
    "\n",
    "Simulate:\n",
    "\n",
    "a) 100 dice rolls and count the number of outcome six. (\\*)\n",
    "\n",
    "b) 10, 100, 1000, 10000, 100000, 1000000 dice rolls. Count the number of outcome six in each simulation and store it in a list. Compute the probability of outcome six in each simulation. (\\*\\*)\n",
    "\n",
    "c) Use matplotlib to plot this list. (\\*)"
   ]
  },
  {
   "cell_type": "markdown",
   "id": "f9f56702",
   "metadata": {},
   "source": [
    "## 5. Monte Carlo simulation (\\*\\*\\*)\n",
    "\n",
    "a) Simulate 5000 uniformly distributed points between -1 and 1, $X\\sim U(-1,1)$. Now calculate the Euclidean distances between each point and the origin (0,0), $d_i = \\sqrt{x_i^2 + y_i^2}$. For $d_i < 1$ plot the point with one color, and for $d_i > 1$ plot the point in another color, $i = \\{1,\\ldots, 5000\\}$. (\\*\\*)\n",
    "\n",
    "b) Calculate the fraction between number of inner points and number of outer points. What do you this will converge to when number of points reaches infinity? (\\*\\*)"
   ]
  },
  {
   "cell_type": "markdown",
   "id": "1564dd56",
   "metadata": {},
   "source": [
    "## 6. A cute rabbit among two ferocious snakes (\\*\\*\\*)\n",
    "\n",
    "There are three identical doors, behind two of them, there are ferocious snakes and behind one of them is a cute little rabbit. Your aim is to pick a door and get the cute rabbit. You start picking one door randomly and suddenly another door opens and snake slithers away _pssss_. Now you have a choice to either stay with your door or change to the remaining door.\n",
    "\n",
    "<img src=\"https://github.com/kokchun/assets/blob/main/python/snakes_rabbits.png?raw=true\" width = 200>\n",
    "\n",
    "a) What is your choice and why? (\\*\\*)\n",
    "\n",
    "b) Randomly assign which door has the rabbit, and randomly pick an initial door. Now simulate 10, 100, 1000, 10000, 100000, 1000000 times for staying and for switching doors. Calculate the proportion of finding the rabbits for each set of simulations. Plot the results (\\*\\*)"
   ]
  },
  {
   "cell_type": "markdown",
   "id": "78156bff",
   "metadata": {},
   "source": [
    "## 7. Theory\n",
    "\n",
    "a) What is a sequence in Python? Give examples of sequence types.\n",
    "\n",
    "b) What is the difference between a list and a tuple?\n",
    "\n",
    "c) How does indexing work in Python sequences? What happens if you use a negative index?\n",
    "\n",
    "d) How does Python handle out-of-range indices in slicing vs indexing?\n",
    "\n",
    "e) Which of the following sequence types are mutable: list, tuple, str, range?\n",
    "\n",
    "f) What is sequence unpacking? Provide an example.\n",
    "\n",
    "g) What are some common use cases for enumerate() and zip() when working with sequences?\n",
    "\n",
    "h) What is the difference between sorted() and .sort() in lists?"
   ]
  },
  {
   "cell_type": "markdown",
   "id": "5da72edf",
   "metadata": {},
   "source": [
    "## Glossary\n",
    "\n",
    "Fill in this table either by copying this into your own markdown file or copy it into a spreadsheet if you feel that is easier to work with.\n",
    "\n",
    "| terminology     | explanation |\n",
    "| --------------- | ----------- |\n",
    "| sequence        |             |\n",
    "| list            |             |\n",
    "| tuple           |             |\n",
    "| set             |             |\n",
    "| range           |             |\n",
    "| indexing        |             |\n",
    "| slicing         |             |\n",
    "| comprehension   |             |\n",
    "| zip             |             |\n",
    "| enumermate      |             |\n",
    "| unpacking       |             |\n",
    "| membership test |             |\n",
    "|                 |             |"
   ]
  }
 ],
 "metadata": {
  "kernelspec": {
   "display_name": "Python_Anja_Scherwall_DE25_Klass",
   "language": "python",
   "name": "python3"
  },
  "language_info": {
   "codemirror_mode": {
    "name": "ipython",
    "version": 3
   },
   "file_extension": ".py",
   "mimetype": "text/x-python",
   "name": "python",
   "nbconvert_exporter": "python",
   "pygments_lexer": "ipython3",
   "version": "3.12.10"
  }
 },
 "nbformat": 4,
 "nbformat_minor": 5
}
