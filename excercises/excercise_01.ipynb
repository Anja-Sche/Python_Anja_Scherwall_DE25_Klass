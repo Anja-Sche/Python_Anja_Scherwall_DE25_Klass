{
 "cells": [
  {
   "cell_type": "markdown",
   "id": "85c7a569",
   "metadata": {},
   "source": [
    "## 0. Pythagorean theorem (*)\n",
    "a) A right angled triangle has the catheti: a = 3 and b = 4 length units. Compute the hypothenuse of the triangle. (*)\n",
    "\n",
    "b) A right angled triangle has hypothenuse c = 7.0 and a cathetus a = 5.0 length units. Compute the other cathetus and round to one decimal. (*)"
   ]
  },
  {
   "cell_type": "code",
   "execution_count": 41,
   "id": "dc0032ac",
   "metadata": {},
   "outputs": [
    {
     "name": "stdout",
     "output_type": "stream",
     "text": [
      "Längden på sida C på triangeln är 5.0\n"
     ]
    }
   ],
   "source": [
    "#a)\n",
    "side_a = 3\n",
    "side_b = 4 \n",
    "\n",
    "side_c = (side_a**2 + side_b**2)**0.5\n",
    "\n",
    "print(f\"Längden på sida C på triangeln är {side_c}\")"
   ]
  },
  {
   "cell_type": "code",
   "execution_count": 39,
   "id": "1ee22c30",
   "metadata": {},
   "outputs": [
    {
     "name": "stdout",
     "output_type": "stream",
     "text": [
      "Längden på sida B på triangeln är 4.9\n"
     ]
    }
   ],
   "source": [
    "#b)\n",
    "side_a = 5.0\n",
    "side_c = 7.0\n",
    "\n",
    "side_b = (side_c**2 - side_a**2)**0.5\n",
    "\n",
    "print(f\"Längden på sida B på triangeln är {side_b :.1f}\")"
   ]
  },
  {
   "cell_type": "markdown",
   "id": "6d868152",
   "metadata": {},
   "source": [
    "## 1. Classification accuracy (*)\n",
    "A machine learning algorithm has been trained to predict whether or not it would rain the next day. Out of 365 predictions, it got 300 correct, compute the accuracy of this model."
   ]
  },
  {
   "cell_type": "code",
   "execution_count": 45,
   "id": "d0eb2e14",
   "metadata": {},
   "outputs": [
    {
     "name": "stdout",
     "output_type": "stream",
     "text": [
      "The accuracy is 82.19%\n"
     ]
    }
   ],
   "source": [
    "days = 365 \n",
    "correct = 300\n",
    "\n",
    "accuracy = (correct/days)*100\n",
    "\n",
    "print(f\"The accuracy is {accuracy :.2f}%\")"
   ]
  },
  {
   "cell_type": "markdown",
   "id": "8f1b89b2",
   "metadata": {},
   "source": [
    "## 2. Classification accuracy (*)"
   ]
  },
  {
   "cell_type": "code",
   "execution_count": null,
   "id": "702f3223",
   "metadata": {},
   "outputs": [
    {
     "name": "stdout",
     "output_type": "stream",
     "text": [
      "The accuracy of the machine being right is 98.7%\n"
     ]
    }
   ],
   "source": [
    "TP = 2\n",
    "FP = 2\n",
    "FN = 11\n",
    "TN = 985\n",
    "\n",
    "accuracy = ((TP + TN)/(TP+TN+FP+FN))*100\n",
    "\n",
    "print(f\"The accuracy of the machine being right is {accuracy}%\")\n",
    "\n",
    "#This is a good model because the number of times there was a fire and the result was False Positive is way less than the amount of times we calculate.\n",
    "#This medel is not godd in the sence that there have been the same amount of True Positive and False Positive, \n",
    "# so only half the times there has been a fire it has detected it."
   ]
  },
  {
   "cell_type": "markdown",
   "id": "6787ab3c",
   "metadata": {},
   "source": [
    "## 3. File metadata - format print (*)"
   ]
  },
  {
   "cell_type": "code",
   "execution_count": 11,
   "id": "63224243",
   "metadata": {},
   "outputs": [
    {
     "name": "stdout",
     "output_type": "stream",
     "text": [
      "=== File metadata ===\n",
      "Filename: orders_data.csv\n",
      "Size (MB): 24.7\n",
      "Last Modified Year: 2024\n"
     ]
    }
   ],
   "source": [
    "name = \"orders_data.csv\"\n",
    "file_size = 24.7\n",
    "last_mod = 2024\n",
    "\n",
    "print(\"=== File metadata ===\")\n",
    "print(f\"Filename: {name}\")\n",
    "print(f\"Size (MB): {file_size}\")\n",
    "print(f\"Last Modified Year: {last_mod}\")"
   ]
  },
  {
   "cell_type": "markdown",
   "id": "b39d4d7e",
   "metadata": {},
   "source": [
    "## 4. Unit converter - inch to cm (*)\n",
    "Screen sizes are defined using inches for example my computer has 15'' and it corresponds to the diagonal of the screen. Let the user type in a value in inches and output the result in centimeters."
   ]
  },
  {
   "cell_type": "code",
   "execution_count": 3,
   "id": "ece7f330",
   "metadata": {},
   "outputs": [
    {
     "name": "stdout",
     "output_type": "stream",
     "text": [
      "The computers screen diagonally is 38.1 cm\n"
     ]
    }
   ],
   "source": [
    "inches = float(input(\"How many inches does the computer have?\"))\n",
    "cm = inches*2.54 \n",
    "\n",
    "print(f\"The computers screen diagonally is {cm} cm\")"
   ]
  },
  {
   "cell_type": "markdown",
   "id": "9e0cd156",
   "metadata": {},
   "source": [
    "## 5. Count characters in a text (*)\n",
    "Create a program to let a user input a text, count the number of characters and print it out to the screen. Space can also be counted as a character here.\n",
    "\n",
    "Hint: len() function"
   ]
  },
  {
   "cell_type": "code",
   "execution_count": null,
   "id": "046c9ea7",
   "metadata": {},
   "outputs": [
    {
     "name": "stdout",
     "output_type": "stream",
     "text": [
      "Texten du skrev in innehåller 14 tecken (bokstäver, siffror, mellanslag)\n"
     ]
    }
   ],
   "source": [
    "text = input(\"Skriv vad som helst: \")\n",
    "num_text = len(text)\n",
    "print(f\"Texten du skrev in innehåller {num_text} tecken (bokstäver, siffror, mellanslag)\")"
   ]
  },
  {
   "cell_type": "markdown",
   "id": "fbcf3925",
   "metadata": {},
   "source": [
    "## 6. Data types (*)\n",
    "Create variables of type bool, int, float, str and list. Then use type function and check each variables type."
   ]
  },
  {
   "cell_type": "code",
   "execution_count": 50,
   "id": "07a716c9",
   "metadata": {},
   "outputs": [
    {
     "data": {
      "text/plain": [
       "(bool, int, float, str, list)"
      ]
     },
     "execution_count": 50,
     "metadata": {},
     "output_type": "execute_result"
    }
   ],
   "source": [
    "on = False\n",
    "numb = 5 \n",
    "temp = 18.2\n",
    "name = \"Jimmy\"\n",
    "ages = [2, 5, 32, 34]\n",
    "\n",
    "type(on), type(numb), type(temp), type(name), type(ages)"
   ]
  }
 ],
 "metadata": {
  "kernelspec": {
   "display_name": "Python_Anja_Scherwall_DE25_Klass",
   "language": "python",
   "name": "python3"
  },
  "language_info": {
   "codemirror_mode": {
    "name": "ipython",
    "version": 3
   },
   "file_extension": ".py",
   "mimetype": "text/x-python",
   "name": "python",
   "nbconvert_exporter": "python",
   "pygments_lexer": "ipython3",
   "version": "3.12.10"
  }
 },
 "nbformat": 4,
 "nbformat_minor": 5
}
