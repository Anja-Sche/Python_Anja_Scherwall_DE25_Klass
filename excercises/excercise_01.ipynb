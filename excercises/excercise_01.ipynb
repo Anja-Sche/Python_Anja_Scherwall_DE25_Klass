{
 "cells": [
  {
   "cell_type": "markdown",
   "id": "85c7a569",
   "metadata": {},
   "source": [
    "## 0. Pythagorean theorem (*)\n",
    "a) A right angled triangle has the catheti: a = 3 and b = 4 length units. Compute the hypothenuse of the triangle. (*)\n",
    "\n",
    "b) A right angled triangle has hypothenuse c = 7.0 and a cathetus a = 5.0 length units. Compute the other cathetus and round to one decimal. (*)"
   ]
  },
  {
   "cell_type": "code",
   "execution_count": null,
   "id": "1ee22c30",
   "metadata": {},
   "outputs": [
    {
     "name": "stderr",
     "output_type": "stream",
     "text": [
      "UsageError: Line magic function `%` not found.\n"
     ]
    }
   ],
   "source": [
    "angle_a = 3\n",
    "angle_b = 4 \n",
    "\n",
    "angle_c = "
   ]
  },
  {
   "cell_type": "markdown",
   "id": "6d868152",
   "metadata": {},
   "source": [
    "## 1. Classification accuracy (*)\n",
    "A machine learning algorithm has been trained to predict whether or not it would rain the next day. Out of 365 predictions, it got 300 correct, compute the accuracy of this model."
   ]
  },
  {
   "cell_type": "code",
   "execution_count": null,
   "id": "d0eb2e14",
   "metadata": {},
   "outputs": [],
   "source": []
  },
  {
   "cell_type": "markdown",
   "id": "8f1b89b2",
   "metadata": {},
   "source": [
    "## 2. Classification accuracy (*)"
   ]
  },
  {
   "cell_type": "code",
   "execution_count": null,
   "id": "702f3223",
   "metadata": {},
   "outputs": [],
   "source": []
  },
  {
   "cell_type": "markdown",
   "id": "6787ab3c",
   "metadata": {},
   "source": [
    "## 3. File metadata - format print (*)"
   ]
  },
  {
   "cell_type": "code",
   "execution_count": 11,
   "id": "63224243",
   "metadata": {},
   "outputs": [
    {
     "name": "stdout",
     "output_type": "stream",
     "text": [
      "=== File metadata ===\n",
      "Filename: orders_data.csv\n",
      "Size (MB): 24.7\n",
      "Last Modified Year: 2024\n"
     ]
    }
   ],
   "source": [
    "name = \"orders_data.csv\"\n",
    "file_size = 24.7\n",
    "last_mod = 2024\n",
    "\n",
    "print(\"=== File metadata ===\")\n",
    "print(f\"Filename: {name}\")\n",
    "print(f\"Size (MB): {file_size}\")\n",
    "print(f\"Last Modified Year: {last_mod}\")"
   ]
  },
  {
   "cell_type": "markdown",
   "id": "b39d4d7e",
   "metadata": {},
   "source": [
    "## 4. Unit converter - inch to cm (*)\n",
    "Screen sizes are defined using inches for example my computer has 15'' and it corresponds to the diagonal of the screen. Let the user type in a value in inches and output the result in centimeters."
   ]
  },
  {
   "cell_type": "code",
   "execution_count": 3,
   "id": "ece7f330",
   "metadata": {},
   "outputs": [
    {
     "name": "stdout",
     "output_type": "stream",
     "text": [
      "The computers screen diagonally is 38.1 cm\n"
     ]
    }
   ],
   "source": [
    "inches = float(input(\"How many inches does the computer have?\"))\n",
    "cm = inches*2.54 \n",
    "\n",
    "print(f\"The computers screen diagonally is {cm} cm\")"
   ]
  },
  {
   "cell_type": "markdown",
   "id": "9e0cd156",
   "metadata": {},
   "source": [
    "## 5. Count characters in a text (*)\n",
    "Create a program to let a user input a text, count the number of characters and print it out to the screen. Space can also be counted as a character here.\n",
    "\n",
    "Hint: len() function"
   ]
  },
  {
   "cell_type": "code",
   "execution_count": null,
   "id": "046c9ea7",
   "metadata": {},
   "outputs": [
    {
     "name": "stdout",
     "output_type": "stream",
     "text": [
      "Texten du skrev in innehåller 14 tecken (bokstäver, siffror, mellanslag)\n"
     ]
    }
   ],
   "source": [
    "text = input(\"Skriv vad som helst: \")\n",
    "num_text = len(text)\n",
    "print(f\"Texten du skrev in innehåller {num_text} tecken (bokstäver, siffror, mellanslag)\")"
   ]
  },
  {
   "cell_type": "markdown",
   "id": "fbcf3925",
   "metadata": {},
   "source": [
    "## 6. Data types (*)\n",
    "Create variables of type bool, int, float, str and list. Then use type function and check each variables type."
   ]
  },
  {
   "cell_type": "code",
   "execution_count": null,
   "id": "07a716c9",
   "metadata": {},
   "outputs": [],
   "source": []
  }
 ],
 "metadata": {
  "kernelspec": {
   "display_name": "Python_Anja_Scherwall_DE25_Klass",
   "language": "python",
   "name": "python3"
  },
  "language_info": {
   "codemirror_mode": {
    "name": "ipython",
    "version": 3
   },
   "file_extension": ".py",
   "mimetype": "text/x-python",
   "name": "python",
   "nbconvert_exporter": "python",
   "pygments_lexer": "ipython3",
   "version": "3.12.10"
  }
 },
 "nbformat": 4,
 "nbformat_minor": 5
}
