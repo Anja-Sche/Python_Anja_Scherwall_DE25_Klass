{
 "cells": [
  {
   "cell_type": "markdown",
   "id": "4f6055ef",
   "metadata": {},
   "source": [
    "# 0. Area (*)\n",
    "Create a function that takes the base and height of a triangle as input parameters and returns the area of the triangle."
   ]
  },
  {
   "cell_type": "code",
   "execution_count": 2,
   "id": "6cb58697",
   "metadata": {},
   "outputs": [
    {
     "data": {
      "text/plain": [
       "30.0"
      ]
     },
     "execution_count": 2,
     "metadata": {},
     "output_type": "execute_result"
    }
   ],
   "source": [
    "# base*height /2\n",
    "\n",
    "def triangle_area(base, height):\n",
    "    area = (base*height)/2\n",
    "    return area\n",
    "\n",
    "\n",
    "triangle_area(5, 12)\n"
   ]
  },
  {
   "cell_type": "markdown",
   "id": "5ee15109",
   "metadata": {},
   "source": [
    "## 1. Euclidean distance (\\*)\n",
    "\n",
    "The formula for Euclidean distance in 2D between $P: (p_1, p_2)$ and $Q: (q_1, q_2)$ is:\n",
    "\n",
    "$d(P,Q) = \\sqrt{(p_1-q_1)^2 + (p_2-q_2)^2}$\n",
    "\n",
    "a) Create a function that takes two points as input parameters and return the Euclidean between them. (\\*)\n",
    "\n",
    "b) Let the user input two points. Call the function using the users input points. (\\*)\n",
    "\n",
    "c) Use your function to calculate distances between the origin (0, 0) and each of these points: (10, 3), (-1, -9), (10, -10), (4, -2), (9, -10). (\\*)"
   ]
  },
  {
   "cell_type": "markdown",
   "id": "447100f6",
   "metadata": {},
   "source": [
    "## 2. Mathematical functions (\\*)\n",
    "\n",
    "Make the following functions with **def** or **lambda** and plot their graphs in the same figure window, with $x\\in [-10,10]$ :\n",
    "\n",
    "a) $f(x) = x^2 -3$ (\\*)\n",
    "\n",
    "b) $g(x) = 4x-7$ (\\*)\n",
    "\n",
    "What could the relation between $f(x)$ and $g(x)$ be?"
   ]
  },
  {
   "cell_type": "markdown",
   "id": "b7fd78ae",
   "metadata": {},
   "source": [
    "## 3. Name cleaner (\\*)\n",
    "\n",
    "Create a function that takes a name as an input and:\n",
    "\n",
    "- removes all leading and trailing blank spaces\n",
    "- make capitalize the first character of each name, and make the rest lowercase\n",
    "\n",
    "Use your function on this list of strings:\n",
    "\n",
    "```\n",
    "[\"  MaRcUs \", \" iDA aNderSon\", \"OLOF Olofsson   "
   ]
  },
  {
   "cell_type": "code",
   "execution_count": null,
   "id": "253419ba",
   "metadata": {},
   "outputs": [
    {
     "name": "stdout",
     "output_type": "stream",
     "text": [
      "Marcus\n",
      "Ida Anderson\n",
      "Olof Olofsson\n"
     ]
    }
   ],
   "source": [
    "def clean_names(name_list):\n",
    "    for name in name_list:\n",
    "        print(name.strip().title())\n",
    "        \n",
    "    \n",
    "list_of_names = [\"  MaRcUs \", \" iDA aNderSon\", \"OLOF Olofsson            \"  ]\n",
    "\n",
    "clean_names(list_of_names)"
   ]
  },
  {
   "cell_type": "markdown",
   "id": "cb29e877",
   "metadata": {},
   "source": [
    "## 5. Curriculum (\\*)\n",
    "\n",
    "Create a dictionary containing all the courses that you will study in this program, with the course names as **keys** and the amount of points as **value**. Then calculate the number of points that you will study in total. (\\*)\n"
   ]
  },
  {
   "cell_type": "code",
   "execution_count": null,
   "id": "1c192c3f",
   "metadata": {},
   "outputs": [],
   "source": [
    "courses_data_engineer = {\n",
    "    intro_studier: 10,\n",
    "    programmering: 40,\n",
    "    sql: 30,\n",
    "    datamodellering: 25,\n",
    "    big_data_and_cloud: 30,\n",
    "    platform_development: 25,\n",
    "    datavisualisreing: 30,\n",
    "    big_data_adn_cloud2: \n",
    "}"
   ]
  },
  {
   "cell_type": "markdown",
   "id": "f676be7c",
   "metadata": {},
   "source": [
    "## 6. Dice simulation (\\*)\n",
    "\n",
    "Simulate 1000000 dice rolls and save the number of ones, twos, ..., sixes in a dictionary. Then print them out in the terminal. (\\*)"
   ]
  },
  {
   "cell_type": "markdown",
   "id": "26ae3c3b",
   "metadata": {},
   "source": [
    "## 7. Pokemon list (\\*)\n",
    "\n",
    "Read in the file pokemon_list.txt in Python. Create a variable with name pokedex with the key:value **\"pokemon\":\"type, index\"**. For example when searching for the keys \"Gengar\" and \"Pikachu\": (\\*)\n",
    "\n",
    "```python\n",
    "\n",
    "print(pokedex[\"Gengar\"])\n",
    "print(pokedex[\"Pikachu\"])\n",
    "\n",
    "Spöke/Gift, 94\n",
    "Elektrisk, 25\n",
    "```"
   ]
  },
  {
   "cell_type": "markdown",
   "id": "0f345c5d",
   "metadata": {},
   "source": [
    "## 9. Theory\n",
    "\n",
    "a) What is a function in Python, and why is it used?\n",
    "\n",
    "A function is a block of code you can call when you need to use that specific code.\n",
    "It is crated to not be dependent on other codes. It just uses the arguments you put in when you call the code.\n",
    "\n",
    "b) Explain the difference between parameters and arguments.\n",
    "\n",
    "Parameters is the name/names given in the () when you crate a function. Those names are later used in th function where they are used.\n",
    "\n",
    "Arguments is what you put in to the () when you call a function. When the function is running it will use the value of the arguments in the name on fthe parameters.\n",
    "\n",
    "c) What is the difference between \\*args and \\*\\*kwargs in a function definition?\n",
    "\n",
    "Both can collect any number of arguments. `*args` put the arguments in a list and `*kwargs` put the arguments in a dictionary. \n",
    "\n",
    "d) What is the difference between a regular function and a lambda function in Python?\n",
    "\n",
    "Lambda functions are anonymos and have no name while regular funcions are defined with def.\n",
    "\n",
    "e) Explain the purpose of the get() method. How is it different from accessing a key directly?\n",
    "\n",
    "get() returns the key you specify. If the key does not exist it will return None.\n",
    "\n",
    "f) What is the difference between .keys(), .values(), and .items() methods?\n",
    "\n",
    ".keys() - returns a list of the keys in a dictionary\n",
    "\n",
    ".values() - returns a list of the values in a dictionary\n",
    "\n",
    ".items() - returns pairs of the keys and values in tuples\n",
    "\n",
    "g) Can dictionary keys be mutable types like lists or other dictionaries? Why or why not?\n",
    "\n",
    "Dictionarys are not mutable. A value is set specifically to that key so it wil be easy to acces."
   ]
  },
  {
   "cell_type": "markdown",
   "id": "f795f6a9",
   "metadata": {},
   "source": [
    "## Glossary\n",
    "\n",
    "Fill in this table either by copying this into your own markdown file or copy it into a spreadsheet if you feel that is easier to work with.\n",
    "\n",
    "| terminology          | explanation |\n",
    "| -------------------- | ----------- |\n",
    "| def                  |define a function             |\n",
    "| function call        |call the function and put in arguments -> function(argument)             |\n",
    "| argument             |put in the value/values you want the function to use             |\n",
    "| return statement     |what the function should return when done             |\n",
    "| parameter            |placeholders for the values the function needs to work             |\n",
    "| default parameter    |a pre set parameter in case no argument is put in for that one             |\n",
    "| keyword arguments    |when you put the keyword = argument when calling a function             |\n",
    "| variable arguments   |pass any number of arguments to a function             |\n",
    "| positional arguments |when you put the argumnents in the same order as the parameters to match with the right one             |\n",
    "| lambda functions     |anonymos, no name             |\n",
    "| dict()               |create a dictionart             |\n",
    "| get()                |returns the key you specify             |\n",
    "| items()              |returns pairs of the keys and values in a tuple             |\n",
    "| in operator          |check if a value is a part of a collection             |\n",
    "| del                  |used to delete an object             |\n",
    "| update()             |ad key-value pairs from another dict or iterate them to the target dict             |"
   ]
  }
 ],
 "metadata": {
  "kernelspec": {
   "display_name": "Python_Anja_Scherwall_DE25_Klass (3.12.10)",
   "language": "python",
   "name": "python3"
  },
  "language_info": {
   "codemirror_mode": {
    "name": "ipython",
    "version": 3
   },
   "file_extension": ".py",
   "mimetype": "text/x-python",
   "name": "python",
   "nbconvert_exporter": "python",
   "pygments_lexer": "ipython3",
   "version": "3.12.10"
  }
 },
 "nbformat": 4,
 "nbformat_minor": 5
}
