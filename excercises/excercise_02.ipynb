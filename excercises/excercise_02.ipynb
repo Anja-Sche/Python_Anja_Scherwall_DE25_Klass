{
 "cells": [
  {
   "cell_type": "markdown",
   "id": "a6e12e18",
   "metadata": {},
   "source": [
    "# Exercise 2 - control structures"
   ]
  },
  {
   "cell_type": "markdown",
   "id": "ef4b2586",
   "metadata": {},
   "source": [
    "### 0. Check sign (*)\n",
    "Ask the user to input a number and check if this number is positive, negative or zero and print it out."
   ]
  },
  {
   "cell_type": "code",
   "execution_count": 3,
   "id": "9645c4a5",
   "metadata": {},
   "outputs": [
    {
     "name": "stdout",
     "output_type": "stream",
     "text": [
      "0 is not postitive nor negative number\n"
     ]
    }
   ],
   "source": [
    "number = int(input(\"Put in a number\"))\n",
    "\n",
    "if number < 0:\n",
    "    print(f\"{number} is a negative number\")\n",
    "elif number > 0:\n",
    "    print(f\"{number} is a positive number\")\n",
    "else:\n",
    "    print(f\"{number} is not postitive nor negative number\")"
   ]
  },
  {
   "cell_type": "markdown",
   "id": "ebcbc760",
   "metadata": {},
   "source": [
    "### 1. Smallest (*)\n",
    "Ask the user to input two numbers and check which one is the smallest and print it out."
   ]
  },
  {
   "cell_type": "code",
   "execution_count": 4,
   "id": "51f7cb69",
   "metadata": {},
   "outputs": [
    {
     "name": "stdout",
     "output_type": "stream",
     "text": [
      "Your second number, 3, is the smallest one\n"
     ]
    }
   ],
   "source": [
    "numb1 = int(input(\"Put in a number\"))\n",
    "numb2 = int(input(\"Put in another number\"))\n",
    "\n",
    "if numb1 < numb2:\n",
    "    print(f\"Your first number, {numb1}, is the smallest one\")\n",
    "else:\n",
    "    print(f\"Your second number, {numb2}, is the smallest one\")"
   ]
  },
  {
   "cell_type": "markdown",
   "id": "cd992fb7",
   "metadata": {},
   "source": [
    "### 2. Medicine (*)\n",
    "The information in the following table is stated in a medicine package. Also it is stated that for children weight is more important than age."
   ]
  },
  {
   "cell_type": "code",
   "execution_count": 2,
   "id": "a3f7f7df",
   "metadata": {},
   "outputs": [
    {
     "name": "stdout",
     "output_type": "stream",
     "text": [
      "The patient should take 1/2-1 pill\n"
     ]
    }
   ],
   "source": [
    "age = int(input(\"What is the patients age?\"))\n",
    "weight = int(input(\"What is the patients weight?\"))\n",
    "\n",
    "if age <=7 or weight <= 25:\n",
    "    print(\"The patient should take 1/2 pill\")\n",
    "elif age <= 12 or weight <= 40:\n",
    "    print(\"The patient should take 1/2-1 pill\")\n",
    "else:\n",
    "    print(\"The patient should take 1-2 pill\")"
   ]
  },
  {
   "cell_type": "markdown",
   "id": "3c868f71",
   "metadata": {},
   "source": [
    "### 3. Divisible (*)\n",
    "Let the user input a number. Check if the number is\n",
    "\n",
    "even or odd\n",
    "\n",
    "is divisible by 5\n",
    "\n",
    "is divisble by 5 and odd"
   ]
  },
  {
   "cell_type": "code",
   "execution_count": 29,
   "id": "74b03463",
   "metadata": {},
   "outputs": [
    {
     "name": "stdout",
     "output_type": "stream",
     "text": [
      "The number is even\n"
     ]
    }
   ],
   "source": [
    "#a)\n",
    "number = int(input(\"Put in a number\"))\n",
    "\n",
    "if number % 2 == 0:\n",
    "    print(\"The number is even\")\n",
    "else:\n",
    "    print(\"The number is odd\")"
   ]
  },
  {
   "cell_type": "code",
   "execution_count": 27,
   "id": "fc6ec8a4",
   "metadata": {},
   "outputs": [
    {
     "name": "stdout",
     "output_type": "stream",
     "text": [
      "22 is not divisible by 5\n"
     ]
    }
   ],
   "source": [
    "#b)\n",
    "number = int(input(\"Put in a number\"))\n",
    "\n",
    "if number % 5 == 0:\n",
    "    print(f\"{number} is divisible by 5\")\n",
    "else:\n",
    "    print(f\"{number} is not divisible by 5\")"
   ]
  },
  {
   "cell_type": "code",
   "execution_count": null,
   "id": "1596f4dd",
   "metadata": {},
   "outputs": [
    {
     "name": "stdout",
     "output_type": "stream",
     "text": [
      "The number is odd\n",
      "15 is also divisible by 5\n"
     ]
    }
   ],
   "source": [
    "#c)\n",
    "number = int(input(\"Put in a number\"))\n",
    "\n",
    "if number % 2 == 0:\n",
    "    print(\"The number is even\")\n",
    "else:\n",
    "    print(\"The number is odd\")\n",
    "    if number % 5 == 0:\n",
    "        print(f\"{number} is also divisible by 5\")"
   ]
  },
  {
   "cell_type": "markdown",
   "id": "f59afb49",
   "metadata": {},
   "source": [
    "### 4. Luggage size (*)\n",
    "The maximum allowed luggage size for boarding an airplane is:\n",
    "\n",
    "weight: 8kg\n",
    "dimensions: 55x40x23cm (length x width x height)\n",
    "Let the user input weight, length, width and height of the luggage. The program should check if the luggage is allowed or not."
   ]
  },
  {
   "cell_type": "code",
   "execution_count": 15,
   "id": "4e095580",
   "metadata": {},
   "outputs": [
    {
     "name": "stdout",
     "output_type": "stream",
     "text": [
      "You can not use this luggage\n"
     ]
    }
   ],
   "source": [
    "weight = int(input(\"What is the weight of your luggage?\"))\n",
    "length = int(input(\"What is the length?\"))\n",
    "width = int(input(\"What is the width?\"))\n",
    "height = int(input(\"What is the height?\"))\n",
    "\n",
    "if weight <= 8 and length <= 55 and width <= 40 and height <= 23:\n",
    "    print(\"Your luggage is ok!\")\n",
    "else: \n",
    "    print(\"You can not use this luggage\")"
   ]
  },
  {
   "cell_type": "markdown",
   "id": "06f012fe",
   "metadata": {},
   "source": [
    "### 5. Count numbers (*)\n",
    "Use a for statement to count from:\n",
    "\n",
    "a)   -10 to 10 with one increment (*)\n",
    "\n",
    "b)   -10 to 10 with two increment (*)"
   ]
  },
  {
   "cell_type": "code",
   "execution_count": null,
   "id": "ec0b18db",
   "metadata": {},
   "outputs": [
    {
     "name": "stdout",
     "output_type": "stream",
     "text": [
      "-10 -9 -8 -7 -6 -5 -4 -3 -2 -1 0 1 2 3 4 5 6 7 8 9 10 "
     ]
    }
   ],
   "source": [
    "#a)\n",
    "for i in range(-10, 11):\n",
    "    print(i, end =\" \")"
   ]
  },
  {
   "cell_type": "code",
   "execution_count": 32,
   "id": "7d41422f",
   "metadata": {},
   "outputs": [
    {
     "name": "stdout",
     "output_type": "stream",
     "text": [
      "-10 -8 -6 -4 -2 0 2 4 6 8 10 "
     ]
    }
   ],
   "source": [
    "#b)\n",
    "for i in range(-10, 11, 2):\n",
    "    print(i, end = \" \")"
   ]
  },
  {
   "cell_type": "markdown",
   "id": "2fad01b6",
   "metadata": {},
   "source": [
    "### 6. Arithmetic sum (*)\n",
    "Use a while statement to compute the following sums:\n",
    "\n",
    "a)sum= 1 + 2 + … + 99 + 100\n",
    "\n",
    "b)sum= 1 + 3 + 5 + … + 97 + 99\n",
    "\n",
    "Repeat these using a for statement"
   ]
  },
  {
   "cell_type": "code",
   "execution_count": 101,
   "id": "ab2f8a9b",
   "metadata": {},
   "outputs": [
    {
     "name": "stdout",
     "output_type": "stream",
     "text": [
      "0 + 1 + 2 + 3 + 4 + 5 + 6 + 7 + 8 + 9 + 10 + 11 + 12 + 13 + 14 + 15 + 16 + 17 + 18 + 19 + 20 + 21 + 22 + 23 + 24 + 25 + 26 + 27 + 28 + 29 + 30 + 31 + 32 + 33 + 34 + 35 + 36 + 37 + 38 + 39 + 40 + 41 + 42 + 43 + 44 + 45 + 46 + 47 + 48 + 49 + 50 + 51 + 52 + 53 + 54 + 55 + 56 + 57 + 58 + 59 + 60 + 61 + 62 + 63 + 64 + 65 + 66 + 67 + 68 + 69 + 70 + 71 + 72 + 73 + 74 + 75 + 76 + 77 + 78 + 79 + 80 + 81 + 82 + 83 + 84 + 85 + 86 + 87 + 88 + 89 + 90 + 91 + 92 + 93 + 94 + 95 + 96 + 97 + 98 + 99 + 100 = 5050\n"
     ]
    }
   ],
   "source": [
    "#a)\n",
    "x = 0\n",
    "sum_ = 0\n",
    "while x <= 100:\n",
    "    print(x, end = \" \")\n",
    "    x += 1\n",
    "    if x <= 100:\n",
    "        sum_ += x\n",
    "        print(\"+\", end = \" \")\n",
    "    else:\n",
    "        print(\"=\", end = \" \")\n",
    "print(sum_)"
   ]
  },
  {
   "cell_type": "code",
   "execution_count": 112,
   "id": "c859097f",
   "metadata": {},
   "outputs": [
    {
     "name": "stdout",
     "output_type": "stream",
     "text": [
      "1 + 3 + 5 + 7 + 9 + 11 + 13 + 15 + 17 + 19 + 21 + 23 + 25 + 27 + 29 + 31 + 33 + 35 + 37 + 39 + 41 + 43 + 45 + 47 + 49 + 51 + 53 + 55 + 57 + 59 + 61 + 63 + 65 + 67 + 69 + 71 + 73 + 75 + 77 + 79 + 81 + 83 + 85 + 87 + 89 + 91 + 93 + 95 + 97 + 99 = 2500\n"
     ]
    }
   ],
   "source": [
    "#b)\n",
    "x = 1\n",
    "sum_ = 0\n",
    "while x <= 100:\n",
    "    print(x, end = \" \")\n",
    "    sum_ += x\n",
    "    x += 2\n",
    "    \n",
    "    if x <= 100:\n",
    "        print(\"+\", end = \" \")\n",
    "    else:\n",
    "        print(\"=\", end = \" \")\n",
    "print(sum_)"
   ]
  },
  {
   "cell_type": "code",
   "execution_count": 96,
   "id": "1b847f25",
   "metadata": {},
   "outputs": [
    {
     "name": "stdout",
     "output_type": "stream",
     "text": [
      "1 + 2 + 3 + 4 + 5 + 6 + 7 + 8 + 9 + 10 + 11 + 12 + 13 + 14 + 15 + 16 + 17 + 18 + 19 + 20 + 21 + 22 + 23 + 24 + 25 + 26 + 27 + 28 + 29 + 30 + 31 + 32 + 33 + 34 + 35 + 36 + 37 + 38 + 39 + 40 + 41 + 42 + 43 + 44 + 45 + 46 + 47 + 48 + 49 + 50 + 51 + 52 + 53 + 54 + 55 + 56 + 57 + 58 + 59 + 60 + 61 + 62 + 63 + 64 + 65 + 66 + 67 + 68 + 69 + 70 + 71 + 72 + 73 + 74 + 75 + 76 + 77 + 78 + 79 + 80 + 81 + 82 + 83 + 84 + 85 + 86 + 87 + 88 + 89 + 90 + 91 + 92 + 93 + 94 + 95 + 96 + 97 + 98 + 99 + 100 = 5050\n"
     ]
    }
   ],
   "source": [
    "#a) for\n",
    "sum_ = 0\n",
    "for i in range(1, 101):\n",
    "    print(i, end = \" \")\n",
    "    sum_ += i\n",
    "    if i < 100:\n",
    "        print(\"+\", end = \" \")\n",
    "    else:\n",
    "        print(\"=\", end = \" \")\n",
    "print(sum_)\n"
   ]
  },
  {
   "cell_type": "code",
   "execution_count": 98,
   "id": "6f81fcbe",
   "metadata": {},
   "outputs": [
    {
     "name": "stdout",
     "output_type": "stream",
     "text": [
      "1 + 3 + 5 + 7 + 9 + 11 + 13 + 15 + 17 + 19 + 21 + 23 + 25 + 27 + 29 + 31 + 33 + 35 + 37 + 39 + 41 + 43 + 45 + 47 + 49 + 51 + 53 + 55 + 57 + 59 + 61 + 63 + 65 + 67 + 69 + 71 + 73 + 75 + 77 + 79 + 81 + 83 + 85 + 87 + 89 + 91 + 93 + 95 + 97 + 99 = 2500\n"
     ]
    }
   ],
   "source": [
    "#b) for\n",
    "sum_ = 0\n",
    "for i in range(1, 100, 2):\n",
    "    print(i, end = \" \")\n",
    "    sum_ += i\n",
    "    if i < 99:\n",
    "        print(\"+\", end = \" \")\n",
    "    else:\n",
    "        print(\"=\", end = \" \")\n",
    "print(sum_)"
   ]
  },
  {
   "cell_type": "markdown",
   "id": "7acc2261",
   "metadata": {},
   "source": [
    "### 7. Multiplication game (*)\n"
   ]
  },
  {
   "cell_type": "code",
   "execution_count": 18,
   "id": "400851f2",
   "metadata": {},
   "outputs": [
    {
     "name": "stdout",
     "output_type": "stream",
     "text": [
      "That is not correct. 9*8 = 72\n"
     ]
    }
   ],
   "source": [
    "import random as rnd\n",
    "\n",
    "while True:\n",
    "\n",
    "    x = rnd.randint(1,10)\n",
    "    y = rnd.randint(1,10)\n",
    "\n",
    "    user_awnser = int(input(f\"What is {x}*{y}?\"))\n",
    "    if user_awnser == (x*y):\n",
    "        print(\"That is correct! Good work\")\n",
    "    else:\n",
    "        print(f\"That is not correct. {x}*{y} = {x*y}\")\n",
    "\n",
    "    again = input(\"Do you want to play again? (y for yes)\")\n",
    "    if again != \"y\":\n",
    "        break\n"
   ]
  },
  {
   "cell_type": "markdown",
   "id": "0993cbf8",
   "metadata": {},
   "source": [
    "### 8. Multiplication table (*)\n",
    "Use for statement(s) to:\n",
    "\n",
    "  a)   print out the 6th multiplication table from 0 to 10 (*)\n",
    "\n",
    "  b)   let the user input the table, start and end of the table. (*)\n",
    "\n",
    "  c)   print out a full multiplication table from 0 to 10. (**)\n",
    "\n",
    "Hint: Use nested for-loops, which means a for-loop in a for-loop. To format the table nicely, use f-string:"
   ]
  },
  {
   "cell_type": "code",
   "execution_count": null,
   "id": "2b6d7891",
   "metadata": {},
   "outputs": [
    {
     "name": "stdout",
     "output_type": "stream",
     "text": [
      "0 6 12 18 24 30 36 42 48 54 60 "
     ]
    }
   ],
   "source": [
    "#a)\n",
    "mult_six = 6\n",
    "for i in range(0, 11):\n",
    "    print(i*mult_six, end = \" \")\n",
    "    i += 1"
   ]
  },
  {
   "cell_type": "code",
   "execution_count": 21,
   "id": "0ac3b843",
   "metadata": {},
   "outputs": [
    {
     "name": "stdout",
     "output_type": "stream",
     "text": [
      "0 5 10 15 20 25 30 35 40 45 50  \n",
      "0 4 8 12 16 20 24 28 32 36 40 "
     ]
    }
   ],
   "source": [
    "#b)\n",
    "while True:\n",
    "    mult = int(input(\"What multiplication table do you want to see?\"))\n",
    "    for i in range(0, 11):\n",
    "        print(i*mult, end = \" \")\n",
    "        i += 1\n",
    "    again = input(\"Do you want to see another one? (y for yes)\")\n",
    "    if again != \"y\":\n",
    "        break\n",
    "    else:\n",
    "        print(\" \")"
   ]
  },
  {
   "cell_type": "code",
   "execution_count": null,
   "id": "4ebbe15e",
   "metadata": {},
   "outputs": [],
   "source": [
    "#c)\n",
    "\n",
    "while True:\n",
    "    for x in range(11):        \n",
    "        for y in range(0, 11):\n",
    "            print(f\"{x*y :4}\", end = \" \")\n",
    "        print()       \n",
    "    break"
   ]
  },
  {
   "cell_type": "code",
   "execution_count": 9,
   "id": "ec351141",
   "metadata": {},
   "outputs": [
    {
     "name": "stdout",
     "output_type": "stream",
     "text": [
      "   0    0    0    0    0    0    0    0    0    0    0 \n",
      "   0    1    2    3    4    5    6    7    8    9   10 \n",
      "   0    2    4    6    8   10   12   14   16   18   20 \n",
      "   0    3    6    9   12   15   18   21   24   27   30 \n",
      "   0    4    8   12   16   20   24   28   32   36   40 \n",
      "   0    5   10   15   20   25   30   35   40   45   50 \n",
      "   0    6   12   18   24   30   36   42   48   54   60 \n",
      "   0    7   14   21   28   35   42   49   56   63   70 \n",
      "   0    8   16   24   32   40   48   56   64   72   80 \n",
      "   0    9   18   27   36   45   54   63   72   81   90 \n",
      "   0   10   20   30   40   50   60   70   80   90  100 \n"
     ]
    }
   ],
   "source": [
    "#c 2)\n",
    "number = 0\n",
    "for x in range(11):\n",
    "    for y in range(11):\n",
    "        number = x*y\n",
    "        print(f\"{number:4}\", end = \" \")\n",
    "    print()"
   ]
  },
  {
   "cell_type": "markdown",
   "id": "7ae3d6eb",
   "metadata": {},
   "source": [
    "### 9. Rice on chessboard (*)\n",
    "In first square of the chessboard there is one grain of rice, in the second square there is two grains, in the third square there is four grains and so on. How many grains are there in the whole chessboard when all squares are filled using this pattern?"
   ]
  },
  {
   "cell_type": "code",
   "execution_count": 31,
   "id": "41a2a84e",
   "metadata": {},
   "outputs": [
    {
     "name": "stdout",
     "output_type": "stream",
     "text": [
      "If you put a grain of rice in the first square and then dubble it for the next and so on, you will have 18446744073709551615 rice grains when all squares are filled.\n"
     ]
    }
   ],
   "source": [
    "# 64 squares\n",
    "grain = 1\n",
    "all_grains = 0\n",
    "\n",
    "for x in range(0,8):\n",
    "    for y in range(0,8):\n",
    "        #print(grain, end = \" \")\n",
    "        all_grains += grain\n",
    "        grain *= 2    \n",
    "\n",
    "print(f\"If you put a grain of rice in the first square and then dubble it for the next and so on, you will have {all_grains} rice grains when all squares are filled.\")\n"
   ]
  },
  {
   "cell_type": "code",
   "execution_count": 1,
   "id": "6e97a694",
   "metadata": {},
   "outputs": [
    {
     "name": "stdout",
     "output_type": "stream",
     "text": [
      "If you put a grain of rice in the first square and then dubble it for the next and so on, you will have 18446744073709551615 rice grains when all squares are filled.\n"
     ]
    }
   ],
   "source": [
    "grain = 1\n",
    "all_grains = 0\n",
    "\n",
    "for x in range(0,64):\n",
    "    all_grains += grain\n",
    "    grain *= 2    \n",
    "\n",
    "print(f\"If you put a grain of rice in the first square and then dubble it for the next and so on, you will have {all_grains} rice grains when all squares are filled.\")"
   ]
  },
  {
   "cell_type": "markdown",
   "id": "be996e9f",
   "metadata": {},
   "source": [
    "\n",
    "### 10. Check convergence (**)"
   ]
  },
  {
   "cell_type": "code",
   "execution_count": null,
   "id": "baba9546",
   "metadata": {},
   "outputs": [],
   "source": [
    "#a)\n"
   ]
  },
  {
   "cell_type": "code",
   "execution_count": null,
   "id": "f7e6c235",
   "metadata": {},
   "outputs": [],
   "source": [
    "#b)\n"
   ]
  },
  {
   "cell_type": "markdown",
   "id": "cb392e5f",
   "metadata": {},
   "source": [
    "### 11. Theory\n",
    "a) When is it better to use while statement and when is it better to use for statement\n",
    "\n",
    "While statement is better to use when you don't know the number of repetitions. For statement is better to use when you have a set number of repetitions. \n",
    "\n",
    "b) What is the difference between = and == in Python?\n",
    "\n",
    "'=' means that you are assigning a value to a variable. '==' means that you want to compare if something is equal to something.\n",
    "\n",
    "c) Explain how an if-elif-else block works in Python. What happens if multiple conditions are true?\n",
    "\n",
    "The program start to compare the 'if', in case that condition is met/true the program will run the code in the if-block/indentations. Then it will jump to the next block of code. In case th contition is not true the program will compare the condition in the 'elif'. If that statement is true it will run the block of code within the elif. \n",
    "If the condition is not met in the 'if' or any 'elif' (if you have more) the code will run the code block under/within 'else'.\n",
    "\n",
    "d) What does the continue statement do in a loop? How is it different from break?\n",
    "\n",
    "The break statement stops the loop from continuing all togeher. The continue statement stops the looping and tells the program to continue to the next iteration\n",
    "\n",
    "e) Explain the meaning of truthy and falsy values and give a few example of both\n",
    "\n",
    "Truthy is when the value is ex a list or tuple with values in them or ex a number that is not 0.\n",
    "example: x[2, 5, 1, 7], 3 , 5,1\n",
    "\n",
    "Falsey is when the value is 0 or an empty list/tuple/range.... (sequences and collections).\n",
    "Example: x[], 0 , x()\n",
    "\n",
    "f) Can you nest control structures in Python (e.g., a loop inside an if)? Give a brief example.\n",
    "\n",
    "Yes you can nest control structures inside another one. It can ba an is inside an if, a for inside a for, an if inside a while...\n",
    "\n",
    "While True:\n",
    "print(\"....)\n",
    "if x == y:\n",
    "    print(\"...)\n",
    "\n",
    "for i in range(4):\n",
    "    for n in range(3):\n",
    "        print(\"x\")\n",
    "    print(\"y\")\n",
    "\n",
    "g) Every expression can be part of a statement, but not all statements are expressions. True or false?\n",
    "\n",
    "True."
   ]
  },
  {
   "cell_type": "markdown",
   "id": "97e4a00e",
   "metadata": {},
   "source": [
    "## Glossary\n",
    "\n",
    "| terminology           | explanation |\n",
    "| --------------------- | -----------                                                  |\n",
    "| control structures    | structures to control the code                               |\n",
    "| conditional statement | compares the variable/input with the condition               |\n",
    "| if                    | if thie condition is true, run this code                     |\n",
    "| elif                  | if the firs condition isn't true but this is, run this code  |\n",
    "| else                  | if non of the if or elif is true, run this code              |\n",
    "| for                   | loops the code inside for a sprcific number of times         |\n",
    "| while                 | loops the code inside for an unknown number of times         |\n",
    "| break                 | stops the loop                                               |\n",
    "| continue              | stops the current loop and starts a new loop                 |\n",
    "| boolean expression    | Truthy and Falsey                                            |\n",
    "| loop                  | an iteration, gose again and again                           |\n",
    "| nested loop           | a loop inside another loop                                   |\n",
    "| nested if statement   | an if statement inside another if statement                  |\n",
    "| expression            | combination of operators, interpreted to produce other values|\n",
    "| statement             | instruction for the program to execute                       |\n",
    "| control flow          | the order of excecution of statementsin a program            |"
   ]
  }
 ],
 "metadata": {
  "kernelspec": {
   "display_name": "Python_Anja_Scherwall_DE25_Klass",
   "language": "python",
   "name": "python3"
  },
  "language_info": {
   "codemirror_mode": {
    "name": "ipython",
    "version": 3
   },
   "file_extension": ".py",
   "mimetype": "text/x-python",
   "name": "python",
   "nbconvert_exporter": "python",
   "pygments_lexer": "ipython3",
   "version": "3.12.10"
  }
 },
 "nbformat": 4,
 "nbformat_minor": 5
}
