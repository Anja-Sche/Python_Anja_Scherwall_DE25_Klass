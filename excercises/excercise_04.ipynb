{
 "cells": [
  {
   "cell_type": "markdown",
   "id": "80fc757f",
   "metadata": {},
   "source": [
    "# 0. Counting words (*)\n",
    "Count the number of words in this sentence: \"A picture says more than a thousand words, a matematical formula says more than a thousand pictures.\" (*)"
   ]
  },
  {
   "cell_type": "code",
   "execution_count": 17,
   "id": "c7b54b53",
   "metadata": {},
   "outputs": [
    {
     "data": {
      "text/plain": [
       "17"
      ]
     },
     "execution_count": 17,
     "metadata": {},
     "output_type": "execute_result"
    }
   ],
   "source": [
    "text = \"A picture says more than a thousand words, a matematical formula says more than a thousand pictures.\"\n",
    "\n",
    "words = len(text.split())\n",
    "words"
   ]
  },
  {
   "cell_type": "markdown",
   "id": "28f91900",
   "metadata": {},
   "source": [
    "# 1. Counting letters (*)\n",
    "Let the user input a word:\n",
    "\n",
    "a) print out the number of letters in the word. (*)\n",
    "\n",
    "b) print out the number of uppercase and lowercase letters of the word (*)"
   ]
  },
  {
   "cell_type": "code",
   "execution_count": null,
   "id": "fc7e0f4e",
   "metadata": {},
   "outputs": [
    {
     "name": "stdout",
     "output_type": "stream",
     "text": [
      "The number of letters in 'majstång' is 8\n"
     ]
    }
   ],
   "source": [
    "#a)\n",
    "word = input(\"Write a word\")\n",
    "print(f\"The number of letters in '{word}' is {len(word)}\")"
   ]
  },
  {
   "cell_type": "code",
   "execution_count": 11,
   "id": "96585d3f",
   "metadata": {},
   "outputs": [
    {
     "name": "stdout",
     "output_type": "stream",
     "text": [
      "The amount of lower case letters in 'MajsTång' is: 6\n",
      "The amount of upper case letters in 'MajsTång' is: 2\n"
     ]
    }
   ],
   "source": [
    "#b)\n",
    "lower = 0\n",
    "upper= 0\n",
    "word = input(\"Write a word\")\n",
    "for i in word:\n",
    "    if(i.islower()):\n",
    "        lower += 1\n",
    "    else:\n",
    "        upper += 1\n",
    "print(f\"The amount of lower case letters in '{word}' is: {lower}\")\n",
    "print(f\"The amount of upper case letters in '{word}' is: {upper}\")\n",
    "\n"
   ]
  },
  {
   "cell_type": "markdown",
   "id": "9073ad25",
   "metadata": {},
   "source": [
    "# 2. Palindrome (*)\n",
    "A palindrome is a sequence of characters that is the same, when read forward as backwards (ignoring spaces). For example:\n",
    "\n",
    "\"Anna\" is a palindrome\n",
    "\n",
    "\"Ni talar bra latin\"\n",
    "\n",
    "bjkjb"
   ]
  },
  {
   "cell_type": "code",
   "execution_count": null,
   "id": "9a94dfb0",
   "metadata": {},
   "outputs": [
    {
     "name": "stdout",
     "output_type": "stream",
     "text": [
      "anna is a palindrome\n"
     ]
    }
   ],
   "source": [
    "word = input(\"Write a palindrome (same forward and backward)\")\n",
    "\n",
    "reverse = word[-1: : -1]\n",
    "if word == reverse:\n",
    "    print(f\"{word} is a palindrome\")\n",
    "else:\n",
    "    print(f\"{word} is not a palindrome\")"
   ]
  },
  {
   "cell_type": "markdown",
   "id": "a02f635d",
   "metadata": {},
   "source": [
    "# 5. Find and fix errors (*) \n",
    "Find the errors in this code to compute the distance between the point \n",
    "(\n",
    "x\n",
    ",\n",
    "y\n",
    ")\n",
    " and the origin in a cartesian coordinate system."
   ]
  },
  {
   "cell_type": "code",
   "execution_count": 36,
   "id": "be6f6aaf",
   "metadata": {},
   "outputs": [
    {
     "name": "stdout",
     "output_type": "stream",
     "text": [
      "1.0\n"
     ]
    }
   ],
   "source": [
    "import numpy as np\n",
    "\n",
    "def distance(x,y):\n",
    "    return np.sqrt(x+y)\n",
    "\n",
    "print(distance(0.5, 0.5))"
   ]
  },
  {
   "cell_type": "markdown",
   "id": "9b124d70",
   "metadata": {},
   "source": [
    "# 6. Find and fix errors (*)\n",
    "Find the errors in this code. Just change the function, don't touch the test program."
   ]
  },
  {
   "cell_type": "code",
   "execution_count": 61,
   "id": "ede6d95d",
   "metadata": {},
   "outputs": [
    {
     "name": "stdout",
     "output_type": "stream",
     "text": [
      "231 is four-digit\n",
      "3124 is four-digit\n",
      "-4124 is four-digit\n",
      "-1000 is four-digit\n",
      "-999 is four-digit\n",
      "1001 is four-digit\n",
      "10000 is not four-digit\n",
      "-10000 is four-digit\n",
      "999 is four-digit\n"
     ]
    }
   ],
   "source": [
    "def is_fourdigit(number):\n",
    "    if number/1000 < 10:\n",
    "        return True\n",
    "    else:\n",
    "        return False\n",
    "\n",
    "# test program\n",
    "test_numbers = [231, 3124, -4124, -1000,-999, 1001, 10000, -10000, 999]\n",
    "\n",
    "for number in test_numbers:\n",
    "    test = is_fourdigit(number)\n",
    "    if test == True:\n",
    "        print(f\"{number} is four-digit\")\n",
    "    else:\n",
    "        print(f\"{number} is not four-digit\")"
   ]
  },
  {
   "cell_type": "markdown",
   "id": "ca265547",
   "metadata": {},
   "source": [
    "# 7. Tram (*)\n",
    "Kokchun is a clumpsy computer user that doesn't take trams too often. Write a program to prompt the user for:\n",
    "\n",
    "- number of times he/she wants to take tram in one month\n",
    "- cost for one ticket\n",
    "- cost for monthly card\n",
    "\n",
    "The program should calculate if it's worth for him to buy monthly card or not. Make the program user friendly with clear error messages and ask again in case of input errors."
   ]
  },
  {
   "cell_type": "code",
   "execution_count": 69,
   "id": "56cbc611",
   "metadata": {},
   "outputs": [
    {
     "name": "stdout",
     "output_type": "stream",
     "text": [
      "If you ride the tram 30 times it is better to by a monthly card. The cost of single tickest will be 780, instad of montly card 650\n"
     ]
    }
   ],
   "source": [
    "tram_ride_month = int(input(\"How many times do you want to use the tram this month?\"))\n",
    "\n",
    "single_ticket = 26\n",
    "monthly_card = 650\n",
    "\n",
    "single_ride_cost = tram_ride_month*single_ticket\n",
    "\n",
    "if single_ride_cost < monthly_card:\n",
    "    print(f\"If you ride the tram {tram_ride_month} times it is better to by a ticket each time. That cost will be {single_ride_cost} instead of the monthly card for {monthly_card}\")\n",
    "else:\n",
    "    print(f\"If you ride the tram {tram_ride_month} times it is better to by a monthly card. The cost of single tickest will be {single_ride_cost}, instad of montly card {monthly_card}\")"
   ]
  },
  {
   "cell_type": "markdown",
   "id": "5d30a2b8",
   "metadata": {},
   "source": [
    "## 8. Dice rolls (\\*)\n",
    "\n",
    "Create a textfile called **dice_rolls.txt** using Python. Also for each subtask, write adequate headers.\n",
    "\n",
    "&nbsp; a) &nbsp; Simulate 20 dice rolls and write them to your textfile. (\\*)\n",
    "\n",
    "&nbsp; b) &nbsp; Sort the dice rolls from a) and write them to a separate row in the same textfile. (\\*)\n",
    "\n",
    "&nbsp; c) &nbsp; Count the number of fours in the dice rolls and write them to a separate row in the same textfile. (\\*)\n"
   ]
  },
  {
   "cell_type": "code",
   "execution_count": 34,
   "id": "ae43926d",
   "metadata": {},
   "outputs": [],
   "source": [
    "import random as rnd\n",
    "\n",
    "roll_list = []\n",
    "\n",
    "with open(\"dice_rolls.txt\", \"w\") as f:\n",
    "    for roll in range(20):\n",
    "        roll = rnd.randint(1,6)\n",
    "        roll_list.append(roll)\n",
    "        \n",
    "        f.write(f\"{str(roll)} \")\n",
    "        \n",
    "    roll_list.sort()\n",
    "    f.write(str(roll_list))\n"
   ]
  },
  {
   "cell_type": "markdown",
   "id": "d4572c0e",
   "metadata": {},
   "source": [
    "## 9. Test results (\\*)\n",
    "\n",
    "Read in the file test_result.txt (located in the data folder of this repo) in Python.\n",
    "\n",
    "[test_result]: https://github.com/kokchun/Programmering-med-Python-21/blob/main/Files/test_result.txt\n",
    "\n",
    "&nbsp; a) &nbsp; Print out the text in the terminal (\\*)\n",
    "\n",
    "&nbsp; b) &nbsp; Create new rows in the same file and write the people and their corresponding scores in alphabetical order. (\\*)\n",
    "\n",
    "&nbsp; c) &nbsp; Create additional rows in the same file and sort the people after their grades. The grade limits are: (\\*\\*)\n",
    "\n",
    " <table style=\"display:inline-block; text-align:left;\">\n",
    "    <tr style=\"background-color: #174A7E; color: white;\">\n",
    "      <th>Grade</th>\n",
    "      <th>Range</th>\n",
    "    </tr>\n",
    "    <tr>\n",
    "      <td>F</td>\n",
    "      <td>&lt; 20</td>\n",
    "    </tr>\n",
    "    <tr>\n",
    "      <td>E</td>\n",
    "      <td>20-29</td>\n",
    "    </tr>\n",
    "    <tr>\n",
    "      <td>D</td>\n",
    "      <td>30-39</td>\n",
    "    </tr>\n",
    "    <tr>\n",
    "      <td>C</td>\n",
    "      <td>40-49</td>\n",
    "    </tr>\n",
    "    <tr>\n",
    "      <td>B</td>\n",
    "      <td>50-59</td>\n",
    "    </tr>\n",
    "    <tr>\n",
    "      <td>A</td>\n",
    "      <td>60-70</td>\n",
    "    </tr>\n",
    "  </table>\n"
   ]
  },
  {
   "cell_type": "code",
   "execution_count": null,
   "id": "91be1712",
   "metadata": {},
   "outputs": [],
   "source": []
  },
  {
   "cell_type": "markdown",
   "id": "46b972ac",
   "metadata": {},
   "source": [
    "## 10. National test (\\*)\n",
    "\n",
    "Read in the file NPvt19Ma2A.txt and NPvt19Ma2C.txt (located in the data folder of this repo) in Python. Use **matplotlib** to plot pie charts for each grade categories in each file."
   ]
  },
  {
   "cell_type": "code",
   "execution_count": null,
   "id": "e096e97a",
   "metadata": {},
   "outputs": [],
   "source": []
  }
 ],
 "metadata": {
  "kernelspec": {
   "display_name": "Python_Anja_Scherwall_DE25_Klass (3.12.10)",
   "language": "python",
   "name": "python3"
  },
  "language_info": {
   "codemirror_mode": {
    "name": "ipython",
    "version": 3
   },
   "file_extension": ".py",
   "mimetype": "text/x-python",
   "name": "python",
   "nbconvert_exporter": "python",
   "pygments_lexer": "ipython3",
   "version": "3.12.10"
  }
 },
 "nbformat": 4,
 "nbformat_minor": 5
}
