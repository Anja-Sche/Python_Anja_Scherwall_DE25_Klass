{
 "cells": [
  {
   "cell_type": "markdown",
   "id": "bfe06a93",
   "metadata": {},
   "source": [
    "# Strings\n",
    "- we have ujst created and printed our string type variable in lecture 4\n",
    "- this lecture is more about strings"
   ]
  },
  {
   "cell_type": "markdown",
   "id": "c8f86f52",
   "metadata": {},
   "source": [
    "### Concatenate strings\n"
   ]
  },
  {
   "cell_type": "code",
   "execution_count": 4,
   "id": "278b655b",
   "metadata": {},
   "outputs": [
    {
     "name": "stdout",
     "output_type": "stream",
     "text": [
      "kokchunGiang\n"
     ]
    }
   ],
   "source": [
    "# concatinate multiple strings with + operator\n",
    "# remember + operator has another meaning when it comes to numeric veriables\n",
    "\n",
    "firstname = \"kokchun\"\n",
    "lastname = \"Giang\"\n",
    "\n",
    "#concatenate without \" \"\n",
    "fullname = firstname + lastname\n",
    "print(fullname)"
   ]
  },
  {
   "cell_type": "code",
   "execution_count": 7,
   "id": "04be1fb6",
   "metadata": {},
   "outputs": [
    {
     "name": "stdout",
     "output_type": "stream",
     "text": [
      "kokchun Giang\n"
     ]
    }
   ],
   "source": [
    "# concatenate also with \" \"\n",
    "\n",
    "fullname_w_space = firstname + \" \" + lastname\n",
    "print(fullname_w_space)"
   ]
  },
  {
   "cell_type": "code",
   "execution_count": null,
   "id": "091034e4",
   "metadata": {},
   "outputs": [
    {
     "name": "stdout",
     "output_type": "stream",
     "text": [
      "kokchun Giang\n"
     ]
    }
   ],
   "source": [
    "space = \" \"\n",
    "\n",
    "fullname_w_space = firstname + space + lastname \n",
    "print(fullname_w_space)"
   ]
  },
  {
   "cell_type": "code",
   "execution_count": 13,
   "id": "8fd8bf97",
   "metadata": {},
   "outputs": [
    {
     "name": "stdout",
     "output_type": "stream",
     "text": [
      "kokchun Giang is working in a company called AIgineer AB. And hes adress is Supah cool streeeeeeeeto.\n",
      "kokchun Giang is working in a company called AIgineer AB. \n",
      "And hes adress is Supah cool streeeeeeeeto.\n"
     ]
    }
   ],
   "source": [
    "# multiline f-string for concatenating many strings\n",
    "work = \"AIgineer AB\"\n",
    "adress = \"Supah cool streeeeeeeeto\"\n",
    "\n",
    "# f-string with one line\n",
    "print(f\"{fullname_w_space} is working in a company called {work}. And hes adress is {adress}.\")\n",
    "\n",
    "# f-string with multiline\n",
    "print(f\"\"\"{fullname_w_space} is working in a company called {work}. \n",
    "And hes adress is {adress}.\"\"\")"
   ]
  },
  {
   "cell_type": "code",
   "execution_count": 19,
   "id": "b900a815",
   "metadata": {},
   "outputs": [
    {
     "name": "stdout",
     "output_type": "stream",
     "text": [
      "Todays fruits: apple, orange, strawberry\n",
      "apple\n",
      "orange\n",
      "strawberry\n"
     ]
    }
   ],
   "source": [
    "# concetenate with loop\n",
    "\n",
    "fruit_today =\"apple, \" + \"orange, \" + \"strawberry\" # put the space within the str\n",
    "print(f\"Todays fruits: {fruit_today}\")\n",
    "\n",
    "fruit_today_list = [\"apple\", \"orange\", \"strawberry\"]\n",
    "for fruit in fruit_today_list:\n",
    "    print(fruit)\n"
   ]
  },
  {
   "cell_type": "markdown",
   "id": "4959e3c5",
   "metadata": {},
   "source": [
    "## Indexing & slicing\n",
    "- an operation to acces \"an item\" \n",
    "- what is an item in the context of string? It is one of the characters inside the string\n",
    "- we can use [] operator for indexing\n",
    "- slicing is also possible if we want to acces multiple characters\n",
    "- we can use : operator for slicing\n"
   ]
  },
  {
   "cell_type": "code",
   "execution_count": 23,
   "id": "f32f846c",
   "metadata": {},
   "outputs": [
    {
     "name": "stdout",
     "output_type": "stream",
     "text": [
      "kokchun Giang\n",
      "The first letter of the string is: k\n",
      "The last letter is: g\n",
      "The last letter is: g\n"
     ]
    }
   ],
   "source": [
    "# index\n",
    "print(fullname_w_space)\n",
    "print(f\"The first letter of the string is: {fullname_w_space[0]}\")\n",
    "print(f\"The last letter is: {fullname_w_space[12]}\")\n",
    "print(f\"The last letter is: {fullname_w_space[-1]}\")"
   ]
  },
  {
   "cell_type": "code",
   "execution_count": null,
   "id": "cde96afb",
   "metadata": {},
   "outputs": [
    {
     "name": "stdout",
     "output_type": "stream",
     "text": [
      "The first five letters: kokch\n",
      "The last five letters: Giang\n",
      "The last five letters: gnaiG\n"
     ]
    }
   ],
   "source": [
    "# slicing from the left\n",
    "print(f\"The first five letters: {fullname_w_space[0:5]}\")\n",
    "print(f\"The last five letters: {fullname_w_space[-5:]}\")\n",
    "\n",
    "# slicing revesely\n",
    "print(f\"The last five letters: {fullname_w_space[-1:-6:-1]}\")"
   ]
  },
  {
   "cell_type": "markdown",
   "id": "0c5d1df1",
   "metadata": {},
   "source": [
    "## Some common examples to clean string\n",
    "- make use of string methods\n",
    "- a good introduction of many common string methods here: [link](https://www.geeksforgeeks.org/python/python-string-methods/)\n",
    "- syntax of using function on string varriable\n",
    "    - `len(string_variable)`\n",
    "- syntax of using method on string variable\n",
    "    - `string_variable.upper()`"
   ]
  },
  {
   "cell_type": "code",
   "execution_count": 44,
   "id": "385b965a",
   "metadata": {},
   "outputs": [
    {
     "data": {
      "text/plain": [
       "13"
      ]
     },
     "execution_count": 44,
     "metadata": {},
     "output_type": "execute_result"
    }
   ],
   "source": [
    "# use len() function to check the length of a string\n",
    "len(fullname_w_space)"
   ]
  },
  {
   "cell_type": "code",
   "execution_count": 38,
   "id": "35f28587",
   "metadata": {},
   "outputs": [
    {
     "data": {
      "text/plain": [
       "['Math', ' biology    ', '   cHemMistry ', ' PrOgramming         ']"
      ]
     },
     "execution_count": 38,
     "metadata": {},
     "output_type": "execute_result"
    }
   ],
   "source": [
    "# spliting a string\n",
    "\n",
    "subjects = \"Math, biology    ,   cHemMistry , PrOgramming         \"\n",
    "\n",
    "subjects = subjects.split(\",\")\n",
    "\n",
    "subjects"
   ]
  },
  {
   "cell_type": "code",
   "execution_count": null,
   "id": "91c17c5e",
   "metadata": {},
   "outputs": [
    {
     "name": "stdout",
     "output_type": "stream",
     "text": [
      "Math\n",
      "biology\n",
      "cHemMistry\n",
      "PrOgramming\n"
     ]
    }
   ],
   "source": [
    "# strip of leading and trailing space\n",
    "# check out also rstrip() and lstrip()\n",
    "for subject in subjects:\n",
    "    print(subject.strip())"
   ]
  },
  {
   "cell_type": "code",
   "execution_count": 43,
   "id": "bc611f63",
   "metadata": {},
   "outputs": [
    {
     "name": "stdout",
     "output_type": "stream",
     "text": [
      "MATH\n",
      "BIOLOGY\n",
      "CHEMMISTRY\n",
      "PROGRAMMING\n"
     ]
    }
   ],
   "source": [
    "# making upper case letter\n",
    "# check out lower()\n",
    "for subject in subjects:\n",
    "    print(subject.strip().upper())\n"
   ]
  },
  {
   "cell_type": "markdown",
   "id": "2f962be1",
   "metadata": {},
   "source": [
    "## Regular expression\n",
    "- look for a pattern\n",
    "- make use of different functions in `re` package\n",
    "- syntax of using function from a imported package\n",
    "    - `re`.`findall()`\n",
    "    - `imported_package.function`\n",
    "- check out the w3schools re tutorial to learn more symbols to form patterns"
   ]
  },
  {
   "cell_type": "code",
   "execution_count": 2,
   "id": "d56b16a1",
   "metadata": {},
   "outputs": [],
   "source": [
    "import re   "
   ]
  },
  {
   "cell_type": "code",
   "execution_count": 3,
   "id": "9f105db4",
   "metadata": {},
   "outputs": [
    {
     "data": {
      "text/plain": [
       "['att', 'att']"
      ]
     },
     "execution_count": 3,
     "metadata": {},
     "output_type": "execute_result"
    }
   ],
   "source": [
    "text = \"Det ver en gång en katt som tog på sig en hatt\"\n",
    "\n",
    "list_letter_att = re.findall(\"att\", text) # the first argument is the pattern I want to find, \n",
    "#the second part is where I want to find the pattern\n",
    "\n",
    "list_letter_att"
   ]
  },
  {
   "cell_type": "code",
   "execution_count": null,
   "id": "5ae706c2",
   "metadata": {},
   "outputs": [
    {
     "data": {
      "text/plain": [
       "['katt', 'hatt']"
      ]
     },
     "execution_count": 4,
     "metadata": {},
     "output_type": "execute_result"
    }
   ],
   "source": [
    "list_word_att = re.findall(\".att\", text)  # use the dot to find the characters before 'att'\n",
    "\n",
    "list_word_att"
   ]
  },
  {
   "cell_type": "code",
   "execution_count": null,
   "id": "b2df059a",
   "metadata": {},
   "outputs": [
    {
     "data": {
      "text/plain": [
       "['19871203', '19440318']"
      ]
     },
     "execution_count": 8,
     "metadata": {},
     "output_type": "execute_result"
    }
   ],
   "source": [
    "personal_number = \"Ida: 19871203-4487, Helena: 19440318-7932, Sara: 020817-5376\"\n",
    "\n",
    "personal_number_eight = re.findall(r\"\\d{8}\", personal_number) #r shows it is a raw text. Only use if have to\n",
    "\n",
    "personal_number_eight\n",
    "\n"
   ]
  },
  {
   "cell_type": "code",
   "execution_count": 10,
   "id": "47dbc836",
   "metadata": {},
   "outputs": [
    {
     "data": {
      "text/plain": [
       "['871203-4487', '440318-7932', '020817-5376']"
      ]
     },
     "execution_count": 10,
     "metadata": {},
     "output_type": "execute_result"
    }
   ],
   "source": [
    "personal_number_six = re.findall(r\"\\d{6}-\\d{4}\", personal_number) \n",
    "\n",
    "personal_number_six"
   ]
  }
 ],
 "metadata": {
  "kernelspec": {
   "display_name": "Python_Anja_Scherwall_DE25_Klass (3.12.10)",
   "language": "python",
   "name": "python3"
  },
  "language_info": {
   "codemirror_mode": {
    "name": "ipython",
    "version": 3
   },
   "file_extension": ".py",
   "mimetype": "text/x-python",
   "name": "python",
   "nbconvert_exporter": "python",
   "pygments_lexer": "ipython3",
   "version": "3.12.10"
  }
 },
 "nbformat": 4,
 "nbformat_minor": 5
}
