{
 "cells": [
  {
   "cell_type": "markdown",
   "id": "3125dc7d",
   "metadata": {},
   "source": [
    "# Error handling\n",
    "- add error handling for block of code that can encounter error\n",
    "- bacause we do't want to crash the program\n",
    "- make use of `try except` block"
   ]
  },
  {
   "cell_type": "code",
   "execution_count": null,
   "id": "b31d882e",
   "metadata": {},
   "outputs": [],
   "source": [
    "# without error handling, the code below will crash\n",
    "print(x)"
   ]
  },
  {
   "cell_type": "code",
   "execution_count": null,
   "id": "931fa088",
   "metadata": {},
   "outputs": [
    {
     "name": "stdout",
     "output_type": "stream",
     "text": [
      "There is an error in the try block\n"
     ]
    }
   ],
   "source": [
    "# add try except to the code above\n",
    "try:\n",
    "    # under the try block, put the potentiallt problematic code\n",
    "    print(x)\n",
    "except:\n",
    "    # when the try block encounter error, run the except code instead of crashing\n",
    "    print(\"There is an error in the try block\")"
   ]
  },
  {
   "cell_type": "code",
   "execution_count": 4,
   "id": "cc6cc586",
   "metadata": {},
   "outputs": [
    {
     "name": "stdout",
     "output_type": "stream",
     "text": [
      "Variable x is not defined yet\n"
     ]
    }
   ],
   "source": [
    "# make use of multiple except blocks\n",
    "try:\n",
    "    print(x)\n",
    "except NameError: #specific error\n",
    "    print(\"Variable x is not defined yet\")\n",
    "except: #anything else\n",
    "    print(\"Some other error happened\")"
   ]
  },
  {
   "cell_type": "code",
   "execution_count": 9,
   "id": "43ea4baa",
   "metadata": {},
   "outputs": [
    {
     "name": "stdout",
     "output_type": "stream",
     "text": [
      "There is an error that is not a NameError\n"
     ]
    }
   ],
   "source": [
    "# an example that is not a NameError\n",
    "try:\n",
    "    print(8/0)\n",
    "except NameError: #specific error\n",
    "    print(\"There is a NameError\")\n",
    "except: #anything else\n",
    "    print(\"There is an error that is not a NameError\")"
   ]
  },
  {
   "cell_type": "code",
   "execution_count": 10,
   "id": "b9e53665",
   "metadata": {},
   "outputs": [
    {
     "name": "stdout",
     "output_type": "stream",
     "text": [
      "name 'x' is not defined\n"
     ]
    }
   ],
   "source": [
    "# make use of the error message\n",
    "try:\n",
    "    print(x)\n",
    "except NameError as err:\n",
    "    print(err)\n",
    "except:\n",
    "    print(\"Something else\")\n"
   ]
  },
  {
   "cell_type": "code",
   "execution_count": null,
   "id": "20ac2c28",
   "metadata": {},
   "outputs": [],
   "source": []
  },
  {
   "cell_type": "code",
   "execution_count": null,
   "id": "64a138e0",
   "metadata": {},
   "outputs": [],
   "source": []
  },
  {
   "cell_type": "code",
   "execution_count": null,
   "id": "7038d332",
   "metadata": {},
   "outputs": [],
   "source": []
  }
 ],
 "metadata": {
  "kernelspec": {
   "display_name": "Python_Anja_Scherwall_DE25_Klass (3.12.10)",
   "language": "python",
   "name": "python3"
  },
  "language_info": {
   "codemirror_mode": {
    "name": "ipython",
    "version": 3
   },
   "file_extension": ".py",
   "mimetype": "text/x-python",
   "name": "python",
   "nbconvert_exporter": "python",
   "pygments_lexer": "ipython3",
   "version": "3.12.10"
  }
 },
 "nbformat": 4,
 "nbformat_minor": 5
}
