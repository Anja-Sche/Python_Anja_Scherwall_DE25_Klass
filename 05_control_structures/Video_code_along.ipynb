{
 "cells": [
  {
   "cell_type": "markdown",
   "id": "13ba415f",
   "metadata": {},
   "source": [
    "# If-statements"
   ]
  },
  {
   "cell_type": "code",
   "execution_count": 2,
   "id": "8776fa5e",
   "metadata": {},
   "outputs": [
    {
     "name": "stdout",
     "output_type": "stream",
     "text": [
      "Sorry, you are to young to attend this scary movie\n",
      "Watch cartoons instead\n"
     ]
    }
   ],
   "source": [
    "age = int(input(\"Enter tour age\"))\n",
    "age_limit = 15\n",
    "\n",
    "if age < age_limit:\n",
    "    print(\"Sorry, you are to young to attend this scary movie\")\n",
    "    print(\"Watch cartoons instead\")\n",
    "else:\n",
    "    print(\"Enjoy this scary movie\")"
   ]
  },
  {
   "cell_type": "code",
   "execution_count": 5,
   "id": "47135b26",
   "metadata": {},
   "outputs": [
    {
     "name": "stdout",
     "output_type": "stream",
     "text": [
      "Welcome to the roller coaster\n"
     ]
    }
   ],
   "source": [
    "age = 15\n",
    "height = 150\n",
    "\n",
    "if age > 11 and 130 < height < 210:\n",
    "    print(\"Welcome to the roller coaster\")\n",
    "else:\n",
    "    print(\"Come back when you fulfill the requirements\")"
   ]
  },
  {
   "cell_type": "code",
   "execution_count": 4,
   "id": "fb5b4aa6",
   "metadata": {},
   "outputs": [
    {
     "name": "stdout",
     "output_type": "stream",
     "text": [
      "Welcome to the roller coaster\n"
     ]
    }
   ],
   "source": [
    "age = 15\n",
    "height = 130\n",
    "\n",
    "if age > 11 and 130 <= height < 210:\n",
    "    print(\"Welcome to the roller coaster\")\n",
    "else:\n",
    "    print(\"Come back when you fulfill the requirements\")"
   ]
  },
  {
   "cell_type": "markdown",
   "id": "31816107",
   "metadata": {},
   "source": [
    "## modulo operator"
   ]
  },
  {
   "cell_type": "code",
   "execution_count": 6,
   "id": "9fb5ec71",
   "metadata": {},
   "outputs": [
    {
     "data": {
      "text/plain": [
       "(1, 0)"
      ]
     },
     "execution_count": 6,
     "metadata": {},
     "output_type": "execute_result"
    }
   ],
   "source": [
    "5%2, 4%2"
   ]
  },
  {
   "cell_type": "code",
   "execution_count": 8,
   "id": "bcd1ff36",
   "metadata": {},
   "outputs": [
    {
     "name": "stdout",
     "output_type": "stream",
     "text": [
      "Odd number\n"
     ]
    }
   ],
   "source": [
    "number = 5\n",
    "\n",
    "if number % 2 == 0:\n",
    "    print(\"Even number\")\n",
    "else:\n",
    "    print(\"Odd number\")"
   ]
  },
  {
   "cell_type": "code",
   "execution_count": 9,
   "id": "4e1a2106",
   "metadata": {},
   "outputs": [
    {
     "name": "stdout",
     "output_type": "stream",
     "text": [
      "Even number\n"
     ]
    }
   ],
   "source": [
    "number = 50\n",
    "\n",
    "if number % 2 == 0:\n",
    "    print(\"Even number\")\n",
    "else:\n",
    "    print(\"Odd number\")"
   ]
  },
  {
   "cell_type": "markdown",
   "id": "57742cd0",
   "metadata": {},
   "source": [
    "## Truthy and falsy values"
   ]
  },
  {
   "cell_type": "code",
   "execution_count": null,
   "id": "63a128ad",
   "metadata": {},
   "outputs": [],
   "source": [
    "number = 50\n",
    "#Fråga hur 'not' gör detta rätt\n",
    "if not number % 2:\n",
    "    print(\"Even number\")\n",
    "else:\n",
    "    print(\"Odd number\")"
   ]
  },
  {
   "cell_type": "code",
   "execution_count": null,
   "id": "cb2c1723",
   "metadata": {},
   "outputs": [],
   "source": [
    "number = 5\n",
    "\n",
    "if number % 2 == 0:\n",
    "    print(\"Odd number\")\n",
    "else:\n",
    "    print(\"Even number\")\n",
    "    #fråga truthy and falsy value"
   ]
  },
  {
   "cell_type": "code",
   "execution_count": 10,
   "id": "211c0e80",
   "metadata": {},
   "outputs": [
    {
     "name": "stdout",
     "output_type": "stream",
     "text": [
      "falsy\n"
     ]
    }
   ],
   "source": [
    "if []:\n",
    "    print(\"Truthy\")\n",
    "else: \n",
    "    print(\"falsy\")"
   ]
  },
  {
   "cell_type": "code",
   "execution_count": 11,
   "id": "d66388ec",
   "metadata": {},
   "outputs": [
    {
     "name": "stdout",
     "output_type": "stream",
     "text": [
      "Truthy\n"
     ]
    }
   ],
   "source": [
    "if [3]:\n",
    "    print(\"Truthy\")\n",
    "else: \n",
    "    print(\"falsy\")"
   ]
  },
  {
   "cell_type": "code",
   "execution_count": 12,
   "id": "dfdba768",
   "metadata": {},
   "outputs": [
    {
     "name": "stdout",
     "output_type": "stream",
     "text": [
      "Truthy\n"
     ]
    }
   ],
   "source": [
    "if [0]:\n",
    "    print(\"Truthy\")\n",
    "else: \n",
    "    print(\"falsy\")"
   ]
  },
  {
   "cell_type": "markdown",
   "id": "38299d6c",
   "metadata": {},
   "source": [
    "## if-elif-else statements"
   ]
  },
  {
   "cell_type": "code",
   "execution_count": 17,
   "id": "3defb6cd",
   "metadata": {},
   "outputs": [
    {
     "name": "stdout",
     "output_type": "stream",
     "text": [
      "Give patient 750mg\n"
     ]
    }
   ],
   "source": [
    "weight = 25\n",
    "\n",
    "if weight < 20:\n",
    "    print(\"Give patient 500mg\")\n",
    "elif weight < 40:\n",
    "    print(\"Give patient 750mg\")\n",
    "else: \n",
    "    print(\"Give patient 1000mg\")"
   ]
  },
  {
   "cell_type": "markdown",
   "id": "f50430cc",
   "metadata": {},
   "source": [
    "## nested if statements"
   ]
  },
  {
   "cell_type": "code",
   "execution_count": null,
   "id": "5ec470fe",
   "metadata": {},
   "outputs": [
    {
     "name": "stdout",
     "output_type": "stream",
     "text": [
      "30 is divisible by 5\n",
      "30 is even\n"
     ]
    }
   ],
   "source": [
    "number = 25\n",
    "if number % 5 == 0:\n",
    "    print(f\"{number} is divisible by 5\")\n",
    "    if number % 2 == 0:\n",
    "        print(f\"{number} is even\")\n",
    "    else:\n",
    "        print(f\"{number} is odd\")"
   ]
  },
  {
   "cell_type": "code",
   "execution_count": 21,
   "id": "009b0de7",
   "metadata": {},
   "outputs": [],
   "source": [
    "number = 26\n",
    "if number % 5 == 0:\n",
    "    print(f\"{number} is divisible by 5\")\n",
    "    if number % 2 == 0:\n",
    "        print(f\"{number} is even\")\n",
    "    else:\n",
    "        print(f\"{number} is odd\")"
   ]
  },
  {
   "cell_type": "markdown",
   "id": "fa17aae4",
   "metadata": {},
   "source": [
    "## one line if statement"
   ]
  },
  {
   "cell_type": "code",
   "execution_count": 26,
   "id": "8a048677",
   "metadata": {},
   "outputs": [
    {
     "name": "stdout",
     "output_type": "stream",
     "text": [
      "Olivia contains the letter 'o'\n"
     ]
    }
   ],
   "source": [
    "name = \"Olivia\"\n",
    "gender = \"female\"\n",
    "age = 7\n",
    "\n",
    "#one line if\n",
    "if \"o\" in name.lower(): print(f\"{name} contains the letter 'o'\")"
   ]
  },
  {
   "cell_type": "code",
   "execution_count": null,
   "id": "e638d623",
   "metadata": {},
   "outputs": [],
   "source": [
    "name = \"Olivia\"\n",
    "gender = \"female\"\n",
    "age = 7\n",
    "\n",
    "if \"o\" in name.lower(): \n",
    "    print(f\"{name} contains the letter 'o'\")"
   ]
  },
  {
   "cell_type": "code",
   "execution_count": null,
   "id": "d964a679",
   "metadata": {},
   "outputs": [
    {
     "name": "stdout",
     "output_type": "stream",
     "text": [
      "Hi ms Olivia\n"
     ]
    }
   ],
   "source": [
    "# one line if-else\n",
    "print(f\"Hi mr {name}\") if gender == \"male\" else print(f\"Hi ms {name}\")"
   ]
  },
  {
   "cell_type": "code",
   "execution_count": 28,
   "id": "6a448085",
   "metadata": {},
   "outputs": [
    {
     "data": {
      "text/plain": [
       "True"
      ]
     },
     "execution_count": 28,
     "metadata": {},
     "output_type": "execute_result"
    }
   ],
   "source": [
    "age = 5\n",
    "# one line if-else variable assignment\n",
    "is_child = True if age< 18 else False\n",
    "is_child"
   ]
  },
  {
   "cell_type": "markdown",
   "id": "2cb77c54",
   "metadata": {},
   "source": [
    "# While statements"
   ]
  },
  {
   "cell_type": "code",
   "execution_count": null,
   "id": "8e40fe1a",
   "metadata": {},
   "outputs": [
    {
     "name": "stdout",
     "output_type": "stream",
     "text": [
      "Hello 0\n",
      "Hello 1\n",
      "Hello 2\n",
      "Hello 3\n",
      "Hello 4\n"
     ]
    }
   ],
   "source": [
    "n = 0\n",
    "while n < 5:\n",
    "    print(f\"Hello {n}\")\n",
    "    n +=1 # n = n + 1"
   ]
  },
  {
   "cell_type": "markdown",
   "id": "1558fe05",
   "metadata": {},
   "source": [
    "## Example - oil leakage\n",
    "There is an oil leakage causing the bird population in an island to 1/2 in each year. From start there were 80000 birds, how many years does it take for it to have 1/10 remaning?"
   ]
  },
  {
   "cell_type": "code",
   "execution_count": 34,
   "id": "486f7c29",
   "metadata": {},
   "outputs": [
    {
     "name": "stdout",
     "output_type": "stream",
     "text": [
      "0 there were 80000 birds\n",
      "1 there were 40000 birds\n",
      "2 there were 20000 birds\n",
      "3 there were 10000 birds\n",
      "It takes 4 years for the birds to have less than 1/10th of population\n"
     ]
    }
   ],
   "source": [
    "birds = 80000\n",
    "year = 0\n",
    "\n",
    "while birds > 8000:\n",
    "    print(f\"{year} there were {birds:.0f} birds\")\n",
    "    birds /= 2\n",
    "    year += 1\n",
    "\n",
    "print(f\"It takes {year} years for the birds to have less than 1/10th of population\")"
   ]
  },
  {
   "cell_type": "markdown",
   "id": "cfc2931a",
   "metadata": {},
   "source": [
    "## break statement"
   ]
  },
  {
   "cell_type": "code",
   "execution_count": null,
   "id": "2e722ee4",
   "metadata": {},
   "outputs": [
    {
     "data": {
      "text/plain": [
       "4"
      ]
     },
     "execution_count": 41,
     "metadata": {},
     "output_type": "execute_result"
    }
   ],
   "source": [
    "import random as rnd\n",
    "\n",
    "rnd.randint(1, 10)"
   ]
  },
  {
   "cell_type": "code",
   "execution_count": 44,
   "id": "154a3618",
   "metadata": {},
   "outputs": [
    {
     "name": "stdout",
     "output_type": "stream",
     "text": [
      "Correct\n",
      "worng, the awnser was 56\n",
      "Correct\n",
      "have a nice day\n"
     ]
    }
   ],
   "source": [
    "import random as rnd\n",
    "\n",
    "while True:\n",
    "    number1 =rnd.randint(1, 10)\n",
    "    number2 =rnd.randint(1, 10)\n",
    "\n",
    "    user_answer = int(input(f\"What is {number1}*{number2}\"))\n",
    "\n",
    "    if user_answer == number1*number2:\n",
    "        print(\"Correct\")\n",
    "    else:\n",
    "        print(f\"worng, the awnser was {number1*number2}\")\n",
    "    \n",
    "    play_again = input(\"wanna play again (y for yes)?\")\n",
    "\n",
    "    if play_again != \"y\":\n",
    "        print(\"have a nice day\")\n",
    "        break\n"
   ]
  }
 ],
 "metadata": {
  "kernelspec": {
   "display_name": "Python_Anja_Scherwall_DE25_Klass",
   "language": "python",
   "name": "python3"
  },
  "language_info": {
   "codemirror_mode": {
    "name": "ipython",
    "version": 3
   },
   "file_extension": ".py",
   "mimetype": "text/x-python",
   "name": "python",
   "nbconvert_exporter": "python",
   "pygments_lexer": "ipython3",
   "version": "3.12.10"
  }
 },
 "nbformat": 4,
 "nbformat_minor": 5
}
