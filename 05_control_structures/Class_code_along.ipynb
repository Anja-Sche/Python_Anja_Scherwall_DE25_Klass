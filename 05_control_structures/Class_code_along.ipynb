{
 "cells": [
  {
   "cell_type": "markdown",
   "id": "bc716e24",
   "metadata": {},
   "source": [
    "# If statements\n",
    "- one way to control the flow of running the script\n",
    "- use if statement for controling the flow based on conditions"
   ]
  },
  {
   "cell_type": "markdown",
   "id": "6e3eaf31",
   "metadata": {},
   "source": [
    "##### Example\n",
    "- based on the user input of age, print out a message showing that if the user can wath a scary movie"
   ]
  },
  {
   "cell_type": "code",
   "execution_count": 1,
   "id": "eebf06e9",
   "metadata": {},
   "outputs": [],
   "source": [
    "age = int(input(\"enter your age\"))"
   ]
  },
  {
   "cell_type": "code",
   "execution_count": 2,
   "id": "76e18724",
   "metadata": {},
   "outputs": [
    {
     "data": {
      "text/plain": [
       "int"
      ]
     },
     "execution_count": 2,
     "metadata": {},
     "output_type": "execute_result"
    }
   ],
   "source": [
    "# check the data type of age variable\n",
    "type(age)"
   ]
  },
  {
   "cell_type": "code",
   "execution_count": 3,
   "id": "7c8721eb",
   "metadata": {},
   "outputs": [],
   "source": [
    "age_limit = 15"
   ]
  },
  {
   "cell_type": "code",
   "execution_count": 4,
   "id": "d12300a1",
   "metadata": {},
   "outputs": [
    {
     "data": {
      "text/plain": [
       "int"
      ]
     },
     "execution_count": 4,
     "metadata": {},
     "output_type": "execute_result"
    }
   ],
   "source": [
    "# check the data type of age_limit variable\n",
    "type(age_limit)"
   ]
  },
  {
   "cell_type": "code",
   "execution_count": 5,
   "id": "266a4b7f",
   "metadata": {},
   "outputs": [
    {
     "name": "stdout",
     "output_type": "stream",
     "text": [
      "Sorry, you are to young to watch this scary movie\n",
      "Watch a cartoon instead\n"
     ]
    }
   ],
   "source": [
    "# we compare the two variables, age and age_limit, to set up our condition for the if statement\n",
    "\n",
    "if age < age_limit: # between if and :, specify your condition\n",
    "    # if the condition is matched, run this block of code\n",
    "    print(\"Sorry, you are to young to watch this scary movie\")\n",
    "    print(\"Watch a cartoon instead\")\n",
    "else:\n",
    "    # if the condition is not met, run this code instead\n",
    "    print(\"Enjoy this scary movie\")\n"
   ]
  },
  {
   "cell_type": "markdown",
   "id": "13e04a09",
   "metadata": {},
   "source": [
    "#### Example of more than two possible scenarios\n",
    "- use if - elif -else \n",
    "- the follwing example shows how to sugest the dose of mediciine depending on the patients weight"
   ]
  },
  {
   "cell_type": "code",
   "execution_count": 6,
   "id": "c4ab326d",
   "metadata": {},
   "outputs": [
    {
     "data": {
      "text/plain": [
       "float"
      ]
     },
     "execution_count": 6,
     "metadata": {},
     "output_type": "execute_result"
    }
   ],
   "source": [
    "weight = float(input(\"What is your weight in kg?\"))\n",
    "\n",
    "type(weight)"
   ]
  },
  {
   "cell_type": "code",
   "execution_count": null,
   "id": "821e5929",
   "metadata": {},
   "outputs": [
    {
     "name": "stdout",
     "output_type": "stream",
     "text": [
      "The patient should take 1000mg per day\n"
     ]
    }
   ],
   "source": [
    "if weight < 20:\n",
    "    # python will first cheack if weight is less than 20 or not\n",
    "    # if yes, the code will run this code and stop\n",
    "    print(\"The patient should take 500mg per day\")\n",
    "elif weight < 40:\n",
    "    # python will secondly cheack if weight is less than 40 or not\n",
    "    # if yes, the code will run this code and stop\n",
    "    print(\"The patient should take 750mg per day\")\n",
    "else:\n",
    "    # python will run this if none of the above are met, python will run this and then stop\n",
    "    print(\"The patient should take 1000mg per day\")"
   ]
  }
 ],
 "metadata": {
  "kernelspec": {
   "display_name": "Python_Anja_Scherwall_DE25_Klass",
   "language": "python",
   "name": "python3"
  },
  "language_info": {
   "codemirror_mode": {
    "name": "ipython",
    "version": 3
   },
   "file_extension": ".py",
   "mimetype": "text/x-python",
   "name": "python",
   "nbconvert_exporter": "python",
   "pygments_lexer": "ipython3",
   "version": "3.12.10"
  }
 },
 "nbformat": 4,
 "nbformat_minor": 5
}
