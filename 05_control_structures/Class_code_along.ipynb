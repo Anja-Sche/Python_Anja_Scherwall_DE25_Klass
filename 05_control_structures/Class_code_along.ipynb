{
 "cells": [
  {
   "cell_type": "markdown",
   "id": "bc716e24",
   "metadata": {},
   "source": [
    "# If statements\n",
    "- one way to control the flow of running the script\n",
    "- use if statement for controling the flow based on conditions"
   ]
  },
  {
   "cell_type": "markdown",
   "id": "6e3eaf31",
   "metadata": {},
   "source": [
    "##### Example\n",
    "- based on the user input of age, print out a message showing that if the user can wath a scary movie"
   ]
  },
  {
   "cell_type": "code",
   "execution_count": 1,
   "id": "eebf06e9",
   "metadata": {},
   "outputs": [],
   "source": [
    "age = int(input(\"enter your age\"))"
   ]
  },
  {
   "cell_type": "code",
   "execution_count": 2,
   "id": "76e18724",
   "metadata": {},
   "outputs": [
    {
     "data": {
      "text/plain": [
       "int"
      ]
     },
     "execution_count": 2,
     "metadata": {},
     "output_type": "execute_result"
    }
   ],
   "source": [
    "# check the data type of age variable\n",
    "type(age)"
   ]
  },
  {
   "cell_type": "code",
   "execution_count": 3,
   "id": "7c8721eb",
   "metadata": {},
   "outputs": [],
   "source": [
    "age_limit = 15"
   ]
  },
  {
   "cell_type": "code",
   "execution_count": 4,
   "id": "d12300a1",
   "metadata": {},
   "outputs": [
    {
     "data": {
      "text/plain": [
       "int"
      ]
     },
     "execution_count": 4,
     "metadata": {},
     "output_type": "execute_result"
    }
   ],
   "source": [
    "# check the data type of age_limit variable\n",
    "type(age_limit)"
   ]
  },
  {
   "cell_type": "code",
   "execution_count": 5,
   "id": "266a4b7f",
   "metadata": {},
   "outputs": [
    {
     "name": "stdout",
     "output_type": "stream",
     "text": [
      "Sorry, you are to young to watch this scary movie\n",
      "Watch a cartoon instead\n"
     ]
    }
   ],
   "source": [
    "# we compare the two variables, age and age_limit, to set up our condition for the if statement\n",
    "\n",
    "if age < age_limit: # between if and :, specify your condition\n",
    "    # if the condition is matched, run this block of code\n",
    "    print(\"Sorry, you are to young to watch this scary movie\")\n",
    "    print(\"Watch a cartoon instead\")\n",
    "else:\n",
    "    # if the condition is not met, run this code instead\n",
    "    print(\"Enjoy this scary movie\")\n"
   ]
  },
  {
   "cell_type": "markdown",
   "id": "13e04a09",
   "metadata": {},
   "source": [
    "#### Example of more than two possible scenarios\n",
    "- use if - elif -else \n",
    "- the follwing example shows how to sugest the dose of mediciine depending on the patients weight"
   ]
  },
  {
   "cell_type": "code",
   "execution_count": 6,
   "id": "c4ab326d",
   "metadata": {},
   "outputs": [
    {
     "data": {
      "text/plain": [
       "float"
      ]
     },
     "execution_count": 6,
     "metadata": {},
     "output_type": "execute_result"
    }
   ],
   "source": [
    "weight = float(input(\"What is your weight in kg?\"))\n",
    "\n",
    "type(weight)"
   ]
  },
  {
   "cell_type": "code",
   "execution_count": null,
   "id": "821e5929",
   "metadata": {},
   "outputs": [
    {
     "name": "stdout",
     "output_type": "stream",
     "text": [
      "The patient should take 1000mg per day\n"
     ]
    }
   ],
   "source": [
    "if weight < 20:\n",
    "    # python will first cheack if weight is less than 20 or not\n",
    "    # if yes, the code will run this code and stop\n",
    "    print(\"The patient should take 500mg per day\")\n",
    "elif weight < 40:\n",
    "    # python will secondly cheack if weight is less than 40 or not\n",
    "    # if yes, the code will run this code and stop\n",
    "    print(\"The patient should take 750mg per day\")\n",
    "else:\n",
    "    # python will run this if none of the above are met, python will run this and then stop\n",
    "    print(\"The patient should take 1000mg per day\")"
   ]
  },
  {
   "cell_type": "markdown",
   "id": "a55b05d4",
   "metadata": {},
   "source": [
    "% - är en operator, när en symbol gör något i en kod\n",
    "\n",
    "= -operator\n",
    "\n",
    "< -operator"
   ]
  },
  {
   "cell_type": "markdown",
   "id": "35c27b3c",
   "metadata": {},
   "source": [
    "#### Modulo operator (%)\n",
    "- return the reminder of a division\n",
    "- ex. 5 % 3 = 2, 9 % 3 = 0  (visar det som finns kvar)"
   ]
  },
  {
   "cell_type": "code",
   "execution_count": 3,
   "id": "6b8a0d2e",
   "metadata": {},
   "outputs": [],
   "source": [
    "number = 5"
   ]
  },
  {
   "cell_type": "code",
   "execution_count": 4,
   "id": "a51bc85f",
   "metadata": {},
   "outputs": [
    {
     "name": "stdout",
     "output_type": "stream",
     "text": [
      "It is a odd number and the value assigned to this is 5\n"
     ]
    }
   ],
   "source": [
    "#print out weter the value assigned to the variable, number, is odd or even\n",
    "if number % 2 == 0: #== is the equality operator\n",
    "    print(f\"It is a even number and the value assigned to this is {number}\")\n",
    "else:\n",
    "    print(f\"It is a odd number and the value assigned to this is {number}\")"
   ]
  },
  {
   "cell_type": "markdown",
   "id": "9f08df5c",
   "metadata": {},
   "source": [
    "#### Nested if statement\n",
    "- When we have another if statement under a scenario of a if statement\n",
    "- you need to think about if nested statement produces a clean codes"
   ]
  },
  {
   "cell_type": "code",
   "execution_count": 9,
   "id": "11b4eb07",
   "metadata": {},
   "outputs": [],
   "source": [
    "#number = 100\n",
    "number = int(input(\"Enter a number\"))"
   ]
  },
  {
   "cell_type": "code",
   "execution_count": 11,
   "id": "e399e0b2",
   "metadata": {},
   "outputs": [
    {
     "name": "stdout",
     "output_type": "stream",
     "text": [
      "This number is diviseble by 5, Check also if it is deviseble by 2.\n",
      "This is an odd number\n"
     ]
    }
   ],
   "source": [
    "# if a number is divisible by 5, further check if it is diviseble by 2 (even number)\n",
    "if number % 5 == 0:\n",
    "    print(\"This number is diviseble by 5, Check also if it is deviseble by 2.\")\n",
    "    if number % 2 == 0:\n",
    "        print(\"This is an even number\")\n",
    "    else:\n",
    "        print(\"This is an odd number\")\n",
    "else:\n",
    "    print(\"This number is not divisible by 5. No need to check further.\")"
   ]
  },
  {
   "cell_type": "markdown",
   "id": "ed16e7b6",
   "metadata": {},
   "source": [
    "#### One line if statement\n",
    "- you write one line if statement, usually when refractoring you original if statement with multipl lines of code\n",
    "- you need to thing about if a one line if statement can make your code better. Is i cleaner and mor readable?"
   ]
  },
  {
   "cell_type": "code",
   "execution_count": 12,
   "id": "442d4028",
   "metadata": {},
   "outputs": [],
   "source": [
    "name = \"Olivia\"\n",
    "gender = \"female\"\n",
    "age = 7"
   ]
  },
  {
   "cell_type": "code",
   "execution_count": 14,
   "id": "28335263",
   "metadata": {},
   "outputs": [
    {
     "name": "stdout",
     "output_type": "stream",
     "text": [
      "There is a letter 'O' in the name\n"
     ]
    }
   ],
   "source": [
    "# Multiple lines\n",
    "if \"o\" in name.lower():\n",
    "    print(\"There is a letter 'O' in the name\")"
   ]
  },
  {
   "cell_type": "code",
   "execution_count": 13,
   "id": "add8d389",
   "metadata": {},
   "outputs": [
    {
     "name": "stdout",
     "output_type": "stream",
     "text": [
      "There is a letter 'O' in the name\n"
     ]
    }
   ],
   "source": [
    "# One line of code\n",
    "if \"O\" in name: print(\"There is a letter 'O' in the name\")"
   ]
  },
  {
   "cell_type": "markdown",
   "id": "8bf7302f",
   "metadata": {},
   "source": [
    "## Group excercise\n",
    "####Decide discounts for a customer\n",
    "- Set a base price to be 10kr per apple\n",
    "- Ask for user to input wether student or pensioner\n",
    "- Ask user to input the quantity of apples they buy\n",
    "- Use a if statement to decide the final price with this discount \n",
    "    - 30% off for students\n",
    "    - 50% off for pensioners\n",
    "- Print out a text with f-string to show the user what is the final price\n",
    "- Push the .ipynb with outputs to your remote repo"
   ]
  },
  {
   "cell_type": "code",
   "execution_count": 26,
   "id": "9bf4f80c",
   "metadata": {},
   "outputs": [
    {
     "name": "stdout",
     "output_type": "stream",
     "text": [
      "The price for your apples are 50kr.\n"
     ]
    }
   ],
   "source": [
    "apple = 10\n",
    "amount_ = int(input(\"How many apple do you want to buy?\"))\n",
    "org_price = amount_ * apple\n",
    "\n",
    "discount = input(\"Are you a student or pensioner? Put 's' for student or 'p' for pensioner\")\n",
    "if discount == \"s\":\n",
    "    org_price= org_price * 0.7\n",
    "elif discount == \"p\":\n",
    "    org_price = org_price * 0.5\n",
    "else:\n",
    "    org_price    \n",
    "\n",
    "print(f\"The price for your apples are {org_price:.0f}kr.\")"
   ]
  }
 ],
 "metadata": {
  "kernelspec": {
   "display_name": "Python_Anja_Scherwall_DE25_Klass (3.12.10)",
   "language": "python",
   "name": "python3"
  },
  "language_info": {
   "codemirror_mode": {
    "name": "ipython",
    "version": 3
   },
   "file_extension": ".py",
   "mimetype": "text/x-python",
   "name": "python",
   "nbconvert_exporter": "python",
   "pygments_lexer": "ipython3",
   "version": "3.12.10"
  }
 },
 "nbformat": 4,
 "nbformat_minor": 5
}
