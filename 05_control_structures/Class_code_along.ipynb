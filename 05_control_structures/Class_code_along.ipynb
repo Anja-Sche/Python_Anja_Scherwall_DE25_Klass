{
 "cells": [
  {
   "cell_type": "markdown",
   "id": "bc716e24",
   "metadata": {},
   "source": [
    "# If statements\n",
    "- one way to control the flow of running the script\n",
    "- use if statement for controling the flow based on conditions"
   ]
  },
  {
   "cell_type": "markdown",
   "id": "6e3eaf31",
   "metadata": {},
   "source": [
    "##### Example\n",
    "- based on the user input of age, print out a message showing that if the user can wath a scary movie"
   ]
  },
  {
   "cell_type": "code",
   "execution_count": 1,
   "id": "eebf06e9",
   "metadata": {},
   "outputs": [],
   "source": [
    "age = int(input(\"enter your age\"))"
   ]
  },
  {
   "cell_type": "code",
   "execution_count": 2,
   "id": "76e18724",
   "metadata": {},
   "outputs": [
    {
     "data": {
      "text/plain": [
       "int"
      ]
     },
     "execution_count": 2,
     "metadata": {},
     "output_type": "execute_result"
    }
   ],
   "source": [
    "# check the data type of age variable\n",
    "type(age)"
   ]
  },
  {
   "cell_type": "code",
   "execution_count": 3,
   "id": "7c8721eb",
   "metadata": {},
   "outputs": [],
   "source": [
    "age_limit = 15"
   ]
  },
  {
   "cell_type": "code",
   "execution_count": 4,
   "id": "d12300a1",
   "metadata": {},
   "outputs": [
    {
     "data": {
      "text/plain": [
       "int"
      ]
     },
     "execution_count": 4,
     "metadata": {},
     "output_type": "execute_result"
    }
   ],
   "source": [
    "# check the data type of age_limit variable\n",
    "type(age_limit)"
   ]
  },
  {
   "cell_type": "code",
   "execution_count": 5,
   "id": "266a4b7f",
   "metadata": {},
   "outputs": [
    {
     "name": "stdout",
     "output_type": "stream",
     "text": [
      "Sorry, you are to young to watch this scary movie\n",
      "Watch a cartoon instead\n"
     ]
    }
   ],
   "source": [
    "# we compare the two variables, age and age_limit, to set up our condition for the if statement\n",
    "\n",
    "if age < age_limit: # between if and :, specify your condition\n",
    "    # if the condition is matched, run this block of code\n",
    "    print(\"Sorry, you are to young to watch this scary movie\")\n",
    "    print(\"Watch a cartoon instead\")\n",
    "else:\n",
    "    # if the condition is not met, run this code instead\n",
    "    print(\"Enjoy this scary movie\")\n"
   ]
  },
  {
   "cell_type": "markdown",
   "id": "13e04a09",
   "metadata": {},
   "source": [
    "#### Example of more than two possible scenarios\n",
    "- use if - elif -else \n",
    "- the follwing example shows how to sugest the dose of mediciine depending on the patients weight"
   ]
  },
  {
   "cell_type": "code",
   "execution_count": 6,
   "id": "c4ab326d",
   "metadata": {},
   "outputs": [
    {
     "data": {
      "text/plain": [
       "float"
      ]
     },
     "execution_count": 6,
     "metadata": {},
     "output_type": "execute_result"
    }
   ],
   "source": [
    "weight = float(input(\"What is your weight in kg?\"))\n",
    "\n",
    "type(weight)"
   ]
  },
  {
   "cell_type": "code",
   "execution_count": null,
   "id": "821e5929",
   "metadata": {},
   "outputs": [
    {
     "name": "stdout",
     "output_type": "stream",
     "text": [
      "The patient should take 1000mg per day\n"
     ]
    }
   ],
   "source": [
    "if weight < 20:\n",
    "    # python will first cheack if weight is less than 20 or not\n",
    "    # if yes, the code will run this code and stop\n",
    "    print(\"The patient should take 500mg per day\")\n",
    "elif weight < 40:\n",
    "    # python will secondly cheack if weight is less than 40 or not\n",
    "    # if yes, the code will run this code and stop\n",
    "    print(\"The patient should take 750mg per day\")\n",
    "else:\n",
    "    # python will run this if none of the above are met, python will run this and then stop\n",
    "    print(\"The patient should take 1000mg per day\")"
   ]
  },
  {
   "cell_type": "markdown",
   "id": "a55b05d4",
   "metadata": {},
   "source": [
    "% - är en operator, när en symbol gör något i en kod\n",
    "\n",
    "= -operator\n",
    "\n",
    "< -operator"
   ]
  },
  {
   "cell_type": "markdown",
   "id": "35c27b3c",
   "metadata": {},
   "source": [
    "#### Modulo operator (%)\n",
    "- return the reminder of a division\n",
    "- ex. 5 % 3 = 2, 9 % 3 = 0  (visar det som finns kvar)"
   ]
  },
  {
   "cell_type": "code",
   "execution_count": 3,
   "id": "6b8a0d2e",
   "metadata": {},
   "outputs": [],
   "source": [
    "number = 5"
   ]
  },
  {
   "cell_type": "code",
   "execution_count": 4,
   "id": "a51bc85f",
   "metadata": {},
   "outputs": [
    {
     "name": "stdout",
     "output_type": "stream",
     "text": [
      "It is a odd number and the value assigned to this is 5\n"
     ]
    }
   ],
   "source": [
    "#print out weter the value assigned to the variable, number, is odd or even\n",
    "if number % 2 == 0: #== is the equality operator\n",
    "    print(f\"It is a even number and the value assigned to this is {number}\")\n",
    "else:\n",
    "    print(f\"It is a odd number and the value assigned to this is {number}\")"
   ]
  },
  {
   "cell_type": "markdown",
   "id": "9f08df5c",
   "metadata": {},
   "source": [
    "#### Nested if statement\n",
    "- When we have another if statement under a scenario of a if statement\n",
    "- you need to think about if nested statement produces a clean codes"
   ]
  },
  {
   "cell_type": "code",
   "execution_count": 9,
   "id": "11b4eb07",
   "metadata": {},
   "outputs": [],
   "source": [
    "#number = 100\n",
    "number = int(input(\"Enter a number\"))"
   ]
  },
  {
   "cell_type": "code",
   "execution_count": 11,
   "id": "e399e0b2",
   "metadata": {},
   "outputs": [
    {
     "name": "stdout",
     "output_type": "stream",
     "text": [
      "This number is diviseble by 5, Check also if it is deviseble by 2.\n",
      "This is an odd number\n"
     ]
    }
   ],
   "source": [
    "# if a number is divisible by 5, further check if it is diviseble by 2 (even number)\n",
    "if number % 5 == 0:\n",
    "    print(\"This number is diviseble by 5, Check also if it is deviseble by 2.\")\n",
    "    if number % 2 == 0:\n",
    "        print(\"This is an even number\")\n",
    "    else:\n",
    "        print(\"This is an odd number\")\n",
    "else:\n",
    "    print(\"This number is not divisible by 5. No need to check further.\")"
   ]
  },
  {
   "cell_type": "markdown",
   "id": "ed16e7b6",
   "metadata": {},
   "source": [
    "#### One line if statement\n",
    "- you write one line if statement, usually when refractoring you original if statement with multipl lines of code\n",
    "- you need to thing about if a one line if statement can make your code better. Is i cleaner and mor readable?"
   ]
  },
  {
   "cell_type": "code",
   "execution_count": 12,
   "id": "442d4028",
   "metadata": {},
   "outputs": [],
   "source": [
    "name = \"Olivia\"\n",
    "gender = \"female\"\n",
    "age = 7"
   ]
  },
  {
   "cell_type": "code",
   "execution_count": 14,
   "id": "28335263",
   "metadata": {},
   "outputs": [
    {
     "name": "stdout",
     "output_type": "stream",
     "text": [
      "There is a letter 'O' in the name\n"
     ]
    }
   ],
   "source": [
    "# Multiple lines\n",
    "if \"o\" in name.lower():\n",
    "    print(\"There is a letter 'O' in the name\")"
   ]
  },
  {
   "cell_type": "code",
   "execution_count": 13,
   "id": "add8d389",
   "metadata": {},
   "outputs": [
    {
     "name": "stdout",
     "output_type": "stream",
     "text": [
      "There is a letter 'O' in the name\n"
     ]
    }
   ],
   "source": [
    "# One line of code\n",
    "if \"O\" in name: print(\"There is a letter 'O' in the name\")"
   ]
  },
  {
   "cell_type": "markdown",
   "id": "8bf7302f",
   "metadata": {},
   "source": [
    "## Group excercise\n",
    "####Decide discounts for a customer\n",
    "- Set a base price to be 10kr per apple\n",
    "- Ask for user to input wether student or pensioner\n",
    "- Ask user to input the quantity of apples they buy\n",
    "- Use a if statement to decide the final price with this discount \n",
    "    - 30% off for students\n",
    "    - 50% off for pensioners\n",
    "- Print out a text with f-string to show the user what is the final price\n",
    "- Push the .ipynb with outputs to your remote repo"
   ]
  },
  {
   "cell_type": "code",
   "execution_count": 26,
   "id": "9bf4f80c",
   "metadata": {},
   "outputs": [
    {
     "name": "stdout",
     "output_type": "stream",
     "text": [
      "The price for your apples are 50kr.\n"
     ]
    }
   ],
   "source": [
    "apple = 10\n",
    "amount_ = int(input(\"How many apple do you want to buy?\"))\n",
    "org_price = amount_ * apple\n",
    "\n",
    "discount = input(\"Are you a student or pensioner? Put 's' for student or 'p' for pensioner\")\n",
    "if discount == \"s\":\n",
    "    org_price= org_price * 0.7\n",
    "elif discount == \"p\":\n",
    "    org_price = org_price * 0.5\n",
    "else:\n",
    "    org_price    \n",
    "\n",
    "print(f\"The price for your apples are {org_price:.0f}kr.\")"
   ]
  },
  {
   "cell_type": "markdown",
   "id": "6f70a53a",
   "metadata": {},
   "source": [
    "# For loop\n",
    "- loops through the same block of code\n",
    "- the number of loops are known"
   ]
  },
  {
   "cell_type": "code",
   "execution_count": null,
   "id": "a1189e9c",
   "metadata": {},
   "outputs": [],
   "source": [
    "# a simple example\n",
    "for i in range(5): # range(n) returns numbers from 0 to n-1\n",
    "    print(i)"
   ]
  },
  {
   "cell_type": "markdown",
   "id": "a2485384",
   "metadata": {},
   "source": [
    "### range() function\n",
    "- with only one argument, like range(5), we put the end argument. Default start i 0 and default step is 1\n",
    "- with three arguments, like range(1, 5, 2), we have a start, end, and the last didgit is a step argument (how big of a jump to the next on)"
   ]
  },
  {
   "cell_type": "code",
   "execution_count": null,
   "id": "d10e92f9",
   "metadata": {},
   "outputs": [
    {
     "name": "stdout",
     "output_type": "stream",
     "text": [
      "1 3 "
     ]
    }
   ],
   "source": [
    "# an example with three arguments\n",
    "for i in range(1, 5, 2):\n",
    "    print(i, end = \" \")"
   ]
  },
  {
   "cell_type": "markdown",
   "id": "96abb4ae",
   "metadata": {},
   "source": [
    "#### random module"
   ]
  },
  {
   "cell_type": "code",
   "execution_count": null,
   "id": "d55c2528",
   "metadata": {},
   "outputs": [],
   "source": [
    "import random as rnd"
   ]
  },
  {
   "cell_type": "code",
   "execution_count": null,
   "id": "54f4d9c6",
   "metadata": {},
   "outputs": [
    {
     "data": {
      "text/plain": [
       "2"
      ]
     },
     "execution_count": 5,
     "metadata": {},
     "output_type": "execute_result"
    }
   ],
   "source": [
    "#generate a dice result from the throw\n",
    "dice_result = rnd.randint(1,6) #use the alias. (rand) when you want to use the function from this module\n",
    "dice_result"
   ]
  },
  {
   "cell_type": "markdown",
   "id": "8bb21b5a",
   "metadata": {},
   "source": [
    "#### loop through a list"
   ]
  },
  {
   "cell_type": "code",
   "execution_count": 6,
   "id": "bb081de0",
   "metadata": {},
   "outputs": [
    {
     "name": "stdout",
     "output_type": "stream",
     "text": [
      "I love to eat apple\n",
      "I love to eat orange\n",
      "I love to eat grape\n"
     ]
    }
   ],
   "source": [
    "# list is a collection of items/values/data\n",
    "fruits = [\"apple\", \"orange\", \"grape\"]\n",
    "\n",
    "for fruit in fruits: # refer to a specific list, fruit is a intermediate variable\n",
    "    print(f\"I love to eat {fruit}\")"
   ]
  },
  {
   "cell_type": "markdown",
   "id": "52c45950",
   "metadata": {},
   "source": [
    "#### example of pythonic code\n",
    "- a classic example: when writing a for loop with index\n",
    "- problem solve: loop through the fruit list and also print out the index for each fruit"
   ]
  },
  {
   "cell_type": "code",
   "execution_count": 7,
   "id": "22c2ba2a",
   "metadata": {},
   "outputs": [
    {
     "name": "stdout",
     "output_type": "stream",
     "text": [
      "1. apple\n",
      "2. orange\n",
      "3. grape\n"
     ]
    }
   ],
   "source": [
    "# i reprecent the index\n",
    "for i, fruit in enumerate(fruits, 1):\n",
    "    print(f\"{i}. {fruit}\")"
   ]
  },
  {
   "cell_type": "markdown",
   "id": "7586479a",
   "metadata": {},
   "source": [
    "# While loop\n",
    "- loops through the same block of code\n",
    "- the number of loops are determende during runtime (is not known when starting a while loop)"
   ]
  },
  {
   "cell_type": "code",
   "execution_count": null,
   "id": "8432e433",
   "metadata": {},
   "outputs": [],
   "source": [
    "# a simple example\n",
    "i = 0\n",
    "while i < 5: #repeat mulitiple times untill the condition is not met\n",
    "    print(i)\n",
    "    i += 2 # += is simular to =, also assignment operator, it goes i = i+2"
   ]
  },
  {
   "cell_type": "markdown",
   "id": "64b411a4",
   "metadata": {},
   "source": [
    "#### Exampel of oil leakage\n",
    "- in year 0, from begining we have 80 000 birds\n",
    "- due to oil leakage, 50% of the birds every year will die \n",
    "- When will the number of birds become 8000 (1/10)?\n",
    "- in this exapmle we don't know how many years needs to be repeated to reach this number of years"
   ]
  },
  {
   "cell_type": "code",
   "execution_count": 46,
   "id": "6b057288",
   "metadata": {},
   "outputs": [],
   "source": [
    "# initial value for the year and birds veriables\n",
    "year = 0\n",
    "birds = 80_000"
   ]
  },
  {
   "cell_type": "code",
   "execution_count": null,
   "id": "44b8de0a",
   "metadata": {},
   "outputs": [],
   "source": [
    "while birds > 8000: # provide a condittion, not the number of looping times with while statement\n",
    "    print(f\"Curently, this is year {year} and the number of birds are {birds:.0f}\") # note that we format the birds variable\n",
    "    birds /= 2 # use the assignment operator /=, to simplify the code: birds = birds/2\n",
    "    print(f\"At the end of year {year}, the number of birds decreases to {birds:.0f}\")\n",
    "    print(\"------------------------------------------------------------\")\n",
    "    year += 1 \n",
    "\n",
    "print(f\"It takes {year} years for the birdpopulation to drop to 8000\")\n"
   ]
  },
  {
   "cell_type": "markdown",
   "id": "7d0f84df",
   "metadata": {},
   "source": [
    "#### Infinite while loop and break statement\n",
    "- the special things about an infinit while loop is that the condition is always True\n",
    "- loop through the same block of code several times\n",
    "- number of loops are not known when starting a while loop\n",
    "- instead of having the condition at the begining of the while loop, the condition is still here, but it is evaluated within the block of code we want to repeat\n",
    "- the motivation/use case: wether the condition is met will be decided during the iteration"
   ]
  },
  {
   "cell_type": "code",
   "execution_count": null,
   "id": "def6b790",
   "metadata": {},
   "outputs": [
    {
     "name": "stdout",
     "output_type": "stream",
     "text": [
      "0\n",
      "1\n",
      "2\n",
      "3\n",
      "4\n"
     ]
    }
   ],
   "source": [
    "# turning the simple example above to a infinate while loop\n",
    "i = 0\n",
    "\n",
    "while True:\n",
    "    print(i)\n",
    "    i += 1\n",
    "    if i >= 5: # this is the same as saying when 'i' is bigger than 4 or equal to 5\n",
    "        break"
   ]
  }
 ],
 "metadata": {
  "kernelspec": {
   "display_name": "Python_Anja_Scherwall_DE25_Klass",
   "language": "python",
   "name": "python3"
  },
  "language_info": {
   "codemirror_mode": {
    "name": "ipython",
    "version": 3
   },
   "file_extension": ".py",
   "mimetype": "text/x-python",
   "name": "python",
   "nbconvert_exporter": "python",
   "pygments_lexer": "ipython3",
   "version": "3.12.10"
  }
 },
 "nbformat": 4,
 "nbformat_minor": 5
}
