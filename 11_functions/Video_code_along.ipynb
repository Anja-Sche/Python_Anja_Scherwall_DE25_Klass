{
 "cells": [
  {
   "cell_type": "markdown",
   "id": "a4ceb138",
   "metadata": {},
   "source": [
    "# Functions"
   ]
  },
  {
   "cell_type": "code",
   "execution_count": 1,
   "id": "41710019",
   "metadata": {},
   "outputs": [
    {
     "data": {
      "text/plain": [
       "4"
      ]
     },
     "execution_count": 1,
     "metadata": {},
     "output_type": "execute_result"
    }
   ],
   "source": [
    "def squarer(x):\n",
    "    return x**2\n",
    "\n",
    "squarer(2)"
   ]
  },
  {
   "cell_type": "code",
   "execution_count": 2,
   "id": "e8af063b",
   "metadata": {},
   "outputs": [
    {
     "data": {
      "text/plain": [
       "25"
      ]
     },
     "execution_count": 2,
     "metadata": {},
     "output_type": "execute_result"
    }
   ],
   "source": [
    "square =squarer(5)\n",
    "square"
   ]
  },
  {
   "cell_type": "code",
   "execution_count": 4,
   "id": "3981d222",
   "metadata": {},
   "outputs": [
    {
     "data": {
      "text/plain": [
       "[0, 1, 4, 9, 16, 25, 36, 49, 64, 81]"
      ]
     },
     "execution_count": 4,
     "metadata": {},
     "output_type": "execute_result"
    }
   ],
   "source": [
    "[squarer(x) for x in range (10)]"
   ]
  },
  {
   "cell_type": "code",
   "execution_count": 6,
   "id": "adb5d8b3",
   "metadata": {},
   "outputs": [
    {
     "name": "stdout",
     "output_type": "stream",
     "text": [
      "hi\n"
     ]
    }
   ],
   "source": [
    "def say_hello():\n",
    "    print(\"hi\")\n",
    "\n",
    "say_hello()"
   ]
  },
  {
   "cell_type": "markdown",
   "id": "0a8ff70d",
   "metadata": {},
   "source": [
    "default value"
   ]
  },
  {
   "cell_type": "code",
   "execution_count": 7,
   "id": "b66bed32",
   "metadata": {},
   "outputs": [
    {
     "name": "stdout",
     "output_type": "stream",
     "text": [
      "hi friend\n"
     ]
    }
   ],
   "source": [
    "def say_hello(name = \"friend\"):\n",
    "    print(f\"hi {name}\")\n",
    "\n",
    "say_hello()"
   ]
  },
  {
   "cell_type": "code",
   "execution_count": 8,
   "id": "ad2e0f77",
   "metadata": {},
   "outputs": [
    {
     "name": "stdout",
     "output_type": "stream",
     "text": [
      "hi Bella\n"
     ]
    }
   ],
   "source": [
    "say_hello(\"Bella\")"
   ]
  },
  {
   "cell_type": "code",
   "execution_count": 9,
   "id": "477ee79b",
   "metadata": {},
   "outputs": [
    {
     "data": {
      "text/plain": [
       "(1, -5)"
      ]
     },
     "execution_count": 9,
     "metadata": {},
     "output_type": "execute_result"
    }
   ],
   "source": [
    "def smallest(number1, number2):\n",
    "    if number1 > number2:\n",
    "        return number2\n",
    "    return number1\n",
    "\n",
    "smallest(1,5), smallest(5,-5)"
   ]
  },
  {
   "cell_type": "markdown",
   "id": "5fddc3e0",
   "metadata": {},
   "source": [
    "keyword argument"
   ]
  },
  {
   "cell_type": "code",
   "execution_count": 11,
   "id": "f8930a5b",
   "metadata": {},
   "outputs": [
    {
     "data": {
      "text/plain": [
       "7"
      ]
     },
     "execution_count": 11,
     "metadata": {},
     "output_type": "execute_result"
    }
   ],
   "source": [
    "def count_words(text):\n",
    "    words = text.split()\n",
    "    return len(words)\n",
    "\n",
    "count_words(text = \"I stand on the shoulders of giants\")"
   ]
  },
  {
   "cell_type": "markdown",
   "id": "79263676",
   "metadata": {},
   "source": [
    "arbitrary arguments"
   ]
  },
  {
   "cell_type": "code",
   "execution_count": 12,
   "id": "e05bbf9e",
   "metadata": {},
   "outputs": [
    {
     "name": "stdout",
     "output_type": "stream",
     "text": [
      "(1, 2, 3)\n"
     ]
    }
   ],
   "source": [
    "def my_mean(*numbers): #meaning you can put in as many arguments as you want\n",
    "    print(numbers)\n",
    "\n",
    "\n",
    "my_mean(1,2,3)"
   ]
  },
  {
   "cell_type": "code",
   "execution_count": 15,
   "id": "2d2ca22f",
   "metadata": {},
   "outputs": [
    {
     "data": {
      "text/plain": [
       "4.0"
      ]
     },
     "execution_count": 15,
     "metadata": {},
     "output_type": "execute_result"
    }
   ],
   "source": [
    "def my_mean(*numbers): \n",
    "    sum_ = 0\n",
    "    for number in numbers:\n",
    "        sum_ += number\n",
    "    return sum_/len(numbers)\n",
    "\n",
    "my_mean(1,4,5,4,7,3)"
   ]
  },
  {
   "cell_type": "markdown",
   "id": "0ac86c18",
   "metadata": {},
   "source": [
    "unpacking arguments"
   ]
  },
  {
   "cell_type": "code",
   "execution_count": null,
   "id": "9f939713",
   "metadata": {},
   "outputs": [
    {
     "name": "stdout",
     "output_type": "stream",
     "text": [
      "hi bella, yoiu are 4 years old\n"
     ]
    }
   ],
   "source": [
    "def say_hello(name, age):\n",
    "    print(f\"hi {name}, yoiu are {age} years old\")\n",
    "\n",
    "pet = (\"bella\", 4)\n",
    "\n",
    "say_hello(*pet) #the star means you unpack the values inside into the function"
   ]
  },
  {
   "cell_type": "markdown",
   "id": "c069cf2b",
   "metadata": {},
   "source": [
    "lambda function insida a function \n"
   ]
  },
  {
   "cell_type": "code",
   "execution_count": 19,
   "id": "8d879b50",
   "metadata": {},
   "outputs": [],
   "source": [
    "def extract_data(filename):\n",
    "    with open(filename, \"r\") as file:\n",
    "        data = file.readlines()\n",
    "\n",
    "        print(data)\n",
    "\n",
    "\n"
   ]
  },
  {
   "cell_type": "code",
   "execution_count": null,
   "id": "2ede9272",
   "metadata": {},
   "outputs": [],
   "source": []
  },
  {
   "cell_type": "code",
   "execution_count": null,
   "id": "272baaf5",
   "metadata": {},
   "outputs": [],
   "source": []
  },
  {
   "cell_type": "code",
   "execution_count": null,
   "id": "39b76aa7",
   "metadata": {},
   "outputs": [],
   "source": []
  }
 ],
 "metadata": {
  "kernelspec": {
   "display_name": "Python_Anja_Scherwall_DE25_Klass",
   "language": "python",
   "name": "python3"
  },
  "language_info": {
   "codemirror_mode": {
    "name": "ipython",
    "version": 3
   },
   "file_extension": ".py",
   "mimetype": "text/x-python",
   "name": "python",
   "nbconvert_exporter": "python",
   "pygments_lexer": "ipython3",
   "version": "3.12.10"
  }
 },
 "nbformat": 4,
 "nbformat_minor": 5
}
