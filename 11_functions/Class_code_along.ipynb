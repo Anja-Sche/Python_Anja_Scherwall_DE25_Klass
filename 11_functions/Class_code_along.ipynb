{
 "cells": [
  {
   "cell_type": "markdown",
   "id": "ed86fd8d",
   "metadata": {},
   "source": [
    "# Functions\n",
    "- for resuable code"
   ]
  },
  {
   "cell_type": "markdown",
   "id": "982b2b66",
   "metadata": {},
   "source": [
    "##### create a function and understand termonologies\n"
   ]
  },
  {
   "cell_type": "code",
   "execution_count": null,
   "id": "1c8eb8ea",
   "metadata": {},
   "outputs": [],
   "source": [
    "# create a simple example of function\n",
    "def square(x): # use keyword def; square is the function name; x is the parameter\n",
    "    result = x**2  # statements \n",
    "    return result  # return block defines the output"
   ]
  },
  {
   "cell_type": "code",
   "execution_count": null,
   "id": "40871a5b",
   "metadata": {},
   "outputs": [
    {
     "data": {
      "text/plain": [
       "25"
      ]
     },
     "execution_count": 2,
     "metadata": {},
     "output_type": "execute_result"
    }
   ],
   "source": [
    "# call for a function\n",
    "square(5)  # cite the function name; () is the callable;  argument (the value that you put in)"
   ]
  },
  {
   "cell_type": "code",
   "execution_count": 4,
   "id": "a86d9cb4",
   "metadata": {},
   "outputs": [
    {
     "data": {
      "text/plain": [
       "<function __main__.square(x)>"
      ]
     },
     "execution_count": 4,
     "metadata": {},
     "output_type": "execute_result"
    }
   ],
   "source": [
    "square"
   ]
  },
  {
   "cell_type": "markdown",
   "id": "78f67c75",
   "metadata": {},
   "source": [
    "##### Positional argument"
   ]
  },
  {
   "cell_type": "code",
   "execution_count": 8,
   "id": "78543972",
   "metadata": {},
   "outputs": [],
   "source": [
    "def my_fruits(fruit_like, fruit_hate):\n",
    "    print(f\"I like to eat {fruit_like}\")\n",
    "    print(f\"But I hate to eat {fruit_hate}\")\n",
    "    return None # python will add this line if you don't have return block"
   ]
  },
  {
   "cell_type": "code",
   "execution_count": 9,
   "id": "9d9ca9ea",
   "metadata": {},
   "outputs": [
    {
     "name": "stdout",
     "output_type": "stream",
     "text": [
      "I like to eat apple\n",
      "But I hate to eat orange\n"
     ]
    }
   ],
   "source": [
    "# suppose I like to eat oranges and hate to eat apples\n",
    "# check out what is the problem in the order of the arguments below\n",
    "my_fruits(\"apple\", \"orange\")"
   ]
  },
  {
   "cell_type": "markdown",
   "id": "9d7ee22a",
   "metadata": {},
   "source": [
    "##### Keyword argument"
   ]
  },
  {
   "cell_type": "code",
   "execution_count": null,
   "id": "99847aa2",
   "metadata": {},
   "outputs": [
    {
     "name": "stdout",
     "output_type": "stream",
     "text": [
      "I like to eat orange\n",
      "But I hate to eat apple\n"
     ]
    }
   ],
   "source": [
    "# if you don't want to depend on the position of the arguments, also provide the parameter names\n",
    "my_fruits(fruit_hate= \"apple\", fruit_like= \"orange\")"
   ]
  },
  {
   "cell_type": "code",
   "execution_count": null,
   "id": "3fcc774b",
   "metadata": {},
   "outputs": [
    {
     "ename": "TypeError",
     "evalue": "my_fruits() takes 2 positional arguments but 3 were given",
     "output_type": "error",
     "traceback": [
      "\u001b[31m---------------------------------------------------------------------------\u001b[39m",
      "\u001b[31mTypeError\u001b[39m                                 Traceback (most recent call last)",
      "\u001b[36mCell\u001b[39m\u001b[36m \u001b[39m\u001b[32mIn[11]\u001b[39m\u001b[32m, line 2\u001b[39m\n\u001b[32m      1\u001b[39m \u001b[38;5;66;03m# what if I provide 3 fruits\u001b[39;00m\n\u001b[32m----> \u001b[39m\u001b[32m2\u001b[39m \u001b[43mmy_fruits\u001b[49m\u001b[43m(\u001b[49m\u001b[33;43m\"\u001b[39;49m\u001b[33;43mapple\u001b[39;49m\u001b[33;43m\"\u001b[39;49m\u001b[43m,\u001b[49m\u001b[43m \u001b[49m\u001b[33;43m\"\u001b[39;49m\u001b[33;43morange\u001b[39;49m\u001b[33;43m\"\u001b[39;49m\u001b[43m,\u001b[49m\u001b[43m \u001b[49m\u001b[33;43m\"\u001b[39;49m\u001b[33;43mStrawberry\u001b[39;49m\u001b[33;43m\"\u001b[39;49m\u001b[43m)\u001b[49m\n",
      "\u001b[31mTypeError\u001b[39m: my_fruits() takes 2 positional arguments but 3 were given"
     ]
    }
   ],
   "source": [
    "# what if I provide 3 fruits\n",
    "# due to the error we need to think about other ways to take care of unknown number of arguments\n",
    "my_fruits(\"apple\", \"orange\", \"Strawberry\")"
   ]
  },
  {
   "cell_type": "markdown",
   "id": "783bccc7",
   "metadata": {},
   "source": [
    "##### Unknown number of positional arguments"
   ]
  },
  {
   "cell_type": "code",
   "execution_count": 1,
   "id": "63f7bae5",
   "metadata": {},
   "outputs": [],
   "source": [
    "# suppose that I want to print out all fruits that are inputed as arguments to a function\n",
    "# we use a symbole * in the parameter\n",
    "\n",
    "def print_fruits(*fruits): # * has two meanings: positional arguments, the nr of arguments will be unnown\n",
    "    for fruit in fruits:\n",
    "        print(fruit)\n",
    "    return type(fruits)"
   ]
  },
  {
   "cell_type": "code",
   "execution_count": 2,
   "id": "cd4a8184",
   "metadata": {},
   "outputs": [
    {
     "name": "stdout",
     "output_type": "stream",
     "text": [
      "Apple\n",
      "Orange\n",
      "strawberry\n",
      "grapes\n"
     ]
    },
    {
     "data": {
      "text/plain": [
       "tuple"
      ]
     },
     "execution_count": 2,
     "metadata": {},
     "output_type": "execute_result"
    }
   ],
   "source": [
    "print_fruits(\"Apple\", \"Orange\", \"strawberry\", \"grapes\")"
   ]
  },
  {
   "cell_type": "markdown",
   "id": "3ffbc910",
   "metadata": {},
   "source": [
    "##### Unknown number of keyword arguments"
   ]
  },
  {
   "cell_type": "code",
   "execution_count": 3,
   "id": "44ce5576",
   "metadata": {},
   "outputs": [],
   "source": [
    "def print_nr_fruits(**fruits):\n",
    "    for key, value in fruits.items():\n",
    "        print(key, value)\n",
    "    return type(fruits)"
   ]
  },
  {
   "cell_type": "code",
   "execution_count": 4,
   "id": "e3234a97",
   "metadata": {},
   "outputs": [
    {
     "name": "stdout",
     "output_type": "stream",
     "text": [
      "fruit1 orange\n",
      "fruit2 apple\n"
     ]
    },
    {
     "data": {
      "text/plain": [
       "dict"
      ]
     },
     "execution_count": 4,
     "metadata": {},
     "output_type": "execute_result"
    }
   ],
   "source": [
    "print_nr_fruits(fruit1 = \"orange\", fruit2=\"apple\")  # key is provided when calling for the function"
   ]
  }
 ],
 "metadata": {
  "kernelspec": {
   "display_name": "Python_Anja_Scherwall_DE25_Klass (3.12.10)",
   "language": "python",
   "name": "python3"
  },
  "language_info": {
   "codemirror_mode": {
    "name": "ipython",
    "version": 3
   },
   "file_extension": ".py",
   "mimetype": "text/x-python",
   "name": "python",
   "nbconvert_exporter": "python",
   "pygments_lexer": "ipython3",
   "version": "3.12.10"
  }
 },
 "nbformat": 4,
 "nbformat_minor": 5
}
