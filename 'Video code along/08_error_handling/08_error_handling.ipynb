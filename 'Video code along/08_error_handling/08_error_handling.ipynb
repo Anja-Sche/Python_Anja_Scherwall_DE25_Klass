{
 "cells": [
  {
   "cell_type": "markdown",
   "id": "3c403ff8",
   "metadata": {},
   "source": [
    "# Error handling"
   ]
  },
  {
   "cell_type": "markdown",
   "id": "37667b3e",
   "metadata": {},
   "source": [
    "syntax error"
   ]
  },
  {
   "cell_type": "code",
   "execution_count": 2,
   "id": "67c65161",
   "metadata": {},
   "outputs": [
    {
     "ename": "SyntaxError",
     "evalue": "expected ':' (2316895122.py, line 1)",
     "output_type": "error",
     "traceback": [
      "  \u001b[36mCell\u001b[39m\u001b[36m \u001b[39m\u001b[32mIn[2]\u001b[39m\u001b[32m, line 1\u001b[39m\n\u001b[31m    \u001b[39m\u001b[31mif 5 < 7\u001b[39m\n            ^\n\u001b[31mSyntaxError\u001b[39m\u001b[31m:\u001b[39m expected ':'\n"
     ]
    }
   ],
   "source": [
    "if 5 < 7\n",
    "    print(\"5 is less than 7\")"
   ]
  },
  {
   "cell_type": "markdown",
   "id": "e61cf960",
   "metadata": {},
   "source": [
    "eception errors or run time errors"
   ]
  },
  {
   "cell_type": "code",
   "execution_count": 3,
   "id": "8dc60270",
   "metadata": {},
   "outputs": [
    {
     "ename": "TypeError",
     "evalue": "'list' object is not callable",
     "output_type": "error",
     "traceback": [
      "\u001b[31m---------------------------------------------------------------------------\u001b[39m",
      "\u001b[31mTypeError\u001b[39m                                 Traceback (most recent call last)",
      "\u001b[36mCell\u001b[39m\u001b[36m \u001b[39m\u001b[32mIn[3]\u001b[39m\u001b[32m, line 2\u001b[39m\n\u001b[32m      1\u001b[39m numbers = \u001b[38;5;28mlist\u001b[39m(\u001b[38;5;28mrange\u001b[39m(\u001b[32m10\u001b[39m))\n\u001b[32m----> \u001b[39m\u001b[32m2\u001b[39m \u001b[43mnumbers\u001b[49m\u001b[43m(\u001b[49m\u001b[32;43m11\u001b[39;49m\u001b[43m)\u001b[49m\n",
      "\u001b[31mTypeError\u001b[39m: 'list' object is not callable"
     ]
    }
   ],
   "source": [
    "numbers = list(range(10))\n",
    "numbers(11)"
   ]
  },
  {
   "cell_type": "markdown",
   "id": "04595ce8",
   "metadata": {},
   "source": [
    "logocal error"
   ]
  },
  {
   "cell_type": "code",
   "execution_count": null,
   "id": "49f5775b",
   "metadata": {},
   "outputs": [
    {
     "name": "stdout",
     "output_type": "stream",
     "text": [
      "15.707963267948966\n"
     ]
    }
   ],
   "source": [
    "import numpy as np\n",
    "\n",
    "area_circle = lambda radius: np.pi*radius\n",
    "\n",
    "print(area_circle(5))\n",
    "\n",
    "#these errors are harder to find"
   ]
  },
  {
   "cell_type": "markdown",
   "id": "11365c95",
   "metadata": {},
   "source": [
    "# try - except"
   ]
  },
  {
   "cell_type": "code",
   "execution_count": 10,
   "id": "b7ad2b06",
   "metadata": {},
   "outputs": [
    {
     "name": "stdout",
     "output_type": "stream",
     "text": [
      "Ivalid input: could not convert string to float: 'five'\n"
     ]
    }
   ],
   "source": [
    "age = input(\"Enter your age: \")\n",
    "\n",
    "try:\n",
    "    age = float(age) #testar om detta fungerar (om det funkar, kör detta block)\n",
    "    if not 0 <= age < 125:\n",
    "        raise ValueError(\"Age must be between 0 and 125\") \n",
    "    print(f\"Your age is {age} yeras old\")\n",
    "except ValueError as e: #om inte hoppar hit och kör detta block\n",
    "    print(f\"Ivalid input: {e}\")\n",
    "\n"
   ]
  },
  {
   "cell_type": "code",
   "execution_count": 11,
   "id": "df92a4c3",
   "metadata": {},
   "outputs": [
    {
     "name": "stdout",
     "output_type": "stream",
     "text": [
      "Ivalid input: could not convert string to float: 'five'\n",
      "Ivalid input: Age must be between 0 and 125\n",
      "Your age is 27.0 yeras old\n"
     ]
    }
   ],
   "source": [
    "while True:\n",
    "    age = input(\"Enter your age: \")\n",
    "\n",
    "    try:\n",
    "        age = float(age) \n",
    "        if not 0 <= age < 125:\n",
    "            raise ValueError(\"Age must be between 0 and 125\") \n",
    "        print(f\"Your age is {age} yeras old\")\n",
    "        break #om inget går fel kommer while loopen stanna här \n",
    "    except ValueError as e: \n",
    "        print(f\"Ivalid input: {e}\") #om något blir fel kommer loopen starta om "
   ]
  }
 ],
 "metadata": {
  "kernelspec": {
   "display_name": "Python_Anja_Scherwall_DE25_Klass",
   "language": "python",
   "name": "python3"
  },
  "language_info": {
   "codemirror_mode": {
    "name": "ipython",
    "version": 3
   },
   "file_extension": ".py",
   "mimetype": "text/x-python",
   "name": "python",
   "nbconvert_exporter": "python",
   "pygments_lexer": "ipython3",
   "version": "3.12.10"
  }
 },
 "nbformat": 4,
 "nbformat_minor": 5
}
