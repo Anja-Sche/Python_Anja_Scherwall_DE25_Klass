{
 "cells": [
  {
   "cell_type": "markdown",
   "id": "d76d6303",
   "metadata": {},
   "source": [
    "# Polymorphism OOP"
   ]
  },
  {
   "cell_type": "code",
   "execution_count": 15,
   "id": "6e9d573a",
   "metadata": {},
   "outputs": [
    {
     "data": {
      "text/plain": [
       "3"
      ]
     },
     "execution_count": 15,
     "metadata": {},
     "output_type": "execute_result"
    }
   ],
   "source": [
    "len([1, 2, 3])"
   ]
  },
  {
   "cell_type": "code",
   "execution_count": 16,
   "id": "ada1d3d6",
   "metadata": {},
   "outputs": [
    {
     "data": {
      "text/plain": [
       "3"
      ]
     },
     "execution_count": 16,
     "metadata": {},
     "output_type": "execute_result"
    }
   ],
   "source": [
    "len((1,2,3))"
   ]
  },
  {
   "cell_type": "code",
   "execution_count": 17,
   "id": "202a45a9",
   "metadata": {},
   "outputs": [
    {
     "data": {
      "text/plain": [
       "2"
      ]
     },
     "execution_count": 17,
     "metadata": {},
     "output_type": "execute_result"
    }
   ],
   "source": [
    "len({1,4,1}) #set give unique values"
   ]
  },
  {
   "cell_type": "code",
   "execution_count": 18,
   "id": "bf5d7fc5",
   "metadata": {},
   "outputs": [
    {
     "data": {
      "text/plain": [
       "5"
      ]
     },
     "execution_count": 18,
     "metadata": {},
     "output_type": "execute_result"
    }
   ],
   "source": [
    "len(\"hello\")"
   ]
  },
  {
   "cell_type": "code",
   "execution_count": 19,
   "id": "20e2a5ad",
   "metadata": {},
   "outputs": [
    {
     "data": {
      "text/plain": [
       "5"
      ]
     },
     "execution_count": 19,
     "metadata": {},
     "output_type": "execute_result"
    }
   ],
   "source": [
    "2+3"
   ]
  },
  {
   "cell_type": "code",
   "execution_count": 20,
   "id": "ef2bbf90",
   "metadata": {},
   "outputs": [
    {
     "data": {
      "text/plain": [
       "'23'"
      ]
     },
     "execution_count": 20,
     "metadata": {},
     "output_type": "execute_result"
    }
   ],
   "source": [
    "\"2\"+\"3\""
   ]
  },
  {
   "cell_type": "code",
   "execution_count": 21,
   "id": "5a16bf1f",
   "metadata": {},
   "outputs": [
    {
     "ename": "TypeError",
     "evalue": "can only concatenate str (not \"int\") to str",
     "output_type": "error",
     "traceback": [
      "\u001b[31m---------------------------------------------------------------------------\u001b[39m",
      "\u001b[31mTypeError\u001b[39m                                 Traceback (most recent call last)",
      "\u001b[36mCell\u001b[39m\u001b[36m \u001b[39m\u001b[32mIn[21]\u001b[39m\u001b[32m, line 1\u001b[39m\n\u001b[32m----> \u001b[39m\u001b[32m1\u001b[39m \u001b[33;43m\"\u001b[39;49m\u001b[33;43m2\u001b[39;49m\u001b[33;43m\"\u001b[39;49m\u001b[43m+\u001b[49m\u001b[43m \u001b[49m\u001b[32;43m3\u001b[39;49m \u001b[38;5;66;03m#different types does not work\u001b[39;00m\n",
      "\u001b[31mTypeError\u001b[39m: can only concatenate str (not \"int\") to str"
     ]
    }
   ],
   "source": [
    "\"2\"+ 3 #different types does not work"
   ]
  },
  {
   "cell_type": "code",
   "execution_count": null,
   "id": "4a8fa667",
   "metadata": {},
   "outputs": [
    {
     "data": {
      "text/plain": [
       "10"
      ]
     },
     "execution_count": 9,
     "metadata": {},
     "output_type": "execute_result"
    }
   ],
   "source": [
    "2*5 "
   ]
  },
  {
   "cell_type": "code",
   "execution_count": null,
   "id": "f152e728",
   "metadata": {},
   "outputs": [
    {
     "data": {
      "text/plain": [
       "'22222'"
      ]
     },
     "execution_count": 10,
     "metadata": {},
     "output_type": "execute_result"
    }
   ],
   "source": [
    "\"2\"*5 #str * int =repetition"
   ]
  },
  {
   "cell_type": "code",
   "execution_count": null,
   "id": "4d917252",
   "metadata": {},
   "outputs": [
    {
     "ename": "TypeError",
     "evalue": "can't multiply sequence by non-int of type 'float'",
     "output_type": "error",
     "traceback": [
      "\u001b[31m---------------------------------------------------------------------------\u001b[39m",
      "\u001b[31mTypeError\u001b[39m                                 Traceback (most recent call last)",
      "\u001b[36mCell\u001b[39m\u001b[36m \u001b[39m\u001b[32mIn[11]\u001b[39m\u001b[32m, line 1\u001b[39m\n\u001b[32m----> \u001b[39m\u001b[32m1\u001b[39m \u001b[33;43m\"\u001b[39;49m\u001b[33;43m2\u001b[39;49m\u001b[33;43m\"\u001b[39;49m\u001b[43m*\u001b[49m\u001b[32;43m5.2\u001b[39;49m\n",
      "\u001b[31mTypeError\u001b[39m: can't multiply sequence by non-int of type 'float'"
     ]
    }
   ],
   "source": [
    "\"2\"*5.2"
   ]
  },
  {
   "cell_type": "markdown",
   "id": "886cce71",
   "metadata": {},
   "source": [
    "## Polymorphism in class methods"
   ]
  },
  {
   "cell_type": "code",
   "execution_count": null,
   "id": "e7303ecf",
   "metadata": {},
   "outputs": [
    {
     "name": "stdout",
     "output_type": "stream",
     "text": [
      "I am a fish, with name Pelle\n",
      "blupp blupp blupp\n",
      "I am a fox, with name Ylvis, no one knows how I sound\n"
     ]
    }
   ],
   "source": [
    "class Fish:\n",
    "    def __init__(self, name):\n",
    "        self.name=name\n",
    "\n",
    "    def __str__(self):\n",
    "        return f\"I am a fish, with name {self.name}\"\n",
    "\n",
    "    def speak(self):\n",
    "        print(\"blupp blupp blupp\")\n",
    "\n",
    "class Fox:\n",
    "    def __init__(self, name):\n",
    "        self.name=name\n",
    "\n",
    "    def __str__(self):\n",
    "        return f\"I am a fox, with name {self.name}, no one knows how I sound\"\n",
    "\n",
    "    def speak(self):\n",
    "        NotImplemented\n",
    "\n",
    "animals = (Fish(\"Pelle\"), Fox(\"Ylvis\"))\n",
    "\n",
    "for animal in animals:\n",
    "    print(animal)\n",
    "    animal.speak()"
   ]
  },
  {
   "cell_type": "markdown",
   "id": "64d7bae0",
   "metadata": {},
   "source": [
    "## Operator overloading\n",
    "\n",
    "| Operator           | Dunder Method |\n",
    "| ------------------ | ----------- |\n",
    "| +            |\\_\\_add\\_\\_(self, other)             |\n",
    "| -            |\\_\\_sub\\_\\_(self, other)             |\n",
    "| *            |\\_\\_mul\\_\\_(self, other)             |\n",
    "| /            |\\_\\_div\\_\\_(self, other)             |\n",
    "| //           |\\_\\_floordiv\\_\\_(self, other)             |\n",
    "| %            |\\_\\_mod\\_\\_(self, other)             |\n",
    "| **           |\\_\\_pow\\_\\_(self, other)             |\n",
    "| <            |\\_\\_lt\\_\\_(self, other)             |\n",
    "| <=           |\\_\\_le\\_\\_(self, other)             |\n",
    "| >            |\\_\\_gt\\_\\_(self, other)             |\n",
    "| >=           |\\_\\_ge\\_\\_(self, other)             |\n",
    "| ==           |\\_\\_eq\\_\\_(self, other)             |\n",
    "\n",
    " in order to operator overload we need to implement their dunder method"
   ]
  },
  {
   "cell_type": "code",
   "execution_count": 24,
   "id": "3a073e4e",
   "metadata": {},
   "outputs": [
    {
     "data": {
      "text/plain": [
       "<__main__.Vector at 0x25eff816b40>"
      ]
     },
     "execution_count": 24,
     "metadata": {},
     "output_type": "execute_result"
    }
   ],
   "source": [
    "import matplotlib.pyplot as plt\n",
    "\n",
    "class Vector:\n",
    "    def __init__(self, *numbers: float) -> None: #*args come in as a tuple\n",
    "        for number in numbers:\n",
    "            if not isinstance(number, (float,int)):\n",
    "                raise TypeError(f\"{number} is not a valid number in a vector\")\n",
    "\n",
    "        if not len(numbers): \n",
    "            raise ValueError(\"-vectors can't be empty\") \n",
    "\n",
    "        self._numbers = tuple(float(number) for number in numbers)\n",
    "\n",
    "v1 = Vector(1,2,3)\n",
    "v1"
   ]
  },
  {
   "cell_type": "code",
   "execution_count": null,
   "id": "cbf2d5b2",
   "metadata": {},
   "outputs": [
    {
     "data": {
      "text/plain": [
       "(1.0, 2.0, 3.0)"
      ]
     },
     "execution_count": 25,
     "metadata": {},
     "output_type": "execute_result"
    }
   ],
   "source": [
    "v1._numbers #we should not do this"
   ]
  },
  {
   "cell_type": "code",
   "execution_count": null,
   "id": "f5ebeed3",
   "metadata": {},
   "outputs": [
    {
     "data": {
      "text/plain": [
       "(2.0, 4.0, 5.0)"
      ]
     },
     "execution_count": 28,
     "metadata": {},
     "output_type": "execute_result"
    }
   ],
   "source": [
    "class Vector:\n",
    "    def __init__(self, *numbers: float) -> None: #*args come in as a tuple\n",
    "        for number in numbers:\n",
    "            if not isinstance(number, (float,int)):\n",
    "                raise TypeError(f\"{number} is not a valid number in a vector\")\n",
    "\n",
    "        if not len(numbers): \n",
    "            raise ValueError(\"-vectors can't be empty\") \n",
    "\n",
    "        self._numbers = tuple(float(number) for number in numbers)\n",
    "\n",
    "    @property\n",
    "    def numbers(self) -> tuple:\n",
    "        return self._numbers\n",
    "\n",
    "v2 = Vector(2,4,5)\n",
    "v2.numbers"
   ]
  },
  {
   "cell_type": "code",
   "execution_count": 29,
   "id": "48fada66",
   "metadata": {},
   "outputs": [
    {
     "name": "stdout",
     "output_type": "stream",
     "text": [
      "property 'numbers' of 'Vector' object has no setter\n"
     ]
    }
   ],
   "source": [
    "try:\n",
    "    v2.numbers = (1,2)\n",
    "except AttributeError as err:\n",
    "    print(err)"
   ]
  },
  {
   "cell_type": "code",
   "execution_count": 53,
   "id": "3e811b84",
   "metadata": {},
   "outputs": [
    {
     "data": {
      "text/plain": [
       "(Vector (-1.0, -2.0, -2.0), 3, -1.0, -2.0)"
      ]
     },
     "execution_count": 53,
     "metadata": {},
     "output_type": "execute_result"
    }
   ],
   "source": [
    "class Vector:\n",
    "    def __init__(self, *numbers: float) -> None: #*args come in as a tuple\n",
    "        for number in numbers:\n",
    "            if not isinstance(number, (float,int)):\n",
    "                raise TypeError(f\"{number} is not a valid number in a vector\")\n",
    "\n",
    "        if not len(numbers): \n",
    "            raise ValueError(\"Vectors can't be empty\") \n",
    "\n",
    "        self._numbers = tuple(float(number) for number in numbers)\n",
    "\n",
    "    @property\n",
    "    def numbers(self) -> tuple:\n",
    "        return self._numbers\n",
    "\n",
    "    def __add__(self, other: Vector) -> Vector:\n",
    "        if self.validate_vectors(other):\n",
    "            numbers = (num1 + num2 for num1, num2 in zip(self.numbers, other.numbers))\n",
    "            return Vector(*numbers)\n",
    "\n",
    "\n",
    "    def __sub__(self, other: Vector) -> Vector:\n",
    "        if self.validate_vectors(other):\n",
    "            numbers = (num1 - num2 for num1, num2 in zip(self.numbers, other.numbers))\n",
    "            return Vector(*numbers)\n",
    "    \n",
    "    def __mul__(self, value: int | float) -> Vector:\n",
    "        if not isinstance(value, (int, float)):\n",
    "            raise TypeError (f\"The value for multiplication must be int or float, not {type(value)}\")\n",
    "\n",
    "        numbers = (value*number for number in self.numbers)\n",
    "        return Vector(*numbers)\n",
    "\n",
    "\n",
    "    def validate_vectors(self, other: Vector) -> bool:\n",
    "        if not isinstance(other, Vector) or len(other) != len(self):\n",
    "            raise TypeError(f\"Both must be Vector and have the same length\")\n",
    "        return len(self) == len(other)\n",
    "\n",
    "    def __len__(self) -> int:\n",
    "        return len(self.numbers)\n",
    "\n",
    "\n",
    "    def __repr__(self) -> str:\n",
    "        return f\"Vector {self.numbers}\"\n",
    "\n",
    "    def __getitem__(self, item) -> float:\n",
    "        return self.numbers[item]\n",
    "\n",
    "\n",
    "v1 = Vector(1,2,3)\n",
    "v2 = Vector(2,4,5)\n",
    "\n",
    "v3 = v1 - v2\n",
    "\n",
    "v3, len(v3), v3[0], v3[-1]"
   ]
  },
  {
   "cell_type": "code",
   "execution_count": 37,
   "id": "0f04cbb9",
   "metadata": {},
   "outputs": [
    {
     "name": "stdout",
     "output_type": "stream",
     "text": [
      "Both must be Vector and have the same length\n"
     ]
    }
   ],
   "source": [
    "v4 = Vector(1,4,61,1)\n",
    "try:\n",
    "    v3 + v4\n",
    "except TypeError as err:\n",
    "    print(err)"
   ]
  },
  {
   "cell_type": "code",
   "execution_count": 54,
   "id": "b6b8bd56",
   "metadata": {},
   "outputs": [
    {
     "data": {
      "text/plain": [
       "Vector (5.0, 10.0, 15.0)"
      ]
     },
     "execution_count": 54,
     "metadata": {},
     "output_type": "execute_result"
    }
   ],
   "source": [
    "v1*5"
   ]
  },
  {
   "cell_type": "code",
   "execution_count": 55,
   "id": "8af79406",
   "metadata": {},
   "outputs": [
    {
     "ename": "TypeError",
     "evalue": "unsupported operand type(s) for *: 'int' and 'Vector'",
     "output_type": "error",
     "traceback": [
      "\u001b[31m---------------------------------------------------------------------------\u001b[39m",
      "\u001b[31mTypeError\u001b[39m                                 Traceback (most recent call last)",
      "\u001b[36mCell\u001b[39m\u001b[36m \u001b[39m\u001b[32mIn[55]\u001b[39m\u001b[32m, line 1\u001b[39m\n\u001b[32m----> \u001b[39m\u001b[32m1\u001b[39m \u001b[32;43m5\u001b[39;49m\u001b[43m*\u001b[49m\u001b[43mv1\u001b[49m\n",
      "\u001b[31mTypeError\u001b[39m: unsupported operand type(s) for *: 'int' and 'Vector'"
     ]
    }
   ],
   "source": [
    "5*v1"
   ]
  },
  {
   "cell_type": "code",
   "execution_count": 81,
   "id": "1802a8b5",
   "metadata": {},
   "outputs": [
    {
     "name": "stdout",
     "output_type": "stream",
     "text": [
      "__mul__ called\n"
     ]
    },
    {
     "data": {
      "text/plain": [
       "Vector (5.0, 10.0, 15.0)"
      ]
     },
     "execution_count": 81,
     "metadata": {},
     "output_type": "execute_result"
    }
   ],
   "source": [
    "class Vector:\n",
    "    def __init__(self, *numbers: float) -> None:  # *args come in as a tuple\n",
    "        for number in numbers:\n",
    "            if not isinstance(number, (float, int)):\n",
    "                raise TypeError(f\"{number} is not a valid number in a vector\")\n",
    "\n",
    "        if not len(numbers):\n",
    "            raise ValueError(\"Vectors can't be empty\")\n",
    "\n",
    "        self._numbers = tuple(float(number) for number in numbers)\n",
    "\n",
    "    @property\n",
    "    def numbers(self) -> tuple:\n",
    "        return self._numbers\n",
    "\n",
    "    def __add__(self, other: Vector) -> Vector:\n",
    "        if self.validate_vectors(other):\n",
    "            numbers = (num1 + num2 for num1, num2 in zip(self.numbers, other.numbers))\n",
    "            return Vector(*numbers)\n",
    "\n",
    "    def __sub__(self, other: Vector) -> Vector:\n",
    "        if self.validate_vectors(other):\n",
    "            numbers = (num1 - num2 for num1, num2 in zip(self.numbers, other.numbers))\n",
    "            return Vector(*numbers)\n",
    "\n",
    "    def __mul__(self, value: int | float) -> Vector:\n",
    "        print(\"__mul__ called\")\n",
    "        if not isinstance(value, (int, float)):\n",
    "            raise TypeError(\n",
    "                f\"The value for multiplication must be int or float, not {type(value)}\"\n",
    "            )\n",
    "\n",
    "        numbers = (value * number for number in self.numbers)\n",
    "        return Vector(*numbers)\n",
    "\n",
    "    def __rmul__(self, value: int | float) -> Vector:\n",
    "        print(\"__rmul__ called\")\n",
    "        return self * value\n",
    "\n",
    "    def validate_vectors(self, other: Vector) -> bool:\n",
    "        if not isinstance(other, Vector) or len(other) != len(self):\n",
    "            raise TypeError(f\"Both must be Vector and have the same length\")\n",
    "        return len(self) == len(other)\n",
    "\n",
    "    def __len__(self) -> int:\n",
    "        return len(self.numbers)\n",
    "\n",
    "    def __repr__(self) -> str:\n",
    "        return f\"Vector {self.numbers}\"\n",
    "\n",
    "    def __getitem__(self, item) -> float:\n",
    "        return self.numbers[item]\n",
    "\n",
    "    def plot(self, *others: Vector) -> None:\n",
    "        X, Y = [], []\n",
    "\n",
    "        for vector in tuple(others):\n",
    "            # validaton for 2D\n",
    "            X.append(vector[0])\n",
    "            Y.append(vector[1])\n",
    "\n",
    "        X.append(self[0])\n",
    "        Y.append(self[1])\n",
    "\n",
    "        originX = originY = tuple(0 for _ in range(len(X)))\n",
    "\n",
    "        _, ax = plt.subplots(1)\n",
    "\n",
    "        ax.quiver(originX, originY, X, Y, scale_units=\"xy\", angles=\"xy\", scale=1)\n",
    "        ax.set(\n",
    "            xlabel=\"x\",\n",
    "            ylabel=\"y\",\n",
    "            title=\"{self}, {others}\",\n",
    "            xlim=(0, 10),\n",
    "            ylim=(0, 10),\n",
    "        )\n",
    "        ax.grid()\n",
    "\n",
    "\n",
    "v1 = Vector(1, 2, 3)\n",
    "\n",
    "v1 * 5"
   ]
  },
  {
   "cell_type": "code",
   "execution_count": 82,
   "id": "02d733ed",
   "metadata": {},
   "outputs": [
    {
     "data": {
      "image/png": "[encoded data removed]",
      "text/plain": [
       "<Figure size 640x480 with 1 Axes>"
      ]
     },
     "metadata": {},
     "output_type": "display_data"
    }
   ],
   "source": [
    "v2 = Vector(3,4)\n",
    "v3= Vector(2,6)\n",
    "v4= v2+v3\n",
    "\n",
    "v4.plot(v2,v3)"
   ]
  },
  {
   "cell_type": "code",
   "execution_count": 69,
   "id": "14be9841",
   "metadata": {},
   "outputs": [
    {
     "name": "stdout",
     "output_type": "stream",
     "text": [
      "__rmul__ called\n",
      "__mul__ called\n"
     ]
    },
    {
     "data": {
      "text/plain": [
       "Vector (5.0, 10.0, 15.0)"
      ]
     },
     "execution_count": 69,
     "metadata": {},
     "output_type": "execute_result"
    }
   ],
   "source": [
    "5*v1"
   ]
  }
 ],
 "metadata": {
  "kernelspec": {
   "display_name": "Python_Anja_Scherwall_DE25_Klass (3.12.10)",
   "language": "python",
   "name": "python3"
  },
  "language_info": {
   "codemirror_mode": {
    "name": "ipython",
    "version": 3
   },
   "file_extension": ".py",
   "mimetype": "text/x-python",
   "name": "python",
   "nbconvert_exporter": "python",
   "pygments_lexer": "ipython3",
   "version": "3.12.10"
  }
 },
 "nbformat": 4,
 "nbformat_minor": 5
}
