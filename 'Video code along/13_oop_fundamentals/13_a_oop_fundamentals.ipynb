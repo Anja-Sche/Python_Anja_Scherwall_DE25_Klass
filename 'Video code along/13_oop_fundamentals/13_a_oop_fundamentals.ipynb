{
 "cells": [
  {
   "cell_type": "markdown",
   "id": "973eb9bc",
   "metadata": {},
   "source": [
    "# OOP fundamentals"
   ]
  },
  {
   "cell_type": "code",
   "execution_count": 2,
   "id": "56c6b5a6",
   "metadata": {},
   "outputs": [
    {
     "data": {
      "text/plain": [
       "<__main__.Admission at 0x1fbac5a2570>"
      ]
     },
     "execution_count": 2,
     "metadata": {},
     "output_type": "execute_result"
    }
   ],
   "source": [
    "class Admission:\n",
    "    def __init__(self, school, program, name, accept):\n",
    "        self.school = school\n",
    "        self.program = program\n",
    "        self.name = name\n",
    "        self.accept = accept\n",
    "\n",
    "\n",
    "person1 = Admission(\"cool school\", \"AI\", accept = True, name = \"Anja\")\n",
    "person1"
   ]
  },
  {
   "cell_type": "code",
   "execution_count": 4,
   "id": "ec95afd1",
   "metadata": {},
   "outputs": [
    {
     "data": {
      "text/plain": [
       "('cool school', 'Anja')"
      ]
     },
     "execution_count": 4,
     "metadata": {},
     "output_type": "execute_result"
    }
   ],
   "source": [
    "person1.school, person1.name"
   ]
  },
  {
   "cell_type": "code",
   "execution_count": 6,
   "id": "64f2e002",
   "metadata": {},
   "outputs": [
    {
     "data": {
      "text/plain": [
       "'Jimmy'"
      ]
     },
     "execution_count": 6,
     "metadata": {},
     "output_type": "execute_result"
    }
   ],
   "source": [
    "person1.name = \"Jimmy\"\n",
    "person1.name"
   ]
  },
  {
   "cell_type": "code",
   "execution_count": 7,
   "id": "6daa7547",
   "metadata": {},
   "outputs": [
    {
     "data": {
      "text/plain": [
       "('Data engineering', 'AI')"
      ]
     },
     "execution_count": 7,
     "metadata": {},
     "output_type": "execute_result"
    }
   ],
   "source": [
    "person2 = Admission(\"cooler school\", \"Data engineering\", accept = False, name = \"Anja\")\n",
    "person2.program, person1.program"
   ]
  },
  {
   "cell_type": "code",
   "execution_count": 8,
   "id": "7f0ff7fe",
   "metadata": {},
   "outputs": [
    {
     "data": {
      "text/plain": [
       "False"
      ]
     },
     "execution_count": 8,
     "metadata": {},
     "output_type": "execute_result"
    }
   ],
   "source": [
    "person1==person2"
   ]
  },
  {
   "cell_type": "code",
   "execution_count": 10,
   "id": "9206fe4c",
   "metadata": {},
   "outputs": [
    {
     "data": {
      "text/plain": [
       "('0x1fbac5a2570', '0x1fbac549d30')"
      ]
     },
     "execution_count": 10,
     "metadata": {},
     "output_type": "execute_result"
    }
   ],
   "source": [
    "hex(id(person1)), hex(id(person2))"
   ]
  },
  {
   "cell_type": "markdown",
   "id": "10e8e907",
   "metadata": {},
   "source": [
    "`__repr__`"
   ]
  },
  {
   "cell_type": "code",
   "execution_count": null,
   "id": "fe90f3fe",
   "metadata": {},
   "outputs": [
    {
     "data": {
      "text/plain": [
       "Admission(school='cool school',program='Java', name='Victor Freeze', accept='True')"
      ]
     },
     "execution_count": 12,
     "metadata": {},
     "output_type": "execute_result"
    }
   ],
   "source": [
    "class Admission:\n",
    "    def __init__(self, school, program, name, accept):\n",
    "        self.school = school\n",
    "        self.program = program\n",
    "        self.name = name\n",
    "        self.accept = accept\n",
    "\n",
    "    def __repr__(self):\n",
    "        return f\"Admission(school='{self.school}',program='{self.program}', name='{self.name}', accept='{self.accept}')\"\n",
    "\n",
    "student = Admission(\"cool school\", \"Java\", \"Victor Freeze\", True)        \n",
    "student"
   ]
  },
  {
   "cell_type": "code",
   "execution_count": 13,
   "id": "ca90fa4b",
   "metadata": {},
   "outputs": [
    {
     "name": "stdout",
     "output_type": "stream",
     "text": [
      "Admission(school='cool school',program='Java', name='Victor Freeze', accept='True')\n"
     ]
    }
   ],
   "source": [
    "print(student)"
   ]
  }
 ],
 "metadata": {
  "kernelspec": {
   "display_name": "Python_Anja_Scherwall_DE25_Klass",
   "language": "python",
   "name": "python3"
  },
  "language_info": {
   "codemirror_mode": {
    "name": "ipython",
    "version": 3
   },
   "file_extension": ".py",
   "mimetype": "text/x-python",
   "name": "python",
   "nbconvert_exporter": "python",
   "pygments_lexer": "ipython3",
   "version": "3.12.10"
  }
 },
 "nbformat": 4,
 "nbformat_minor": 5
}
